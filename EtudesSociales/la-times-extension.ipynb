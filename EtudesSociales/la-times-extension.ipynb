{
 "cells": [
  {
   "cell_type": "markdown",
   "metadata": {},
   "source": [
    "![Callysto.ca Banner](https://github.com/callysto/curriculum-notebooks/blob/master/callysto-notebook-banner-top.jpg?raw=true)\n",
    "\n",
    "<a href=\"https://hub.callysto.ca/jupyter/hub/user-redirect/git-pull?repo=https%3A%2F%2Fgithub.com%2Fcallysto%2Fcahiers-de-programmes&branch=master&subPath=EtudesSociales/la-times-extension.ipynb&depth=1\" target=\"_parent\"><img src=\"https://raw.githubusercontent.com/callysto/cahiers-de-programmes/master/bouton-callysto.svg?sanitize=true\" width=\"123\" height=\"24\" alt=\"Open in Callysto\"/></a>"
   ]
  },
  {
   "cell_type": "code",
   "execution_count": 1,
   "metadata": {},
   "outputs": [
    {
     "data": {
      "text/html": [
       "        <script type=\"text/javascript\">\n",
       "        window.PlotlyConfig = {MathJaxConfig: 'local'};\n",
       "        if (window.MathJax) {MathJax.Hub.Config({SVG: {font: \"STIX-Web\"}});}\n",
       "        if (typeof require !== 'undefined') {\n",
       "        require.undef(\"plotly\");\n",
       "        requirejs.config({\n",
       "            paths: {\n",
       "                'plotly': ['https://cdn.plot.ly/plotly-2.9.0.min']\n",
       "            }\n",
       "        });\n",
       "        require(['plotly'], function(Plotly) {\n",
       "            window._Plotly = Plotly;\n",
       "        });\n",
       "        }\n",
       "        </script>\n",
       "        "
      ]
     },
     "metadata": {},
     "output_type": "display_data"
    }
   ],
   "source": [
    "# Import Python tools\n",
    "from IPython.display import HTML\n",
    "from IPython import display \n",
    "from ipywidgets import widgets\n",
    "from ipywidgets import interactive\n",
    "\n",
    "# import calculate\n",
    "import numpy as np\n",
    "import pandas as pd\n",
    "%matplotlib inline\n",
    "import matplotlib.pyplot as plt\n",
    "\n",
    "from plotly.offline import init_notebook_mode, iplot\n",
    "import chart_studio.plotly as py\n",
    "import plotly.graph_objs as go\n",
    "\n",
    "\n",
    "init_notebook_mode(connected=True)         \n",
    "import warnings\n",
    "\n",
    "warnings.filterwarnings(\"ignore\")"
   ]
  },
  {
   "cell_type": "markdown",
   "metadata": {
    "lang": "fr"
   },
   "source": [
    "# Introduction\n",
    "Ce cahier est une extension et, à certains égards, une version plus transparente (ne serait-ce qu'en plaçant les ajustements de l'inflation au centre) de l'article de Los Angeles disponible le 17 mars 2017 [\"Les salaires augmentent dans les fermes californiennes. veux le travail\"](http://www.latimes.com/projects/la-fi-farms-immigration/). Dans ce cahier, nous l’avons modifié afin que vous puissiez appliquer vous-même les ajustements en fonction de l’inflation et comparer plusieurs salaires d’État. De plus, nous avons ajouté les industries \"Traitement des données, hébergement et services connexes\" à l'ensemble de données pour comparer la croissance des salaires entre les deux."
   ]
  },
  {
   "cell_type": "code",
   "execution_count": 2,
   "metadata": {},
   "outputs": [],
   "source": [
    "\"\"\"\n",
    "Adjusts dollar figures for inflation using the Consumer Price Index.\n",
    "\n",
    "Note: This function and the cpi values are taken directly from the LA times article. The\n",
    "one change we have made is that our inflation adjustmetns are not just to 2015 (although, \n",
    "that might be the only year you're interested in for inflation adjustments) \n",
    "\"\"\"\n",
    "cpi = {\n",
    "  \"1990\": 130.658,\n",
    "  \"1991\": 136.167,\n",
    "  \"1992\": 140.308,\n",
    "  \"1993\": 144.475,\n",
    "  \"1994\": 148.225,\n",
    "  \"1995\": 152.383,\n",
    "  \"1996\": 156.858,\n",
    "  \"1997\": 160.525,\n",
    "  \"1998\": 163.008,\n",
    "  \"1999\": 166.583,\n",
    "  \"2000\": 172.192,\n",
    "  \"2001\": 177.042,\n",
    "  \"2002\": 179.867,\n",
    "  \"2003\": 184.0,\n",
    "  \"2004\": 188.908,\n",
    "  \"2005\": 195.267,\n",
    "  \"2006\": 201.558,\n",
    "  \"2007\": 207.344,\n",
    "  \"2008\": 215.254,\n",
    "  \"2009\": 214.565,\n",
    "  \"2010\": 218.076,\n",
    "  \"2011\": 224.93,\n",
    "  \"2012\": 229.6,\n",
    "  \"2013\": 232.962,\n",
    "  \"2014\": 236.712,\n",
    "  \"2015\": 237.0\n",
    "}\n",
    "\n",
    "def convert_to_year(value, year, to_year):\n",
    "    return (value * cpi[str(to_year)]) / cpi[str(year)] "
   ]
  },
  {
   "cell_type": "code",
   "execution_count": 3,
   "metadata": {},
   "outputs": [
    {
     "data": {
      "text/html": [
       "<div>\n",
       "<style scoped>\n",
       "    .dataframe tbody tr th:only-of-type {\n",
       "        vertical-align: middle;\n",
       "    }\n",
       "\n",
       "    .dataframe tbody tr th {\n",
       "        vertical-align: top;\n",
       "    }\n",
       "\n",
       "    .dataframe thead th {\n",
       "        text-align: right;\n",
       "    }\n",
       "</style>\n",
       "<table border=\"1\" class=\"dataframe\">\n",
       "  <thead>\n",
       "    <tr style=\"text-align: right;\">\n",
       "      <th></th>\n",
       "      <th>year</th>\n",
       "      <th>area_fips</th>\n",
       "      <th>area_title</th>\n",
       "      <th>industry_group</th>\n",
       "      <th>annual_avg_emplvl</th>\n",
       "      <th>total_annual_wages_2015</th>\n",
       "      <th>avg_annual_pay_2015</th>\n",
       "    </tr>\n",
       "  </thead>\n",
       "  <tbody>\n",
       "    <tr>\n",
       "      <th>0</th>\n",
       "      <td>1990</td>\n",
       "      <td>01000</td>\n",
       "      <td>Alabama -- Statewide</td>\n",
       "      <td>crops</td>\n",
       "      <td>4206</td>\n",
       "      <td>54467330</td>\n",
       "      <td>12949.912030</td>\n",
       "    </tr>\n",
       "    <tr>\n",
       "      <th>1</th>\n",
       "      <td>1990</td>\n",
       "      <td>01000</td>\n",
       "      <td>Alabama -- Statewide</td>\n",
       "      <td>data</td>\n",
       "      <td>3606</td>\n",
       "      <td>66339110</td>\n",
       "      <td>18396.869107</td>\n",
       "    </tr>\n",
       "    <tr>\n",
       "      <th>2</th>\n",
       "      <td>1990</td>\n",
       "      <td>01000</td>\n",
       "      <td>Alabama -- Statewide</td>\n",
       "      <td>total</td>\n",
       "      <td>1600920</td>\n",
       "      <td>32767666541</td>\n",
       "      <td>20468.022475</td>\n",
       "    </tr>\n",
       "    <tr>\n",
       "      <th>3</th>\n",
       "      <td>1990</td>\n",
       "      <td>02000</td>\n",
       "      <td>Alaska -- Statewide</td>\n",
       "      <td>crops</td>\n",
       "      <td>124</td>\n",
       "      <td>1710636</td>\n",
       "      <td>13795.451613</td>\n",
       "    </tr>\n",
       "    <tr>\n",
       "      <th>4</th>\n",
       "      <td>1990</td>\n",
       "      <td>02000</td>\n",
       "      <td>Alaska -- Statewide</td>\n",
       "      <td>data</td>\n",
       "      <td>214</td>\n",
       "      <td>4770228</td>\n",
       "      <td>22290.785047</td>\n",
       "    </tr>\n",
       "  </tbody>\n",
       "</table>\n",
       "</div>"
      ],
      "text/plain": [
       "   year area_fips            area_title industry_group  annual_avg_emplvl  \\\n",
       "0  1990     01000  Alabama -- Statewide          crops               4206   \n",
       "1  1990     01000  Alabama -- Statewide           data               3606   \n",
       "2  1990     01000  Alabama -- Statewide          total            1600920   \n",
       "3  1990     02000   Alaska -- Statewide          crops                124   \n",
       "4  1990     02000   Alaska -- Statewide           data                214   \n",
       "\n",
       "   total_annual_wages_2015  avg_annual_pay_2015  \n",
       "0                 54467330         12949.912030  \n",
       "1                 66339110         18396.869107  \n",
       "2              32767666541         20468.022475  \n",
       "3                  1710636         13795.451613  \n",
       "4                  4770228         22290.785047  "
      ]
     },
     "execution_count": 3,
     "metadata": {},
     "output_type": "execute_result"
    }
   ],
   "source": [
    "# Read in state-level data\n",
    "# Because the data set takes a while to create, this is a version that we're hosting on our cloud. \n",
    "# This is slightly modified to remove the inflation correction in pre processing, as we're going to \n",
    "# show it directly here. \n",
    "state_df = pd.read_csv(\"https://swift-yeg.cloud.cybera.ca:8080/v1/AUTH_233e84cd313945c992b4b585f7b9125d/callysto-open-data/transformed_state.csv\", dtype={\"area_fips\": \"str\"})\n",
    "state_df.head()"
   ]
  },
  {
   "cell_type": "markdown",
   "metadata": {
    "lang": "fr"
   },
   "source": [
    "Le tableau ci-dessus affiche les premières entrées de la table de données agrégée et filtrée de l'analyse des temps LA. Nous avons également ajouté un groupe sectoriel \"données\" pour des analyses futures, mais l'objectif de ce cahier concerne uniquement les cultures. Ce qui est le plus important à voir ici, c'est que cette table de données contient des données provenant de plus d'états que la Californie. Cela signifie que nous pouvons maintenant comparer plusieurs états entre eux."
   ]
  },
  {
   "cell_type": "markdown",
   "metadata": {
    "lang": "fr"
   },
   "source": [
    "## Reproduction des résultats du LA Times\n",
    "\n",
    "Notre première tâche est de reproduire l'analyse du LA Times ici. Avant de commencer à comparer différents états / appliquer différents calculs. Premièrement, nous copions et collons sans vergogne l’analyse du LA Times à partir du bloc-notes disponible sur leur dépôt de hub git."
   ]
  },
  {
   "cell_type": "code",
   "execution_count": 4,
   "metadata": {},
   "outputs": [],
   "source": [
    "# Filter that down to just California crop workers\n",
    "# Here 06 is the beginning code of California. \n",
    "ca_state_df = state_df[state_df.area_fips.str.startswith(\"06\")]\n",
    "# Now we're just filtering down to only crops, and we're indexing it by year.\n",
    "# an index can be thought of as the \"row number\" of the data table \n",
    "ca_state_crops = ca_state_df[ca_state_df.industry_group == 'crops'].set_index(\"year\")\n"
   ]
  },
  {
   "cell_type": "markdown",
   "metadata": {
    "lang": "fr"
   },
   "source": [
    "Tout d'abord, voir la rémunération annuelle moyenne des travailleurs de la Californie dans la cellule ci-dessous"
   ]
  },
  {
   "cell_type": "code",
   "execution_count": 5,
   "metadata": {},
   "outputs": [
    {
     "data": {
      "text/plain": [
       "29631.585333450963"
      ]
     },
     "execution_count": 5,
     "metadata": {},
     "output_type": "execute_result"
    }
   ],
   "source": [
    "ca_state_crops.at[2015, \"avg_annual_pay_2015\"]"
   ]
  },
  {
   "cell_type": "markdown",
   "metadata": {
    "lang": "fr"
   },
   "source": [
    "L'étape suivante consiste à comparer cette valeur à la moyenne des travailleurs agricoles rémunérés en 1990"
   ]
  },
  {
   "cell_type": "code",
   "execution_count": 6,
   "metadata": {},
   "outputs": [
    {
     "data": {
      "text/plain": [
       "12471.487764018"
      ]
     },
     "execution_count": 6,
     "metadata": {},
     "output_type": "execute_result"
    }
   ],
   "source": [
    "ca_state_crops.at[1990, \"avg_annual_pay_2015\"]"
   ]
  },
  {
   "cell_type": "markdown",
   "metadata": {
    "lang": "fr"
   },
   "source": [
    "Bien que cela semble être une amélioration significative, nous devons nous rappeler que les dollars de 1990 valent plus que nos dollars de 2015 gonflés.\n",
    "\n",
    "---\n",
    "### Essaye le\n",
    "\n",
    "1. En utilisant les cellules ci-dessus, quelles pièces devriez-vous modifier pour voir les salaires en Californie dans une autre année? Essaye le.\n",
    "\n",
    "---\n",
    "\n",
    "Pour faire une comparaison plus juste, nous devons d'abord ajuster manuellement la valeur ci-dessus pour l'inflation. Nous notons que dans l’article du LA Times, l’ajustement de l’inflation a été effectué en coulisse. Avec aucune intention d'induire en erreur dans leur analyse, c'était pour la commodité de leur présentation des données. Les cellules ci-dessous ajustent ces valeurs pour la comparaison."
   ]
  },
  {
   "cell_type": "code",
   "execution_count": 7,
   "metadata": {},
   "outputs": [
    {
     "name": "stdout",
     "output_type": "stream",
     "text": [
      "1990 Wage = $ 22621.979519602828 \n",
      "2015 Wage = $ 29631.585333450963\n"
     ]
    }
   ],
   "source": [
    "wage_1990 = ca_state_crops.at[1990, \"avg_annual_pay_2015\"]\n",
    "wage_2015 = ca_state_crops.at[2015, \"avg_annual_pay_2015\"]\n",
    "\n",
    "adjusted_wage_1990 = convert_to_year(value=wage_1990, year=1990, to_year=2015)\n",
    "\n",
    "print(\"1990 Wage = $\", adjusted_wage_1990, \"\\n2015 Wage = $\", wage_2015)\n",
    "\n"
   ]
  },
  {
   "cell_type": "markdown",
   "metadata": {
    "lang": "fr"
   },
   "source": [
    "Là où nous voyons maintenant que même après ajustement pour tenir compte de l'inflation, les agriculteurs californiens ont vu une augmentation de salaire depuis 1990.\n",
    "\n",
    "---\n",
    "### Essaye le\n",
    " - Utilisez les cellules ci-dessus pour comparer différentes années aux salaires de 2015. Quelles valeurs devrez-vous changer pour ajuster l’inflation et obtenir des salaires corrects?\n",
    " \n",
    " ---\n",
    "\n",
    "L'étape suivante consiste à reproduire la variation en pourcentage des salaires (ajustée en fonction de l'inflation) de 2010 à 2015 et à la comparer aux augmentations de salaires dans l'ensemble de l'État. Nous pouvons faire cela comme le LA Times en utilisant leur module de calcul ci-dessous, d'où vient la fonction `percent_change`."
   ]
  },
  {
   "cell_type": "code",
   "execution_count": 8,
   "metadata": {},
   "outputs": [
    {
     "name": "stdout",
     "output_type": "stream",
     "text": [
      "Crop percent change = 13.29%\n"
     ]
    }
   ],
   "source": [
    "wage_increase_crop = ca_state_crops.at[2015, \"avg_annual_pay_2015\"] / convert_to_year(ca_state_crops.at[2010, \"avg_annual_pay_2015\"], 2010,2015) * 100 - 100\n",
    "print(f\"Crop percent change = {round(wage_increase_crop,2)}%\")"
   ]
  },
  {
   "cell_type": "code",
   "execution_count": 9,
   "metadata": {},
   "outputs": [
    {
     "name": "stdout",
     "output_type": "stream",
     "text": [
      "State percent change = 6.54%\n"
     ]
    }
   ],
   "source": [
    "ca_state_overall = ca_state_df[ca_state_df.industry_group == 'total'].set_index(\"year\")\n",
    "\n",
    "state_wage_increase = ca_state_overall.at[2015, \"avg_annual_pay_2015\"] / convert_to_year(ca_state_overall.at[2010, \"avg_annual_pay_2015\"], 2010,2015) * 100 - 100\n",
    "print(f\"State percent change = {round(state_wage_increase, 2)}%\")"
   ]
  },
  {
   "cell_type": "markdown",
   "metadata": {
    "lang": "fr"
   },
   "source": [
    "Où cela a reproduit l'analyse du LA Times sur cette section\n",
    "\n",
    "---\n",
    "### Essaye le\n",
    "- Quel a été le pourcentage de variation des salaires ajustés en fonction de l’inflation entre 1990 et 2015? Qu'en est-il de la non-inflation ajustée?\n",
    "\n",
    "---\n",
    "\n",
    "\n",
    "On voit alors que les salaires des ouvriers agricoles ont augmenté (légèrement) plus de deux fois le taux de salaire en Californie dans le même laps de temps"
   ]
  },
  {
   "cell_type": "code",
   "execution_count": 10,
   "metadata": {},
   "outputs": [
    {
     "name": "stdout",
     "output_type": "stream",
     "text": [
      "2.030279716550187\n"
     ]
    }
   ],
   "source": [
    "print(wage_increase_crop/state_wage_increase)"
   ]
  },
  {
   "cell_type": "markdown",
   "metadata": {
    "lang": "fr"
   },
   "source": [
    "## Reproduire le graphique\n",
    "\n",
    "Nous sommes maintenant en mesure de reproduire le graphique de l'article du LA Times, comme indiqué ci-dessous. La première ligne de code ci-dessous ajoute une autre colonne à notre tableau de données des salaires ajustés en fonction de l’inflation avant que nous ne la représentions."
   ]
  },
  {
   "cell_type": "code",
   "execution_count": 11,
   "metadata": {},
   "outputs": [
    {
     "data": {
      "image/png": "[encoded data removed]",
      "text/plain": [
       "<Figure size 720x432 with 1 Axes>"
      ]
     },
     "metadata": {
      "needs_background": "light"
     },
     "output_type": "display_data"
    }
   ],
   "source": [
    "# Reproduce the graph\n",
    "# First we create an inflation adjusted column.\n",
    "# all lambda does for our purposes a way to address a function to pass\n",
    "# row values to our function.  Row.name is the year as that's what we reindexed\n",
    "# our data frame to earlier .\n",
    "ca_state_crops[\"inflation_adj\"] = ca_state_crops.apply(lambda row: \n",
    "                                                       convert_to_year(row.avg_annual_pay_2015, \n",
    "                                                                       row.name, \n",
    "                                                                       2015),\n",
    "                                                       axis=1)\n",
    "\n",
    "ca_state_crops.reset_index().plot(kind='line',\n",
    "                                  x='year', \n",
    "                                  y=['inflation_adj'], \n",
    "                                  figsize=(10, 6),\n",
    "                                  )\n",
    "plt.legend([\"Adjusted to 2015 dollars\"])\n",
    "plt.ylabel(\"US Dollars\")\n",
    "plt.show()"
   ]
  },
  {
   "cell_type": "markdown",
   "metadata": {
    "lang": "fr"
   },
   "source": [
    "Où cela a réduit le graphique de l'article de LA Time, même si c'est peut-être moins esthétique.\n",
    "\n",
    "---\n",
    "### Essaye le\n",
    "\n",
    "- Essayez d’ajouter la courbe non corrigée de l’inflation au graphique ci-dessus. Cela peut se faire en deux étapes\n",
    "    1. Recherchez la ligne suivante dans le code ci-dessus\n",
    "    ```python\n",
    "    y = ['inflation_adj']\n",
    "    ```\n",
    "    et le changer pour\n",
    "    ```python\n",
    "    y = ['inflation_adj', avg_annual_pay_2015]\n",
    "    ```\n",
    "    2. Recherchez la ligne suivante dans le code ci-dessus\n",
    "    ```python\n",
    "       plt.legend([\"Adjusted to 2015 dollars\"])\n",
    "    ```\n",
    "    et le changer pour\n",
    "    ```python\n",
    "       plt.legend([\"Adjusted to 2015 dollars\", \"your label here\"])\n",
    "    ```\n",
    "\n",
    "---\n",
    "\n",
    "Mais maintenant, cela pourrait devenir plus intéressant si nous commençons à comparer directement les salaires des différentes cultures. À partir de là, nous divergons maintenant de l'analyse du LA Times. Les informations de tous les états peuvent être affichées en utilisant le widget ci-dessous en ajustant les menus déroulants."
   ]
  },
  {
   "cell_type": "code",
   "execution_count": 12,
   "metadata": {},
   "outputs": [],
   "source": [
    "def make_df(state, kind):\n",
    "    out_df = state_df[state_df.area_title.str.match(state)]\n",
    "    out_df = out_df[out_df.industry_group == str(kind)].set_index(\"year\")\n",
    "    \n",
    "    out_df[\"inflation_adj\"] = out_df.apply(lambda row: \n",
    "                                                convert_to_year(row.avg_annual_pay_2015, \n",
    "                                                row.name, \n",
    "                                                2015),\n",
    "                                                axis=1)\n",
    "    \n",
    "    return out_df\n",
    "\n",
    "def state_comparison(state1, state2, kind, Show_actual = True):\n",
    "    # Make a temporary frame for the state and reset index so\n",
    "    # years are their own column\n",
    "    state1_df = make_df(state1,kind)\n",
    "    state1_df = state1_df.reset_index()\n",
    "    if state2:\n",
    "        state2_df = make_df(state2,kind)\n",
    "        state2_df = state2_df.reset_index()\n",
    "    fig = plt.figure(figsize=(12, 8))\n",
    "   \n",
    "    plt.plot(state1_df['year'], state1_df['inflation_adj'])\n",
    "    \n",
    "    difference1 = state1_df.at[25, \"inflation_adj\"]-state1_df.at[0, \"inflation_adj\"]\n",
    "        \n",
    "    plt.legend([ \"Adjusted to 2015 dollars\", \"No Adjustment for Inflation\"])\n",
    "    plt.ylabel(\"US Dollars\", size =16)\n",
    "    plt.xlabel(\"Year\", size=16)\n",
    "    # Should we want to look at another state, we plot that too and\n",
    "    # adjust the trace legends\n",
    "    \n",
    "    if state2:\n",
    "        plt.plot(state2_df['year'], state2_df['inflation_adj'])\n",
    "\n",
    "    else:\n",
    "         plt.legend([\"Adjusted to 2015 dollars\",\"No Adjustment for Inflation\"])\n",
    "            \n",
    "    if Show_actual:\n",
    "        plt.plot(state1_df['year'], state1_df['avg_annual_pay_2015'])\n",
    "        plt.legend([\"Adjusted to 2015 dollars\",\"No Adjustment for Inflation\"])\n",
    "        if state2:\n",
    "            plt.plot(state2_df['year'], state2_df['avg_annual_pay_2015'])\n",
    "            \n",
    "    \n",
    "    if state2:\n",
    "        difference2 = state2_df.at[25, \"inflation_adj\"]-state2_df.at[0, \"inflation_adj\"]\n",
    "        plt.legend([\n",
    "            ' '.join([state1.rstrip(\" Statewide\"), \"Adjusted to 2015 dollars\"]),\n",
    "            ' '.join([state2.rstrip(\" Statewide\"), \"Adjusted to 2015 dollars\"]),\n",
    "            ' '.join([state1.rstrip(\" Statewide\"),\"No Adjustment for Inflation\"]),\n",
    "            ' '.join([state2.rstrip(\" Statewide\"),\"No Adjustment for Inflation\"])\n",
    "          \n",
    "        ])\n",
    "        \n",
    "        plt.title(\" \".join([state1.rstrip(\" Statewide\"),\n",
    "                            \"Change in pay (2015 dollars) = $\",\n",
    "                            str(round(difference1,2)), '\\n',\n",
    "                            state2.rstrip(\" Statewide\"),\n",
    "                            \"Change in pay (2015 dollars) = $\",\n",
    "                            str(round(difference2,2))]))\n",
    "    else:\n",
    "         plt.title(\" \".join([state1.rstrip(\" Statewide\"),\n",
    "                            \"Change in pay (2015 dollars) = $\",\n",
    "                            str(round(difference1,2))]))\n",
    "        \n",
    "                            \n",
    "    plt.show()\n",
    "    \n",
    "    \n",
    "choices = list(state_df[\"area_title\"].unique())[0:-1]\n",
    "choices.remove('District of Columbia')\n",
    "choices2 = [None] + choices"
   ]
  },
  {
   "cell_type": "markdown",
   "metadata": {
    "lang": "fr"
   },
   "source": [
    "En utilisant le widget ci-dessus, vous pouvez comparer les payeurs entre les états et voir les échelles de salaire non modifiées en cliquant sur \"Afficher _\". Vous pouvez également ajuster l'inflation. Si vous comparez la Californie au Minnesota, par exemple, vous remarquerez que les salaires ont augmenté dans les deux États. Fait intéressant, le Minnesota paye les agriculteurs de manière plus constante que la Californie.\n",
    "\n",
    "## Choses à considérer de l'intrigue ci-dessus\n",
    "Vérifiez les traces de tous les états qui vous intéressent. Une question que vous pourriez vous poser pourrait provenir de la trace d'Hawaii une fois ajustée pour tenir compte de l'inflation. L'âge des agriculteurs y a diminué de 1995 à 2004. Une excellente question de recherche pour les élèves pourrait être d'étudier_ pourquoi_ ce pourrait être le cas et quels événements ont mené à ce changement. De plus, Hawaï rebondit après 2005, quels événements ont eu lieu qui pourraient causer cela?\n",
    "\n",
    "D'autres questions intéressantes pourraient être plus fondamentales telles que les salaires réels par rapport à l'inflation ou même en comparant deux états. Certes, une étude de cas intéressante pourrait être Porto Rico, mais cela sera montré plus directement dans la prochaine section.\n",
    "\n",
    "## Quels États ont les salaires les plus élevés et les plus bas?\n",
    "\n",
    "Avec toutes ces données qui semblent être une prochaine question naturelle à poser, et peut-être une question intéressante à poser aux élèves. En utilisant notre base de données déjà établie, trouver ces réponses est simple. Ils sont démontrés ci-dessous."
   ]
  },
  {
   "cell_type": "code",
   "execution_count": 13,
   "metadata": {},
   "outputs": [
    {
     "name": "stdout",
     "output_type": "stream",
     "text": [
      "Minimum pay in 1990 was $ 5661.875759686551\n",
      "Maximum pay in 1990 was $ 33242.68471806703\n"
     ]
    }
   ],
   "source": [
    "crops_df = state_df[state_df.industry_group == 'crops'].dropna(subset=[\"avg_annual_pay_2015\"])\n",
    "\n",
    "# This adds a column of inflation adjusted values.\n",
    "crops_df[\"inflation_adj\"] = crops_df.apply(lambda row: \n",
    "                                           convert_to_year(row.avg_annual_pay_2015, \n",
    "                                           row.year, \n",
    "                                            2015),\n",
    "                                            axis=1)\n",
    "\n",
    "\n",
    "YEAR = 1990\n",
    "\n",
    "\n",
    "\n",
    "# As we've set the index of our table to 'year', we can now pull values from a specified \n",
    "# column at a given year using the 'at' function like so \n",
    "\n",
    "min_pay = crops_df[crops_df.year == YEAR][\"inflation_adj\"].min()\n",
    "max_pay = crops_df[crops_df.year == YEAR][\"inflation_adj\"].max()\n",
    "\n",
    "\n",
    "print(\"Minimum pay in\", YEAR, \"was $\", min_pay)\n",
    "print(\"Maximum pay in\", YEAR, \"was $\", max_pay)"
   ]
  },
  {
   "cell_type": "markdown",
   "metadata": {
    "lang": "fr"
   },
   "source": [
    "Ici, nous avons trouvé le salaire minimum et maximum en 1990 en dollars équivalents de 2015.\n",
    "\n",
    "---\n",
    "### Essaye le\n",
    "- Quelle variable doit être ajustée pour voir différentes années? Essayez de trouver le salaire minimum et maximum en 2015 en modifiant la cellule ci-dessus.\n",
    "- Que pensez-vous que vous devez modifier pour voir le salaire minimum et maximum sans ajustements d’inflation? Visualisez les salaires non ajustés en 1990 en modifiant la cellule ci-dessus.\n",
    "---\n",
    "\n",
    "\n",
    "\n",
    "\n",
    "\n",
    "## Mettre tout cela ensemble dans un tableau\n",
    "Maintenant, les valeurs minimales et maximales sont excellentes, mais ce sera plus intéressant si nous pouvons extraire certaines valeurs et les placer dans un tableau pour une analyse plus approfondie. Une de ces analyses qui pourrait être intéressante est pour chaque année, quel Etat a payé le plus et le moins à ses agriculteurs? Ceci est une autre tâche qui peut être accomplie en utilisant les ordinateurs portables Python et Jupyer."
   ]
  },
  {
   "cell_type": "code",
   "execution_count": 14,
   "metadata": {},
   "outputs": [
    {
     "data": {
      "text/html": [
       "<div>\n",
       "<style scoped>\n",
       "    .dataframe tbody tr th:only-of-type {\n",
       "        vertical-align: middle;\n",
       "    }\n",
       "\n",
       "    .dataframe tbody tr th {\n",
       "        vertical-align: top;\n",
       "    }\n",
       "\n",
       "    .dataframe thead th {\n",
       "        text-align: right;\n",
       "    }\n",
       "</style>\n",
       "<table border=\"1\" class=\"dataframe\">\n",
       "  <thead>\n",
       "    <tr style=\"text-align: right;\">\n",
       "      <th></th>\n",
       "      <th>area_title</th>\n",
       "      <th>avg_annual_pay_2015</th>\n",
       "      <th>inflation_adj</th>\n",
       "    </tr>\n",
       "    <tr>\n",
       "      <th>year</th>\n",
       "      <th></th>\n",
       "      <th></th>\n",
       "      <th></th>\n",
       "    </tr>\n",
       "  </thead>\n",
       "  <tbody>\n",
       "    <tr>\n",
       "      <th>1990</th>\n",
       "      <td>Hawaii -- Statewide</td>\n",
       "      <td>18326.678059</td>\n",
       "      <td>33242.684718</td>\n",
       "    </tr>\n",
       "    <tr>\n",
       "      <th>1991</th>\n",
       "      <td>Hawaii -- Statewide</td>\n",
       "      <td>19839.010696</td>\n",
       "      <td>34529.992839</td>\n",
       "    </tr>\n",
       "    <tr>\n",
       "      <th>1992</th>\n",
       "      <td>Hawaii -- Statewide</td>\n",
       "      <td>20488.176716</td>\n",
       "      <td>34607.419974</td>\n",
       "    </tr>\n",
       "    <tr>\n",
       "      <th>1993</th>\n",
       "      <td>Hawaii -- Statewide</td>\n",
       "      <td>21065.381891</td>\n",
       "      <td>34556.120493</td>\n",
       "    </tr>\n",
       "    <tr>\n",
       "      <th>1994</th>\n",
       "      <td>Hawaii -- Statewide</td>\n",
       "      <td>21858.278255</td>\n",
       "      <td>34949.650507</td>\n",
       "    </tr>\n",
       "    <tr>\n",
       "      <th>1995</th>\n",
       "      <td>Hawaii -- Statewide</td>\n",
       "      <td>22179.137783</td>\n",
       "      <td>34495.026706</td>\n",
       "    </tr>\n",
       "    <tr>\n",
       "      <th>1996</th>\n",
       "      <td>Hawaii -- Statewide</td>\n",
       "      <td>21857.628090</td>\n",
       "      <td>33025.142851</td>\n",
       "    </tr>\n",
       "    <tr>\n",
       "      <th>1997</th>\n",
       "      <td>Hawaii -- Statewide</td>\n",
       "      <td>22308.906956</td>\n",
       "      <td>32936.993917</td>\n",
       "    </tr>\n",
       "    <tr>\n",
       "      <th>1998</th>\n",
       "      <td>Hawaii -- Statewide</td>\n",
       "      <td>22881.607452</td>\n",
       "      <td>33267.943697</td>\n",
       "    </tr>\n",
       "    <tr>\n",
       "      <th>1999</th>\n",
       "      <td>Illinois -- Statewide</td>\n",
       "      <td>23893.711985</td>\n",
       "      <td>33993.923393</td>\n",
       "    </tr>\n",
       "    <tr>\n",
       "      <th>2000</th>\n",
       "      <td>Illinois -- Statewide</td>\n",
       "      <td>25115.903512</td>\n",
       "      <td>34568.790260</td>\n",
       "    </tr>\n",
       "    <tr>\n",
       "      <th>2001</th>\n",
       "      <td>Illinois -- Statewide</td>\n",
       "      <td>25302.025819</td>\n",
       "      <td>33870.946550</td>\n",
       "    </tr>\n",
       "    <tr>\n",
       "      <th>2002</th>\n",
       "      <td>North Dakota -- Statewide</td>\n",
       "      <td>27105.830189</td>\n",
       "      <td>35715.733040</td>\n",
       "    </tr>\n",
       "    <tr>\n",
       "      <th>2003</th>\n",
       "      <td>Missouri -- Statewide</td>\n",
       "      <td>27332.621405</td>\n",
       "      <td>35205.604745</td>\n",
       "    </tr>\n",
       "    <tr>\n",
       "      <th>2004</th>\n",
       "      <td>North Dakota -- Statewide</td>\n",
       "      <td>28156.890771</td>\n",
       "      <td>35325.042415</td>\n",
       "    </tr>\n",
       "    <tr>\n",
       "      <th>2005</th>\n",
       "      <td>Illinois -- Statewide</td>\n",
       "      <td>28262.080481</td>\n",
       "      <td>34302.330009</td>\n",
       "    </tr>\n",
       "    <tr>\n",
       "      <th>2006</th>\n",
       "      <td>Delaware -- Statewide</td>\n",
       "      <td>29706.398950</td>\n",
       "      <td>34929.978226</td>\n",
       "    </tr>\n",
       "    <tr>\n",
       "      <th>2007</th>\n",
       "      <td>South Dakota -- Statewide</td>\n",
       "      <td>32052.550830</td>\n",
       "      <td>36636.963436</td>\n",
       "    </tr>\n",
       "    <tr>\n",
       "      <th>2008</th>\n",
       "      <td>North Dakota -- Statewide</td>\n",
       "      <td>32980.926376</td>\n",
       "      <td>36312.819047</td>\n",
       "    </tr>\n",
       "    <tr>\n",
       "      <th>2009</th>\n",
       "      <td>North Dakota -- Statewide</td>\n",
       "      <td>36332.454317</td>\n",
       "      <td>40131.389897</td>\n",
       "    </tr>\n",
       "    <tr>\n",
       "      <th>2010</th>\n",
       "      <td>North Dakota -- Statewide</td>\n",
       "      <td>36466.521000</td>\n",
       "      <td>39630.979461</td>\n",
       "    </tr>\n",
       "    <tr>\n",
       "      <th>2011</th>\n",
       "      <td>North Dakota -- Statewide</td>\n",
       "      <td>37419.010719</td>\n",
       "      <td>39426.957455</td>\n",
       "    </tr>\n",
       "    <tr>\n",
       "      <th>2012</th>\n",
       "      <td>North Dakota -- Statewide</td>\n",
       "      <td>40945.670349</td>\n",
       "      <td>42265.347878</td>\n",
       "    </tr>\n",
       "    <tr>\n",
       "      <th>2013</th>\n",
       "      <td>North Dakota -- Statewide</td>\n",
       "      <td>40852.216209</td>\n",
       "      <td>41560.319887</td>\n",
       "    </tr>\n",
       "    <tr>\n",
       "      <th>2014</th>\n",
       "      <td>North Dakota -- Statewide</td>\n",
       "      <td>42150.366369</td>\n",
       "      <td>42201.649386</td>\n",
       "    </tr>\n",
       "    <tr>\n",
       "      <th>2015</th>\n",
       "      <td>North Dakota -- Statewide</td>\n",
       "      <td>43011.749729</td>\n",
       "      <td>43011.749729</td>\n",
       "    </tr>\n",
       "  </tbody>\n",
       "</table>\n",
       "</div>"
      ],
      "text/plain": [
       "                     area_title  avg_annual_pay_2015  inflation_adj\n",
       "year                                                               \n",
       "1990        Hawaii -- Statewide         18326.678059   33242.684718\n",
       "1991        Hawaii -- Statewide         19839.010696   34529.992839\n",
       "1992        Hawaii -- Statewide         20488.176716   34607.419974\n",
       "1993        Hawaii -- Statewide         21065.381891   34556.120493\n",
       "1994        Hawaii -- Statewide         21858.278255   34949.650507\n",
       "1995        Hawaii -- Statewide         22179.137783   34495.026706\n",
       "1996        Hawaii -- Statewide         21857.628090   33025.142851\n",
       "1997        Hawaii -- Statewide         22308.906956   32936.993917\n",
       "1998        Hawaii -- Statewide         22881.607452   33267.943697\n",
       "1999      Illinois -- Statewide         23893.711985   33993.923393\n",
       "2000      Illinois -- Statewide         25115.903512   34568.790260\n",
       "2001      Illinois -- Statewide         25302.025819   33870.946550\n",
       "2002  North Dakota -- Statewide         27105.830189   35715.733040\n",
       "2003      Missouri -- Statewide         27332.621405   35205.604745\n",
       "2004  North Dakota -- Statewide         28156.890771   35325.042415\n",
       "2005      Illinois -- Statewide         28262.080481   34302.330009\n",
       "2006      Delaware -- Statewide         29706.398950   34929.978226\n",
       "2007  South Dakota -- Statewide         32052.550830   36636.963436\n",
       "2008  North Dakota -- Statewide         32980.926376   36312.819047\n",
       "2009  North Dakota -- Statewide         36332.454317   40131.389897\n",
       "2010  North Dakota -- Statewide         36466.521000   39630.979461\n",
       "2011  North Dakota -- Statewide         37419.010719   39426.957455\n",
       "2012  North Dakota -- Statewide         40945.670349   42265.347878\n",
       "2013  North Dakota -- Statewide         40852.216209   41560.319887\n",
       "2014  North Dakota -- Statewide         42150.366369   42201.649386\n",
       "2015  North Dakota -- Statewide         43011.749729   43011.749729"
      ]
     },
     "execution_count": 14,
     "metadata": {},
     "output_type": "execute_result"
    }
   ],
   "source": [
    "# First, we add a new column which adjusts each wage to 2015 as we did before. \n",
    "\n",
    "# First, we sort our data frame in ascending order by their average anual pay\n",
    "# before inflation adjustments \n",
    "\n",
    "# Add column which adjusts for inflation\n",
    "\n",
    "crops_df = crops_df.sort_values(\"avg_annual_pay_2015\")\n",
    "crops_df[\"inflation_adj\"] = crops_df.apply(lambda row: \n",
    "                                            convert_to_year(row.avg_annual_pay_2015, \n",
    "                                            row.year, \n",
    "                                            2015),\n",
    "                                            axis=1)\n",
    "\n",
    "\n",
    "# Choose the columns we care about by name\n",
    "columns_to_see = [\"year\",\"area_title\",\"avg_annual_pay_2015\",\"inflation_adj\"]\n",
    "\n",
    "\n",
    "# As our data is already sorted, we now group our data by year, and choose whatever value \n",
    "# in each group using .nth(number)\n",
    "# Note: Group 0 will be the smallest values, group 1 will be the second smallest etc\n",
    "# to find the largest, simply enter -1, to find the second largest enter -2, etc\n",
    "\n",
    "# Note, nth only finds the \"nth position in the list\". Here it cooresponds to minimum and maximum values \n",
    "# because we shorted our data table by value.\n",
    "\n",
    "\n",
    "crops_df[columns_to_see].groupby('year').nth(-1)"
   ]
  },
  {
   "cell_type": "markdown",
   "metadata": {
    "lang": "fr"
   },
   "source": [
    "Où dans le tableau ci-dessus, nous pouvons voir les travailleurs les plus hauts et les plus bas (et tout entre les deux) chaque année.\n",
    "\n",
    "---\n",
    "### Essaye le\n",
    "- La cellule ci-dessus imprime les états les mieux payés chaque année. Pour afficher les états les moins bien payés, essayez ce qui suit:\n",
    "    1. Dans la cellule ci-dessus, trouvez la ligne qui affiche les états les mieux payés\n",
    "    ```python\n",
    "     crops_df[columns_to_see].groupby('year').nth(-1)\n",
    "    ```\n",
    "    et le changer pour\n",
    "    ```python\n",
    "    crops_df[columns_to_see].groupby('year').nth(0)\n",
    "    ```\n",
    "    pour imprimer les états les moins payés. Dans ce cas, le `-1` spécifie le dernier élément de la liste,` -2` spécifierait le deuxième dernier élément, etc.\n",
    "    \n",
    "    2. Changez la même ligne pour\n",
    "   ```python\n",
    "       crops_df[columns_to_see].groupby('year').nth(1)\n",
    "    ```\n",
    "    voir le deuxième état le moins bien payé\n",
    "    \n",
    "    3. Quel État a réalisé le deuxième salaire le plus élevé en 2014?\n",
    "    \n",
    "---\n",
    "\n",
    "## Créer un autre type de tracé interactif\n",
    "Cela pourrait être plus intéressant de le voir résumé dans un graphique qui inclut également l'interactivité de la souris en vol stationnaire afin que nous puissions obtenir plus d'informations à ce sujet. Ceci est résumé ci-dessous."
   ]
  },
  {
   "cell_type": "code",
   "execution_count": 15,
   "metadata": {},
   "outputs": [
    {
     "data": {
      "application/vnd.plotly.v1+json": {
       "config": {
        "linkText": "Export to plot.ly",
        "plotlyServerURL": "https://plot.ly",
        "showLink": false
       },
       "data": [
        {
         "name": "Lowest Paid",
         "text": [
          "Puerto Rico -- Statewide",
          "Puerto Rico -- Statewide",
          "Puerto Rico -- Statewide",
          "Puerto Rico -- Statewide",
          "Puerto Rico -- Statewide",
          "Puerto Rico -- Statewide",
          "Puerto Rico -- Statewide",
          "Puerto Rico -- Statewide",
          "Puerto Rico -- Statewide",
          "Puerto Rico -- Statewide",
          "Puerto Rico -- Statewide",
          "Puerto Rico -- Statewide",
          "Puerto Rico -- Statewide",
          "Puerto Rico -- Statewide",
          "Puerto Rico -- Statewide",
          "Puerto Rico -- Statewide",
          "Puerto Rico -- Statewide",
          "Puerto Rico -- Statewide",
          "Puerto Rico -- Statewide",
          "Puerto Rico -- Statewide",
          "Puerto Rico -- Statewide",
          "Puerto Rico -- Statewide",
          "Puerto Rico -- Statewide",
          "Puerto Rico -- Statewide",
          "Puerto Rico -- Statewide",
          "Puerto Rico -- Statewide"
         ],
         "type": "scatter",
         "x": [
          1990,
          1991,
          1992,
          1993,
          1994,
          1995,
          1996,
          1997,
          1998,
          1999,
          2000,
          2001,
          2002,
          2003,
          2004,
          2005,
          2006,
          2007,
          2008,
          2009,
          2010,
          2011,
          2012,
          2013,
          2014,
          2015
         ],
         "y": [
          5661.875759686551,
          5844.6006775614,
          5820.051135433074,
          5905.291977608393,
          5976.274982420105,
          6043.230742803753,
          7136.649197841813,
          8487.581932836178,
          8820.756060970694,
          9140.987247574683,
          9477.903578070252,
          9533.849619215896,
          9604.025209380192,
          9522.250297153583,
          9137.732230522659,
          8988.386723471933,
          8860.649799985937,
          8967.083468891646,
          9456.662842720682,
          9631.404508875801,
          9871.180088315052,
          9783.512402829982,
          9504.992892284883,
          9299.43781925082,
          9347.609233614507,
          9234.50232764354
         ]
        },
        {
         "name": "Second Lowest Paid",
         "text": [
          "New Mexico -- Statewide",
          "New Mexico -- Statewide",
          "New Mexico -- Statewide",
          "New Mexico -- Statewide",
          "New Mexico -- Statewide",
          "New Mexico -- Statewide",
          "New Mexico -- Statewide",
          "New Mexico -- Statewide",
          "New Mexico -- Statewide",
          "New Mexico -- Statewide",
          "New Mexico -- Statewide",
          "New Mexico -- Statewide",
          "New Mexico -- Statewide",
          "New Mexico -- Statewide",
          "New Mexico -- Statewide",
          "New Mexico -- Statewide",
          "New Mexico -- Statewide",
          "New Mexico -- Statewide",
          "New Mexico -- Statewide",
          "Florida -- Statewide",
          "Virgin Islands -- Statewide",
          "Washington -- Statewide",
          "Alaska -- Statewide",
          "Alaska -- Statewide",
          "Alaska -- Statewide",
          "Alaska -- Statewide"
         ],
         "type": "scatter",
         "x": [
          1990,
          1991,
          1992,
          1993,
          1994,
          1995,
          1996,
          1997,
          1998,
          1999,
          2000,
          2001,
          2002,
          2003,
          2004,
          2005,
          2006,
          2007,
          2008,
          2009,
          2010,
          2011,
          2012,
          2013,
          2014,
          2015
         ],
         "y": [
          13211.423220519386,
          14039.020593739377,
          14409.167601398398,
          13269.180413672178,
          13491.027045160381,
          12936.913458013387,
          13490.207922274549,
          14343.03676871324,
          15610.262408410614,
          16179.340864730533,
          16382.616330430357,
          15860.000419560254,
          15984.631791835198,
          16311.595087345018,
          17202.02182218508,
          18176.96275259965,
          20428.803593638368,
          21469.4175164316,
          22372.264903914456,
          22402.662087018234,
          11470.328387045494,
          22672.653787098236,
          20955.11550029584,
          19854.62801021396,
          20281.03798213536,
          20877.633484162896
         ]
        },
        {
         "name": "Second Highest Paid",
         "text": [
          "Massachusetts -- Statewide",
          "Massachusetts -- Statewide",
          "Massachusetts -- Statewide",
          "Massachusetts -- Statewide",
          "Massachusetts -- Statewide",
          "Massachusetts -- Statewide",
          "Connecticut -- Statewide",
          "Illinois -- Statewide",
          "Illinois -- Statewide",
          "Hawaii -- Statewide",
          "Hawaii -- Statewide",
          "Kansas -- Statewide",
          "Illinois -- Statewide",
          "North Dakota -- Statewide",
          "Illinois -- Statewide",
          "North Dakota -- Statewide",
          "Maryland -- Statewide",
          "Delaware -- Statewide",
          "Iowa -- Statewide",
          "Iowa -- Statewide",
          "South Dakota -- Statewide",
          "South Dakota -- Statewide",
          "South Dakota -- Statewide",
          "South Dakota -- Statewide",
          "Nevada -- Statewide",
          "Nevada -- Statewide"
         ],
         "type": "scatter",
         "x": [
          1990,
          1991,
          1992,
          1993,
          1994,
          1995,
          1996,
          1997,
          1998,
          1999,
          2000,
          2001,
          2002,
          2003,
          2004,
          2005,
          2006,
          2007,
          2008,
          2009,
          2010,
          2011,
          2012,
          2013,
          2014,
          2015
         ],
         "y": [
          32386.85715526595,
          32350.012030747275,
          32918.60626004855,
          31734.235268485954,
          32101.031391849156,
          30824.200006423183,
          30995.008940142277,
          31585.27101235141,
          32966.223161763904,
          33141.61544751867,
          33333.494627546424,
          33100.85691080768,
          34104.32490389308,
          33520.1177994558,
          34007.69845705345,
          33988.52042723665,
          34051.9264361231,
          35219.93186289286,
          35809.97775646232,
          37360.95657302179,
          37458.530070081666,
          37423.01048117963,
          39243.221181055116,
          38713.49430197559,
          39682.63102227793,
          41500.66152597404
         ]
        },
        {
         "name": "Highest Paid",
         "text": [
          "Hawaii -- Statewide",
          "Hawaii -- Statewide",
          "Hawaii -- Statewide",
          "Hawaii -- Statewide",
          "Hawaii -- Statewide",
          "Hawaii -- Statewide",
          "Hawaii -- Statewide",
          "Hawaii -- Statewide",
          "Hawaii -- Statewide",
          "Illinois -- Statewide",
          "Illinois -- Statewide",
          "Illinois -- Statewide",
          "North Dakota -- Statewide",
          "Missouri -- Statewide",
          "North Dakota -- Statewide",
          "Illinois -- Statewide",
          "Delaware -- Statewide",
          "South Dakota -- Statewide",
          "North Dakota -- Statewide",
          "North Dakota -- Statewide",
          "North Dakota -- Statewide",
          "North Dakota -- Statewide",
          "North Dakota -- Statewide",
          "North Dakota -- Statewide",
          "North Dakota -- Statewide",
          "North Dakota -- Statewide"
         ],
         "type": "scatter",
         "x": [
          1990,
          1991,
          1992,
          1993,
          1994,
          1995,
          1996,
          1997,
          1998,
          1999,
          2000,
          2001,
          2002,
          2003,
          2004,
          2005,
          2006,
          2007,
          2008,
          2009,
          2010,
          2011,
          2012,
          2013,
          2014,
          2015
         ],
         "y": [
          33242.68471806703,
          34529.99283895546,
          34607.41997419189,
          34556.12049299562,
          34949.650507142986,
          34495.026705519434,
          33025.142851404846,
          32936.99391669236,
          33267.9436974611,
          33993.923392552366,
          34568.79026000238,
          33870.94655012584,
          35715.733040062834,
          35205.604745100645,
          35325.042415442585,
          34302.3300094141,
          34929.97822552865,
          36636.963436031416,
          36312.81904653872,
          40131.389896932866,
          39630.97946128873,
          39426.95745499974,
          42265.34787750183,
          41560.31988678603,
          42201.64938578098,
          43011.74972885032
         ]
        }
       ],
       "layout": {
        "autosize": true,
        "template": {
         "data": {
          "bar": [
           {
            "error_x": {
             "color": "#2a3f5f"
            },
            "error_y": {
             "color": "#2a3f5f"
            },
            "marker": {
             "line": {
              "color": "#E5ECF6",
              "width": 0.5
             },
             "pattern": {
              "fillmode": "overlay",
              "size": 10,
              "solidity": 0.2
             }
            },
            "type": "bar"
           }
          ],
          "barpolar": [
           {
            "marker": {
             "line": {
              "color": "#E5ECF6",
              "width": 0.5
             },
             "pattern": {
              "fillmode": "overlay",
              "size": 10,
              "solidity": 0.2
             }
            },
            "type": "barpolar"
           }
          ],
          "carpet": [
           {
            "aaxis": {
             "endlinecolor": "#2a3f5f",
             "gridcolor": "white",
             "linecolor": "white",
             "minorgridcolor": "white",
             "startlinecolor": "#2a3f5f"
            },
            "baxis": {
             "endlinecolor": "#2a3f5f",
             "gridcolor": "white",
             "linecolor": "white",
             "minorgridcolor": "white",
             "startlinecolor": "#2a3f5f"
            },
            "type": "carpet"
           }
          ],
          "choropleth": [
           {
            "colorbar": {
             "outlinewidth": 0,
             "ticks": ""
            },
            "type": "choropleth"
           }
          ],
          "contour": [
           {
            "colorbar": {
             "outlinewidth": 0,
             "ticks": ""
            },
            "colorscale": [
             [
              0,
              "#0d0887"
             ],
             [
              0.1111111111111111,
              "#46039f"
             ],
             [
              0.2222222222222222,
              "#7201a8"
             ],
             [
              0.3333333333333333,
              "#9c179e"
             ],
             [
              0.4444444444444444,
              "#bd3786"
             ],
             [
              0.5555555555555556,
              "#d8576b"
             ],
             [
              0.6666666666666666,
              "#ed7953"
             ],
             [
              0.7777777777777778,
              "#fb9f3a"
             ],
             [
              0.8888888888888888,
              "#fdca26"
             ],
             [
              1,
              "#f0f921"
             ]
            ],
            "type": "contour"
           }
          ],
          "contourcarpet": [
           {
            "colorbar": {
             "outlinewidth": 0,
             "ticks": ""
            },
            "type": "contourcarpet"
           }
          ],
          "heatmap": [
           {
            "colorbar": {
             "outlinewidth": 0,
             "ticks": ""
            },
            "colorscale": [
             [
              0,
              "#0d0887"
             ],
             [
              0.1111111111111111,
              "#46039f"
             ],
             [
              0.2222222222222222,
              "#7201a8"
             ],
             [
              0.3333333333333333,
              "#9c179e"
             ],
             [
              0.4444444444444444,
              "#bd3786"
             ],
             [
              0.5555555555555556,
              "#d8576b"
             ],
             [
              0.6666666666666666,
              "#ed7953"
             ],
             [
              0.7777777777777778,
              "#fb9f3a"
             ],
             [
              0.8888888888888888,
              "#fdca26"
             ],
             [
              1,
              "#f0f921"
             ]
            ],
            "type": "heatmap"
           }
          ],
          "heatmapgl": [
           {
            "colorbar": {
             "outlinewidth": 0,
             "ticks": ""
            },
            "colorscale": [
             [
              0,
              "#0d0887"
             ],
             [
              0.1111111111111111,
              "#46039f"
             ],
             [
              0.2222222222222222,
              "#7201a8"
             ],
             [
              0.3333333333333333,
              "#9c179e"
             ],
             [
              0.4444444444444444,
              "#bd3786"
             ],
             [
              0.5555555555555556,
              "#d8576b"
             ],
             [
              0.6666666666666666,
              "#ed7953"
             ],
             [
              0.7777777777777778,
              "#fb9f3a"
             ],
             [
              0.8888888888888888,
              "#fdca26"
             ],
             [
              1,
              "#f0f921"
             ]
            ],
            "type": "heatmapgl"
           }
          ],
          "histogram": [
           {
            "marker": {
             "pattern": {
              "fillmode": "overlay",
              "size": 10,
              "solidity": 0.2
             }
            },
            "type": "histogram"
           }
          ],
          "histogram2d": [
           {
            "colorbar": {
             "outlinewidth": 0,
             "ticks": ""
            },
            "colorscale": [
             [
              0,
              "#0d0887"
             ],
             [
              0.1111111111111111,
              "#46039f"
             ],
             [
              0.2222222222222222,
              "#7201a8"
             ],
             [
              0.3333333333333333,
              "#9c179e"
             ],
             [
              0.4444444444444444,
              "#bd3786"
             ],
             [
              0.5555555555555556,
              "#d8576b"
             ],
             [
              0.6666666666666666,
              "#ed7953"
             ],
             [
              0.7777777777777778,
              "#fb9f3a"
             ],
             [
              0.8888888888888888,
              "#fdca26"
             ],
             [
              1,
              "#f0f921"
             ]
            ],
            "type": "histogram2d"
           }
          ],
          "histogram2dcontour": [
           {
            "colorbar": {
             "outlinewidth": 0,
             "ticks": ""
            },
            "colorscale": [
             [
              0,
              "#0d0887"
             ],
             [
              0.1111111111111111,
              "#46039f"
             ],
             [
              0.2222222222222222,
              "#7201a8"
             ],
             [
              0.3333333333333333,
              "#9c179e"
             ],
             [
              0.4444444444444444,
              "#bd3786"
             ],
             [
              0.5555555555555556,
              "#d8576b"
             ],
             [
              0.6666666666666666,
              "#ed7953"
             ],
             [
              0.7777777777777778,
              "#fb9f3a"
             ],
             [
              0.8888888888888888,
              "#fdca26"
             ],
             [
              1,
              "#f0f921"
             ]
            ],
            "type": "histogram2dcontour"
           }
          ],
          "mesh3d": [
           {
            "colorbar": {
             "outlinewidth": 0,
             "ticks": ""
            },
            "type": "mesh3d"
           }
          ],
          "parcoords": [
           {
            "line": {
             "colorbar": {
              "outlinewidth": 0,
              "ticks": ""
             }
            },
            "type": "parcoords"
           }
          ],
          "pie": [
           {
            "automargin": true,
            "type": "pie"
           }
          ],
          "scatter": [
           {
            "marker": {
             "colorbar": {
              "outlinewidth": 0,
              "ticks": ""
             }
            },
            "type": "scatter"
           }
          ],
          "scatter3d": [
           {
            "line": {
             "colorbar": {
              "outlinewidth": 0,
              "ticks": ""
             }
            },
            "marker": {
             "colorbar": {
              "outlinewidth": 0,
              "ticks": ""
             }
            },
            "type": "scatter3d"
           }
          ],
          "scattercarpet": [
           {
            "marker": {
             "colorbar": {
              "outlinewidth": 0,
              "ticks": ""
             }
            },
            "type": "scattercarpet"
           }
          ],
          "scattergeo": [
           {
            "marker": {
             "colorbar": {
              "outlinewidth": 0,
              "ticks": ""
             }
            },
            "type": "scattergeo"
           }
          ],
          "scattergl": [
           {
            "marker": {
             "colorbar": {
              "outlinewidth": 0,
              "ticks": ""
             }
            },
            "type": "scattergl"
           }
          ],
          "scattermapbox": [
           {
            "marker": {
             "colorbar": {
              "outlinewidth": 0,
              "ticks": ""
             }
            },
            "type": "scattermapbox"
           }
          ],
          "scatterpolar": [
           {
            "marker": {
             "colorbar": {
              "outlinewidth": 0,
              "ticks": ""
             }
            },
            "type": "scatterpolar"
           }
          ],
          "scatterpolargl": [
           {
            "marker": {
             "colorbar": {
              "outlinewidth": 0,
              "ticks": ""
             }
            },
            "type": "scatterpolargl"
           }
          ],
          "scatterternary": [
           {
            "marker": {
             "colorbar": {
              "outlinewidth": 0,
              "ticks": ""
             }
            },
            "type": "scatterternary"
           }
          ],
          "surface": [
           {
            "colorbar": {
             "outlinewidth": 0,
             "ticks": ""
            },
            "colorscale": [
             [
              0,
              "#0d0887"
             ],
             [
              0.1111111111111111,
              "#46039f"
             ],
             [
              0.2222222222222222,
              "#7201a8"
             ],
             [
              0.3333333333333333,
              "#9c179e"
             ],
             [
              0.4444444444444444,
              "#bd3786"
             ],
             [
              0.5555555555555556,
              "#d8576b"
             ],
             [
              0.6666666666666666,
              "#ed7953"
             ],
             [
              0.7777777777777778,
              "#fb9f3a"
             ],
             [
              0.8888888888888888,
              "#fdca26"
             ],
             [
              1,
              "#f0f921"
             ]
            ],
            "type": "surface"
           }
          ],
          "table": [
           {
            "cells": {
             "fill": {
              "color": "#EBF0F8"
             },
             "line": {
              "color": "white"
             }
            },
            "header": {
             "fill": {
              "color": "#C8D4E3"
             },
             "line": {
              "color": "white"
             }
            },
            "type": "table"
           }
          ]
         },
         "layout": {
          "annotationdefaults": {
           "arrowcolor": "#2a3f5f",
           "arrowhead": 0,
           "arrowwidth": 1
          },
          "autotypenumbers": "strict",
          "coloraxis": {
           "colorbar": {
            "outlinewidth": 0,
            "ticks": ""
           }
          },
          "colorscale": {
           "diverging": [
            [
             0,
             "#8e0152"
            ],
            [
             0.1,
             "#c51b7d"
            ],
            [
             0.2,
             "#de77ae"
            ],
            [
             0.3,
             "#f1b6da"
            ],
            [
             0.4,
             "#fde0ef"
            ],
            [
             0.5,
             "#f7f7f7"
            ],
            [
             0.6,
             "#e6f5d0"
            ],
            [
             0.7,
             "#b8e186"
            ],
            [
             0.8,
             "#7fbc41"
            ],
            [
             0.9,
             "#4d9221"
            ],
            [
             1,
             "#276419"
            ]
           ],
           "sequential": [
            [
             0,
             "#0d0887"
            ],
            [
             0.1111111111111111,
             "#46039f"
            ],
            [
             0.2222222222222222,
             "#7201a8"
            ],
            [
             0.3333333333333333,
             "#9c179e"
            ],
            [
             0.4444444444444444,
             "#bd3786"
            ],
            [
             0.5555555555555556,
             "#d8576b"
            ],
            [
             0.6666666666666666,
             "#ed7953"
            ],
            [
             0.7777777777777778,
             "#fb9f3a"
            ],
            [
             0.8888888888888888,
             "#fdca26"
            ],
            [
             1,
             "#f0f921"
            ]
           ],
           "sequentialminus": [
            [
             0,
             "#0d0887"
            ],
            [
             0.1111111111111111,
             "#46039f"
            ],
            [
             0.2222222222222222,
             "#7201a8"
            ],
            [
             0.3333333333333333,
             "#9c179e"
            ],
            [
             0.4444444444444444,
             "#bd3786"
            ],
            [
             0.5555555555555556,
             "#d8576b"
            ],
            [
             0.6666666666666666,
             "#ed7953"
            ],
            [
             0.7777777777777778,
             "#fb9f3a"
            ],
            [
             0.8888888888888888,
             "#fdca26"
            ],
            [
             1,
             "#f0f921"
            ]
           ]
          },
          "colorway": [
           "#636efa",
           "#EF553B",
           "#00cc96",
           "#ab63fa",
           "#FFA15A",
           "#19d3f3",
           "#FF6692",
           "#B6E880",
           "#FF97FF",
           "#FECB52"
          ],
          "font": {
           "color": "#2a3f5f"
          },
          "geo": {
           "bgcolor": "white",
           "lakecolor": "white",
           "landcolor": "#E5ECF6",
           "showlakes": true,
           "showland": true,
           "subunitcolor": "white"
          },
          "hoverlabel": {
           "align": "left"
          },
          "hovermode": "closest",
          "mapbox": {
           "style": "light"
          },
          "paper_bgcolor": "white",
          "plot_bgcolor": "#E5ECF6",
          "polar": {
           "angularaxis": {
            "gridcolor": "white",
            "linecolor": "white",
            "ticks": ""
           },
           "bgcolor": "#E5ECF6",
           "radialaxis": {
            "gridcolor": "white",
            "linecolor": "white",
            "ticks": ""
           }
          },
          "scene": {
           "xaxis": {
            "backgroundcolor": "#E5ECF6",
            "gridcolor": "white",
            "gridwidth": 2,
            "linecolor": "white",
            "showbackground": true,
            "ticks": "",
            "zerolinecolor": "white"
           },
           "yaxis": {
            "backgroundcolor": "#E5ECF6",
            "gridcolor": "white",
            "gridwidth": 2,
            "linecolor": "white",
            "showbackground": true,
            "ticks": "",
            "zerolinecolor": "white"
           },
           "zaxis": {
            "backgroundcolor": "#E5ECF6",
            "gridcolor": "white",
            "gridwidth": 2,
            "linecolor": "white",
            "showbackground": true,
            "ticks": "",
            "zerolinecolor": "white"
           }
          },
          "shapedefaults": {
           "line": {
            "color": "#2a3f5f"
           }
          },
          "ternary": {
           "aaxis": {
            "gridcolor": "white",
            "linecolor": "white",
            "ticks": ""
           },
           "baxis": {
            "gridcolor": "white",
            "linecolor": "white",
            "ticks": ""
           },
           "bgcolor": "#E5ECF6",
           "caxis": {
            "gridcolor": "white",
            "linecolor": "white",
            "ticks": ""
           }
          },
          "title": {
           "x": 0.05
          },
          "xaxis": {
           "automargin": true,
           "gridcolor": "white",
           "linecolor": "white",
           "ticks": "",
           "title": {
            "standoff": 15
           },
           "zerolinecolor": "white",
           "zerolinewidth": 2
          },
          "yaxis": {
           "automargin": true,
           "gridcolor": "white",
           "linecolor": "white",
           "ticks": "",
           "title": {
            "standoff": 15
           },
           "zerolinecolor": "white",
           "zerolinewidth": 2
          }
         }
        },
        "title": {
         "text": "Sorted Farm Wages (2015 Dollars)"
        },
        "xaxis": {
         "autorange": true,
         "range": [
          1990,
          2015
         ],
         "title": {
          "font": {
           "color": "#7f7f7f",
           "size": 18
          },
          "text": "Year"
         },
         "type": "linear"
        },
        "yaxis": {
         "autorange": true,
         "range": [
          3586.882761399674,
          45086.7427271372
         ],
         "title": {
          "font": {
           "color": "#7f7f7f",
           "size": 18
          },
          "text": "Inflation Adjusted Wages (USD)"
         },
         "type": "linear"
        }
       }
      },
      "image/png": "[encoded data removed]",
      "text/html": [
       "<div>                            <div id=\"67c096c2-83b4-4c79-8d73-861d1cb12a07\" class=\"plotly-graph-div\" style=\"height:525px; width:100%;\"></div>            <script type=\"text/javascript\">                require([\"plotly\"], function(Plotly) {                    window.PLOTLYENV=window.PLOTLYENV || {};                                    if (document.getElementById(\"67c096c2-83b4-4c79-8d73-861d1cb12a07\")) {                    Plotly.newPlot(                        \"67c096c2-83b4-4c79-8d73-861d1cb12a07\",                        [{\"name\":\"Lowest Paid\",\"text\":[\"Puerto Rico -- Statewide\",\"Puerto Rico -- Statewide\",\"Puerto Rico -- Statewide\",\"Puerto Rico -- Statewide\",\"Puerto Rico -- Statewide\",\"Puerto Rico -- Statewide\",\"Puerto Rico -- Statewide\",\"Puerto Rico -- Statewide\",\"Puerto Rico -- Statewide\",\"Puerto Rico -- Statewide\",\"Puerto Rico -- Statewide\",\"Puerto Rico -- Statewide\",\"Puerto Rico -- Statewide\",\"Puerto Rico -- Statewide\",\"Puerto Rico -- Statewide\",\"Puerto Rico -- Statewide\",\"Puerto Rico -- Statewide\",\"Puerto Rico -- Statewide\",\"Puerto Rico -- Statewide\",\"Puerto Rico -- Statewide\",\"Puerto Rico -- Statewide\",\"Puerto Rico -- Statewide\",\"Puerto Rico -- Statewide\",\"Puerto Rico -- Statewide\",\"Puerto Rico -- Statewide\",\"Puerto Rico -- Statewide\"],\"x\":[1990,1991,1992,1993,1994,1995,1996,1997,1998,1999,2000,2001,2002,2003,2004,2005,2006,2007,2008,2009,2010,2011,2012,2013,2014,2015],\"y\":[5661.875759686551,5844.6006775614,5820.051135433074,5905.291977608393,5976.274982420105,6043.230742803753,7136.649197841813,8487.581932836178,8820.756060970694,9140.987247574683,9477.903578070252,9533.849619215896,9604.025209380192,9522.250297153583,9137.732230522659,8988.386723471933,8860.649799985937,8967.083468891646,9456.662842720682,9631.404508875801,9871.180088315052,9783.512402829982,9504.992892284883,9299.43781925082,9347.609233614507,9234.50232764354],\"type\":\"scatter\"},{\"name\":\"Second Lowest Paid\",\"text\":[\"New Mexico -- Statewide\",\"New Mexico -- Statewide\",\"New Mexico -- Statewide\",\"New Mexico -- Statewide\",\"New Mexico -- Statewide\",\"New Mexico -- Statewide\",\"New Mexico -- Statewide\",\"New Mexico -- Statewide\",\"New Mexico -- Statewide\",\"New Mexico -- Statewide\",\"New Mexico -- Statewide\",\"New Mexico -- Statewide\",\"New Mexico -- Statewide\",\"New Mexico -- Statewide\",\"New Mexico -- Statewide\",\"New Mexico -- Statewide\",\"New Mexico -- Statewide\",\"New Mexico -- Statewide\",\"New Mexico -- Statewide\",\"Florida -- Statewide\",\"Virgin Islands -- Statewide\",\"Washington -- Statewide\",\"Alaska -- Statewide\",\"Alaska -- Statewide\",\"Alaska -- Statewide\",\"Alaska -- Statewide\"],\"x\":[1990,1991,1992,1993,1994,1995,1996,1997,1998,1999,2000,2001,2002,2003,2004,2005,2006,2007,2008,2009,2010,2011,2012,2013,2014,2015],\"y\":[13211.423220519386,14039.020593739377,14409.167601398398,13269.180413672178,13491.027045160381,12936.913458013387,13490.207922274549,14343.03676871324,15610.262408410614,16179.340864730533,16382.616330430357,15860.000419560254,15984.631791835198,16311.595087345018,17202.02182218508,18176.96275259965,20428.803593638368,21469.4175164316,22372.264903914456,22402.662087018234,11470.328387045494,22672.653787098236,20955.11550029584,19854.62801021396,20281.03798213536,20877.633484162896],\"type\":\"scatter\"},{\"name\":\"Second Highest Paid\",\"text\":[\"Massachusetts -- Statewide\",\"Massachusetts -- Statewide\",\"Massachusetts -- Statewide\",\"Massachusetts -- Statewide\",\"Massachusetts -- Statewide\",\"Massachusetts -- Statewide\",\"Connecticut -- Statewide\",\"Illinois -- Statewide\",\"Illinois -- Statewide\",\"Hawaii -- Statewide\",\"Hawaii -- Statewide\",\"Kansas -- Statewide\",\"Illinois -- Statewide\",\"North Dakota -- Statewide\",\"Illinois -- Statewide\",\"North Dakota -- Statewide\",\"Maryland -- Statewide\",\"Delaware -- Statewide\",\"Iowa -- Statewide\",\"Iowa -- Statewide\",\"South Dakota -- Statewide\",\"South Dakota -- Statewide\",\"South Dakota -- Statewide\",\"South Dakota -- Statewide\",\"Nevada -- Statewide\",\"Nevada -- Statewide\"],\"x\":[1990,1991,1992,1993,1994,1995,1996,1997,1998,1999,2000,2001,2002,2003,2004,2005,2006,2007,2008,2009,2010,2011,2012,2013,2014,2015],\"y\":[32386.85715526595,32350.012030747275,32918.60626004855,31734.235268485954,32101.031391849156,30824.200006423183,30995.008940142277,31585.27101235141,32966.223161763904,33141.61544751867,33333.494627546424,33100.85691080768,34104.32490389308,33520.1177994558,34007.69845705345,33988.52042723665,34051.9264361231,35219.93186289286,35809.97775646232,37360.95657302179,37458.530070081666,37423.01048117963,39243.221181055116,38713.49430197559,39682.63102227793,41500.66152597404],\"type\":\"scatter\"},{\"name\":\"Highest Paid\",\"text\":[\"Hawaii -- Statewide\",\"Hawaii -- Statewide\",\"Hawaii -- Statewide\",\"Hawaii -- Statewide\",\"Hawaii -- Statewide\",\"Hawaii -- Statewide\",\"Hawaii -- Statewide\",\"Hawaii -- Statewide\",\"Hawaii -- Statewide\",\"Illinois -- Statewide\",\"Illinois -- Statewide\",\"Illinois -- Statewide\",\"North Dakota -- Statewide\",\"Missouri -- Statewide\",\"North Dakota -- Statewide\",\"Illinois -- Statewide\",\"Delaware -- Statewide\",\"South Dakota -- Statewide\",\"North Dakota -- Statewide\",\"North Dakota -- Statewide\",\"North Dakota -- Statewide\",\"North Dakota -- Statewide\",\"North Dakota -- Statewide\",\"North Dakota -- Statewide\",\"North Dakota -- Statewide\",\"North Dakota -- Statewide\"],\"x\":[1990,1991,1992,1993,1994,1995,1996,1997,1998,1999,2000,2001,2002,2003,2004,2005,2006,2007,2008,2009,2010,2011,2012,2013,2014,2015],\"y\":[33242.68471806703,34529.99283895546,34607.41997419189,34556.12049299562,34949.650507142986,34495.026705519434,33025.142851404846,32936.99391669236,33267.9436974611,33993.923392552366,34568.79026000238,33870.94655012584,35715.733040062834,35205.604745100645,35325.042415442585,34302.3300094141,34929.97822552865,36636.963436031416,36312.81904653872,40131.389896932866,39630.97946128873,39426.95745499974,42265.34787750183,41560.31988678603,42201.64938578098,43011.74972885032],\"type\":\"scatter\"}],                        {\"template\":{\"data\":{\"barpolar\":[{\"marker\":{\"line\":{\"color\":\"#E5ECF6\",\"width\":0.5},\"pattern\":{\"fillmode\":\"overlay\",\"size\":10,\"solidity\":0.2}},\"type\":\"barpolar\"}],\"bar\":[{\"error_x\":{\"color\":\"#2a3f5f\"},\"error_y\":{\"color\":\"#2a3f5f\"},\"marker\":{\"line\":{\"color\":\"#E5ECF6\",\"width\":0.5},\"pattern\":{\"fillmode\":\"overlay\",\"size\":10,\"solidity\":0.2}},\"type\":\"bar\"}],\"carpet\":[{\"aaxis\":{\"endlinecolor\":\"#2a3f5f\",\"gridcolor\":\"white\",\"linecolor\":\"white\",\"minorgridcolor\":\"white\",\"startlinecolor\":\"#2a3f5f\"},\"baxis\":{\"endlinecolor\":\"#2a3f5f\",\"gridcolor\":\"white\",\"linecolor\":\"white\",\"minorgridcolor\":\"white\",\"startlinecolor\":\"#2a3f5f\"},\"type\":\"carpet\"}],\"choropleth\":[{\"colorbar\":{\"outlinewidth\":0,\"ticks\":\"\"},\"type\":\"choropleth\"}],\"contourcarpet\":[{\"colorbar\":{\"outlinewidth\":0,\"ticks\":\"\"},\"type\":\"contourcarpet\"}],\"contour\":[{\"colorbar\":{\"outlinewidth\":0,\"ticks\":\"\"},\"colorscale\":[[0.0,\"#0d0887\"],[0.1111111111111111,\"#46039f\"],[0.2222222222222222,\"#7201a8\"],[0.3333333333333333,\"#9c179e\"],[0.4444444444444444,\"#bd3786\"],[0.5555555555555556,\"#d8576b\"],[0.6666666666666666,\"#ed7953\"],[0.7777777777777778,\"#fb9f3a\"],[0.8888888888888888,\"#fdca26\"],[1.0,\"#f0f921\"]],\"type\":\"contour\"}],\"heatmapgl\":[{\"colorbar\":{\"outlinewidth\":0,\"ticks\":\"\"},\"colorscale\":[[0.0,\"#0d0887\"],[0.1111111111111111,\"#46039f\"],[0.2222222222222222,\"#7201a8\"],[0.3333333333333333,\"#9c179e\"],[0.4444444444444444,\"#bd3786\"],[0.5555555555555556,\"#d8576b\"],[0.6666666666666666,\"#ed7953\"],[0.7777777777777778,\"#fb9f3a\"],[0.8888888888888888,\"#fdca26\"],[1.0,\"#f0f921\"]],\"type\":\"heatmapgl\"}],\"heatmap\":[{\"colorbar\":{\"outlinewidth\":0,\"ticks\":\"\"},\"colorscale\":[[0.0,\"#0d0887\"],[0.1111111111111111,\"#46039f\"],[0.2222222222222222,\"#7201a8\"],[0.3333333333333333,\"#9c179e\"],[0.4444444444444444,\"#bd3786\"],[0.5555555555555556,\"#d8576b\"],[0.6666666666666666,\"#ed7953\"],[0.7777777777777778,\"#fb9f3a\"],[0.8888888888888888,\"#fdca26\"],[1.0,\"#f0f921\"]],\"type\":\"heatmap\"}],\"histogram2dcontour\":[{\"colorbar\":{\"outlinewidth\":0,\"ticks\":\"\"},\"colorscale\":[[0.0,\"#0d0887\"],[0.1111111111111111,\"#46039f\"],[0.2222222222222222,\"#7201a8\"],[0.3333333333333333,\"#9c179e\"],[0.4444444444444444,\"#bd3786\"],[0.5555555555555556,\"#d8576b\"],[0.6666666666666666,\"#ed7953\"],[0.7777777777777778,\"#fb9f3a\"],[0.8888888888888888,\"#fdca26\"],[1.0,\"#f0f921\"]],\"type\":\"histogram2dcontour\"}],\"histogram2d\":[{\"colorbar\":{\"outlinewidth\":0,\"ticks\":\"\"},\"colorscale\":[[0.0,\"#0d0887\"],[0.1111111111111111,\"#46039f\"],[0.2222222222222222,\"#7201a8\"],[0.3333333333333333,\"#9c179e\"],[0.4444444444444444,\"#bd3786\"],[0.5555555555555556,\"#d8576b\"],[0.6666666666666666,\"#ed7953\"],[0.7777777777777778,\"#fb9f3a\"],[0.8888888888888888,\"#fdca26\"],[1.0,\"#f0f921\"]],\"type\":\"histogram2d\"}],\"histogram\":[{\"marker\":{\"pattern\":{\"fillmode\":\"overlay\",\"size\":10,\"solidity\":0.2}},\"type\":\"histogram\"}],\"mesh3d\":[{\"colorbar\":{\"outlinewidth\":0,\"ticks\":\"\"},\"type\":\"mesh3d\"}],\"parcoords\":[{\"line\":{\"colorbar\":{\"outlinewidth\":0,\"ticks\":\"\"}},\"type\":\"parcoords\"}],\"pie\":[{\"automargin\":true,\"type\":\"pie\"}],\"scatter3d\":[{\"line\":{\"colorbar\":{\"outlinewidth\":0,\"ticks\":\"\"}},\"marker\":{\"colorbar\":{\"outlinewidth\":0,\"ticks\":\"\"}},\"type\":\"scatter3d\"}],\"scattercarpet\":[{\"marker\":{\"colorbar\":{\"outlinewidth\":0,\"ticks\":\"\"}},\"type\":\"scattercarpet\"}],\"scattergeo\":[{\"marker\":{\"colorbar\":{\"outlinewidth\":0,\"ticks\":\"\"}},\"type\":\"scattergeo\"}],\"scattergl\":[{\"marker\":{\"colorbar\":{\"outlinewidth\":0,\"ticks\":\"\"}},\"type\":\"scattergl\"}],\"scattermapbox\":[{\"marker\":{\"colorbar\":{\"outlinewidth\":0,\"ticks\":\"\"}},\"type\":\"scattermapbox\"}],\"scatterpolargl\":[{\"marker\":{\"colorbar\":{\"outlinewidth\":0,\"ticks\":\"\"}},\"type\":\"scatterpolargl\"}],\"scatterpolar\":[{\"marker\":{\"colorbar\":{\"outlinewidth\":0,\"ticks\":\"\"}},\"type\":\"scatterpolar\"}],\"scatter\":[{\"marker\":{\"colorbar\":{\"outlinewidth\":0,\"ticks\":\"\"}},\"type\":\"scatter\"}],\"scatterternary\":[{\"marker\":{\"colorbar\":{\"outlinewidth\":0,\"ticks\":\"\"}},\"type\":\"scatterternary\"}],\"surface\":[{\"colorbar\":{\"outlinewidth\":0,\"ticks\":\"\"},\"colorscale\":[[0.0,\"#0d0887\"],[0.1111111111111111,\"#46039f\"],[0.2222222222222222,\"#7201a8\"],[0.3333333333333333,\"#9c179e\"],[0.4444444444444444,\"#bd3786\"],[0.5555555555555556,\"#d8576b\"],[0.6666666666666666,\"#ed7953\"],[0.7777777777777778,\"#fb9f3a\"],[0.8888888888888888,\"#fdca26\"],[1.0,\"#f0f921\"]],\"type\":\"surface\"}],\"table\":[{\"cells\":{\"fill\":{\"color\":\"#EBF0F8\"},\"line\":{\"color\":\"white\"}},\"header\":{\"fill\":{\"color\":\"#C8D4E3\"},\"line\":{\"color\":\"white\"}},\"type\":\"table\"}]},\"layout\":{\"annotationdefaults\":{\"arrowcolor\":\"#2a3f5f\",\"arrowhead\":0,\"arrowwidth\":1},\"autotypenumbers\":\"strict\",\"coloraxis\":{\"colorbar\":{\"outlinewidth\":0,\"ticks\":\"\"}},\"colorscale\":{\"diverging\":[[0,\"#8e0152\"],[0.1,\"#c51b7d\"],[0.2,\"#de77ae\"],[0.3,\"#f1b6da\"],[0.4,\"#fde0ef\"],[0.5,\"#f7f7f7\"],[0.6,\"#e6f5d0\"],[0.7,\"#b8e186\"],[0.8,\"#7fbc41\"],[0.9,\"#4d9221\"],[1,\"#276419\"]],\"sequential\":[[0.0,\"#0d0887\"],[0.1111111111111111,\"#46039f\"],[0.2222222222222222,\"#7201a8\"],[0.3333333333333333,\"#9c179e\"],[0.4444444444444444,\"#bd3786\"],[0.5555555555555556,\"#d8576b\"],[0.6666666666666666,\"#ed7953\"],[0.7777777777777778,\"#fb9f3a\"],[0.8888888888888888,\"#fdca26\"],[1.0,\"#f0f921\"]],\"sequentialminus\":[[0.0,\"#0d0887\"],[0.1111111111111111,\"#46039f\"],[0.2222222222222222,\"#7201a8\"],[0.3333333333333333,\"#9c179e\"],[0.4444444444444444,\"#bd3786\"],[0.5555555555555556,\"#d8576b\"],[0.6666666666666666,\"#ed7953\"],[0.7777777777777778,\"#fb9f3a\"],[0.8888888888888888,\"#fdca26\"],[1.0,\"#f0f921\"]]},\"colorway\":[\"#636efa\",\"#EF553B\",\"#00cc96\",\"#ab63fa\",\"#FFA15A\",\"#19d3f3\",\"#FF6692\",\"#B6E880\",\"#FF97FF\",\"#FECB52\"],\"font\":{\"color\":\"#2a3f5f\"},\"geo\":{\"bgcolor\":\"white\",\"lakecolor\":\"white\",\"landcolor\":\"#E5ECF6\",\"showlakes\":true,\"showland\":true,\"subunitcolor\":\"white\"},\"hoverlabel\":{\"align\":\"left\"},\"hovermode\":\"closest\",\"mapbox\":{\"style\":\"light\"},\"paper_bgcolor\":\"white\",\"plot_bgcolor\":\"#E5ECF6\",\"polar\":{\"angularaxis\":{\"gridcolor\":\"white\",\"linecolor\":\"white\",\"ticks\":\"\"},\"bgcolor\":\"#E5ECF6\",\"radialaxis\":{\"gridcolor\":\"white\",\"linecolor\":\"white\",\"ticks\":\"\"}},\"scene\":{\"xaxis\":{\"backgroundcolor\":\"#E5ECF6\",\"gridcolor\":\"white\",\"gridwidth\":2,\"linecolor\":\"white\",\"showbackground\":true,\"ticks\":\"\",\"zerolinecolor\":\"white\"},\"yaxis\":{\"backgroundcolor\":\"#E5ECF6\",\"gridcolor\":\"white\",\"gridwidth\":2,\"linecolor\":\"white\",\"showbackground\":true,\"ticks\":\"\",\"zerolinecolor\":\"white\"},\"zaxis\":{\"backgroundcolor\":\"#E5ECF6\",\"gridcolor\":\"white\",\"gridwidth\":2,\"linecolor\":\"white\",\"showbackground\":true,\"ticks\":\"\",\"zerolinecolor\":\"white\"}},\"shapedefaults\":{\"line\":{\"color\":\"#2a3f5f\"}},\"ternary\":{\"aaxis\":{\"gridcolor\":\"white\",\"linecolor\":\"white\",\"ticks\":\"\"},\"baxis\":{\"gridcolor\":\"white\",\"linecolor\":\"white\",\"ticks\":\"\"},\"bgcolor\":\"#E5ECF6\",\"caxis\":{\"gridcolor\":\"white\",\"linecolor\":\"white\",\"ticks\":\"\"}},\"title\":{\"x\":0.05},\"xaxis\":{\"automargin\":true,\"gridcolor\":\"white\",\"linecolor\":\"white\",\"ticks\":\"\",\"title\":{\"standoff\":15},\"zerolinecolor\":\"white\",\"zerolinewidth\":2},\"yaxis\":{\"automargin\":true,\"gridcolor\":\"white\",\"linecolor\":\"white\",\"ticks\":\"\",\"title\":{\"standoff\":15},\"zerolinecolor\":\"white\",\"zerolinewidth\":2}}},\"title\":{\"text\":\"Sorted Farm Wages (2015 Dollars)\"},\"xaxis\":{\"title\":{\"font\":{\"color\":\"#7f7f7f\",\"size\":18},\"text\":\"Year\"}},\"yaxis\":{\"title\":{\"font\":{\"color\":\"#7f7f7f\",\"size\":18},\"text\":\"Inflation Adjusted Wages (USD)\"}}},                        {\"responsive\": true}                    ).then(function(){\n",
       "                            \n",
       "var gd = document.getElementById('67c096c2-83b4-4c79-8d73-861d1cb12a07');\n",
       "var x = new MutationObserver(function (mutations, observer) {{\n",
       "        var display = window.getComputedStyle(gd).display;\n",
       "        if (!display || display === 'none') {{\n",
       "            console.log([gd, 'removed!']);\n",
       "            Plotly.purge(gd);\n",
       "            observer.disconnect();\n",
       "        }}\n",
       "}});\n",
       "\n",
       "// Listen for the removal of the full notebook cells\n",
       "var notebookContainer = gd.closest('#notebook-container');\n",
       "if (notebookContainer) {{\n",
       "    x.observe(notebookContainer, {childList: true});\n",
       "}}\n",
       "\n",
       "// Listen for the clearing of the current output cell\n",
       "var outputEl = gd.closest('.output');\n",
       "if (outputEl) {{\n",
       "    x.observe(outputEl, {childList: true});\n",
       "}}\n",
       "\n",
       "                        })                };                });            </script>        </div>"
      ]
     },
     "metadata": {},
     "output_type": "display_data"
    }
   ],
   "source": [
    "plot_df = crops_df[columns_to_see].groupby('year').nth(-1)\n",
    "\n",
    "# Here is an example of how a plot which hover labels is made \n",
    "traces = []\n",
    "# Here we put out the names of the traces we want to put on the graph\n",
    "names = [\"Lowest Paid\", \"Second Lowest Paid\", \"Second Highest Paid\", \"Highest Paid\"]\n",
    "\n",
    "# These numbers represent the lowest, second lowest, second highest and highest paid\n",
    "# farmers from the plot_df with the grouping that we saw eariler. \n",
    "\n",
    "for j, i in enumerate([0,1,-2,-1]):\n",
    "    plot_df = crops_df[columns_to_see].groupby('year').nth(i) \n",
    "    \n",
    "    # Here we're adding a trace onto the end of our data frame\n",
    "    # where index is the year \n",
    "    traces.append(go.Scatter(\n",
    "      x=plot_df.index,\n",
    "      y=plot_df.inflation_adj,\n",
    "      text = plot_df.area_title,\n",
    "      name = names[j]\n",
    "    ))\n",
    "\n",
    "# Here we're formatting axis labels\n",
    "layout = go.Layout(\n",
    "    title='Sorted Farm Wages (2015 Dollars)',\n",
    "    xaxis=dict(\n",
    "        title='Year',\n",
    "        titlefont=dict(\n",
    "            size=18,\n",
    "            color='#7f7f7f'\n",
    "        )\n",
    "    ),\n",
    "    yaxis=dict(\n",
    "        title='Inflation Adjusted Wages (USD)',\n",
    "        titlefont=dict(\n",
    "            size=18,\n",
    "            color='#7f7f7f'\n",
    "        )\n",
    "    )\n",
    ")\n",
    "\n",
    "fig = go.Figure(data=(traces), layout=layout)\n",
    "    \n",
    "iplot(fig)"
   ]
  },
  {
   "cell_type": "markdown",
   "metadata": {
    "lang": "fr"
   },
   "source": [
    "En utilisant une parcelle comme celle-ci, il est facile de voir comment les salaires minimums et maximaux des agriculteurs ont changé aux États-Unis de 1990 à 2015. Il est également très simple de survoler le graphique avec une souris. terrain.\n",
    "\n",
    "Des questions intéressantes qui pourraient être posées aux étudiants de ce complot pourraient entourer les circonstances dans lesquelles les agriculteurs de Porto Rico sont moins payés que les autres agriculteurs des États-Unis. Souvent beaucoup moins que l’état suivant le plus bas, à l’ordre de 5000 dollars par an. Cinq mille dollars par an représentent environ le tiers du salaire maximum des agriculteurs de Porto Rico.\n",
    "\n",
    "\n",
    "Des tracés comme celui-ci peuvent rendre interactif et naturel que les élèves étudient les données. Peut-être y a-t-il une tendance qui les distingue - un problème social qui cause des écarts entre États ou d'importantes fluctuations salariales d'année en année. En effet, si vous trouvez ce cahier intéressant, nous pouvons créer quelque chose de similaire à utiliser dans votre classe. À condition que les données existent bien sûr.\n",
    "\n",
    " Vous pouvez demander à vos élèves d'interagir directement avec les données d'une manière que vous avez vue ici, ou nous pouvons masquer tout le codage en arrière-plan comme nous l'avons fait avec le widget et le graphique ci-dessus. À quel point l'interaction directe que vous voulez que vos élèves aient avec Python pour réussir la leçon / l'affectation dépend entièrement de vous.\n",
    "\n",
    "# À emporter\n",
    "\n",
    "Dans ce cahier, nous avons montré comment une application de sciences sociales existante peut être étendue dans votre classe de manière à démontrer la pensée informatique, la pensée critique et les compétences en recherche. Il a également montré comment utiliser des ensembles de données existants pour analyser plus en détail différents problèmes."
   ]
  },
  {
   "cell_type": "markdown",
   "metadata": {},
   "source": [
    "[![Callysto.ca License](https://github.com/callysto/curriculum-notebooks/blob/master/callysto-notebook-banner-bottom.jpg?raw=true)](https://github.com/callysto/curriculum-notebooks/blob/master/LICENSE.md)"
   ]
  }
 ],
 "metadata": {
  "kernelspec": {
   "display_name": "Python 3 (ipykernel)",
   "language": "python",
   "name": "python3"
  },
  "language_info": {
   "codemirror_mode": {
    "name": "ipython",
    "version": 3
   },
   "file_extension": ".py",
   "mimetype": "text/x-python",
   "name": "python",
   "nbconvert_exporter": "python",
   "pygments_lexer": "ipython3",
   "version": "3.9.12"
  },
  "nbTranslate": {
   "displayLangs": [
    "*"
   ],
   "hotkey": "alt-t",
   "langInMainMenu": true,
   "sourceLang": "en",
   "targetLang": "fr",
   "useGoogleTranslate": true
  }
 },
 "nbformat": 4,
 "nbformat_minor": 4
}
