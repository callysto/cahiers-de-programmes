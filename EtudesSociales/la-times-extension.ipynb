{
 "cells": [
  {
   "cell_type": "markdown",
   "metadata": {},
   "source": [
    "![Callysto.ca Banner](https://github.com/callysto/curriculum-notebooks/blob/master/callysto-notebook-banner-top.jpg?raw=true)\n",
    "\n",
    "<a href=\"https://hub.callysto.ca/jupyter/hub/user-redirect/git-pull?repo=https%3A%2F%2Fgithub.com%2Fcallysto%2Fcahiers-de-programmes&branch=master&subPath=EtudesSociales/la-times-extension.ipynb&depth=1\" target=\"_parent\"><img src=\"https://raw.githubusercontent.com/callysto/cahiers-de-programmes/master/bouton-callysto.svg?sanitize=true\" width=\"123\" height=\"24\" alt=\"Open in Callysto\"/></a>"
   ]
  },
  {
   "cell_type": "markdown",
   "metadata": {
    "lang": "fr"
   },
   "source": [
    "# Introduction\n",
    "Ce cahier est une extension et, à certains égards, une version plus transparente (ne serait-ce qu'en plaçant les ajustements de l'inflation au centre) de l'article de Los Angeles disponible le 17 mars 2017 [\"Les salaires augmentent dans les fermes californiennes. veux le travail\"](http://www.latimes.com/projects/la-fi-farms-immigration/). Dans ce cahier, nous l’avons modifié afin que vous puissiez appliquer vous-même les ajustements en fonction de l’inflation et comparer plusieurs salaires d’État. De plus, nous avons ajouté les industries \"Traitement des données, hébergement et services connexes\" à l'ensemble de données pour comparer la croissance des salaires entre les deux."
   ]
  },
  {
   "cell_type": "code",
   "execution_count": null,
   "metadata": {},
   "outputs": [],
   "source": [
    "# Import Python tools\n",
    "from IPython.display import HTML\n",
    "from IPython import display \n",
    "from ipywidgets import widgets\n",
    "from ipywidgets import interactive\n",
    "\n",
    "# import calculate\n",
    "import numpy as np\n",
    "import pandas as pd\n",
    "%matplotlib inline\n",
    "import matplotlib.pyplot as plt\n",
    "\n",
    "from plotly.offline import init_notebook_mode, iplot\n",
    "import chart_studio.plotly as py\n",
    "import plotly.graph_objs as go\n",
    "\n",
    "\n",
    "init_notebook_mode(connected=True)         \n",
    "import warnings\n",
    "\n",
    "warnings.filterwarnings(\"ignore\")\n",
    "\n",
    "\"\"\"\n",
    "Ajuste les chiffres en dollars pour l'inflation en utilisant l'indice des prix à la consommation.\n",
    "\"\"\"\n",
    "cpi = {\n",
    "  \"1990\": 130.658,\n",
    "  \"1991\": 136.167,\n",
    "  \"1992\": 140.308,\n",
    "  \"1993\": 144.475,\n",
    "  \"1994\": 148.225,\n",
    "  \"1995\": 152.383,\n",
    "  \"1996\": 156.858,\n",
    "  \"1997\": 160.525,\n",
    "  \"1998\": 163.008,\n",
    "  \"1999\": 166.583,\n",
    "  \"2000\": 172.192,\n",
    "  \"2001\": 177.042,\n",
    "  \"2002\": 179.867,\n",
    "  \"2003\": 184.0,\n",
    "  \"2004\": 188.908,\n",
    "  \"2005\": 195.267,\n",
    "  \"2006\": 201.558,\n",
    "  \"2007\": 207.344,\n",
    "  \"2008\": 215.254,\n",
    "  \"2009\": 214.565,\n",
    "  \"2010\": 218.076,\n",
    "  \"2011\": 224.93,\n",
    "  \"2012\": 229.6,\n",
    "  \"2013\": 232.962,\n",
    "  \"2014\": 236.712,\n",
    "  \"2015\": 237.0\n",
    "}\n",
    "\n",
    "def convert_to_year(value, year, to_year):\n",
    "    return (value * cpi[str(to_year)]) / cpi[str(year)] "
   ]
  },
  {
   "cell_type": "code",
   "execution_count": null,
   "metadata": {},
   "outputs": [],
   "source": [
    "# Données de charge pour les états\n",
    "state_df = pd.read_csv(\"https://swift-yeg.cloud.cybera.ca:8080/v1/AUTH_233e84cd313945c992b4b585f7b9125d/callysto-open-data/transformed_state.csv\", dtype={\"area_fips\": \"str\"})\n",
    "state_df.head()"
   ]
  },
  {
   "cell_type": "markdown",
   "metadata": {
    "lang": "fr"
   },
   "source": [
    "Le tableau ci-dessus affiche les premières entrées de la table de données agrégée et filtrée de l'analyse des temps LA. Nous avons également ajouté un groupe sectoriel \"données\" pour des analyses futures, mais l'objectif de ce cahier concerne uniquement les cultures. Ce qui est le plus important à voir ici, c'est que cette table de données contient des données provenant de plus d'états que la Californie. Cela signifie que nous pouvons maintenant comparer plusieurs états entre eux."
   ]
  },
  {
   "cell_type": "markdown",
   "metadata": {
    "lang": "fr"
   },
   "source": [
    "## Reproduction des résultats du LA Times\n",
    "\n",
    "Notre première tâche est de reproduire l'analyse du LA Times ici. Avant de commencer à comparer différents états / appliquer différents calculs. Premièrement, nous copions et collons sans vergogne l’analyse du LA Times à partir du bloc-notes disponible sur leur dépôt de hub git."
   ]
  },
  {
   "cell_type": "code",
   "execution_count": null,
   "metadata": {},
   "outputs": [],
   "source": [
    "# Travailleurs agricoles de Californie\n",
    "ca_state_df = state_df[state_df.area_fips.str.startswith(\"06\")]\n",
    "ca_state_crops = ca_state_df[ca_state_df.industry_group == 'crops'].set_index(\"year\")\n",
    "ca_state_crops"
   ]
  },
  {
   "cell_type": "markdown",
   "metadata": {
    "lang": "fr"
   },
   "source": [
    "Tout d'abord, voir la rémunération annuelle moyenne des travailleurs de la Californie dans la cellule ci-dessous"
   ]
  },
  {
   "cell_type": "code",
   "execution_count": null,
   "metadata": {},
   "outputs": [],
   "source": [
    "ca_state_crops.at[2015, \"avg_annual_pay_2015\"]"
   ]
  },
  {
   "cell_type": "markdown",
   "metadata": {
    "lang": "fr"
   },
   "source": [
    "L'étape suivante consiste à comparer cette valeur à la moyenne des travailleurs agricoles rémunérés en 1990"
   ]
  },
  {
   "cell_type": "code",
   "execution_count": null,
   "metadata": {},
   "outputs": [],
   "source": [
    "ca_state_crops.at[1990, \"avg_annual_pay_2015\"]"
   ]
  },
  {
   "cell_type": "markdown",
   "metadata": {
    "lang": "fr"
   },
   "source": [
    "Bien que cela semble être une amélioration significative, nous devons nous rappeler que les dollars de 1990 valent plus que nos dollars de 2015 gonflés.\n",
    "\n",
    "---\n",
    "### Essaye le\n",
    "\n",
    "1. En utilisant les cellules ci-dessus, quelles pièces devriez-vous modifier pour voir les salaires en Californie dans une autre année? Essaye le.\n",
    "\n",
    "---\n",
    "\n",
    "Pour faire une comparaison plus juste, nous devons d'abord ajuster manuellement la valeur ci-dessus pour l'inflation. Nous notons que dans l’article du LA Times, l’ajustement de l’inflation a été effectué en coulisse. Avec aucune intention d'induire en erreur dans leur analyse, c'était pour la commodité de leur présentation des données. Les cellules ci-dessous ajustent ces valeurs pour la comparaison."
   ]
  },
  {
   "cell_type": "code",
   "execution_count": null,
   "metadata": {},
   "outputs": [],
   "source": [
    "wage_1990 = ca_state_crops.at[1990, \"avg_annual_pay_2015\"]\n",
    "wage_2015 = ca_state_crops.at[2015, \"avg_annual_pay_2015\"]\n",
    "\n",
    "adjusted_wage_1990 = convert_to_year(value=wage_1990, year=1990, to_year=2015)\n",
    "\n",
    "print(\"1990 salaire = $\", adjusted_wage_1990, \"\\n2015 salaire = $\", wage_2015)"
   ]
  },
  {
   "cell_type": "markdown",
   "metadata": {
    "lang": "fr"
   },
   "source": [
    "Là où nous voyons maintenant que même après ajustement pour tenir compte de l'inflation, les agriculteurs californiens ont vu une augmentation de salaire depuis 1990.\n",
    "\n",
    "---\n",
    "### Essaye le\n",
    " - Utilisez les cellules ci-dessus pour comparer différentes années aux salaires de 2015. Quelles valeurs devrez-vous changer pour ajuster l’inflation et obtenir des salaires corrects?\n",
    " \n",
    " ---\n",
    "\n",
    "L'étape suivante consiste à reproduire la variation en pourcentage des salaires (ajustée en fonction de l'inflation) de 2010 à 2015 et à la comparer aux augmentations de salaires dans l'ensemble de l'État. Nous pouvons faire cela comme le LA Times en utilisant leur module de calcul ci-dessous, d'où vient la fonction `percent_change`."
   ]
  },
  {
   "cell_type": "code",
   "execution_count": null,
   "metadata": {},
   "outputs": [],
   "source": [
    "wage_increase_crop = ca_state_crops.at[2015, \"avg_annual_pay_2015\"] / convert_to_year(ca_state_crops.at[2010, \"avg_annual_pay_2015\"], 2010,2015) * 100 - 100\n",
    "print(f\"changement de culture = {round(wage_increase_crop,2)}%\")"
   ]
  },
  {
   "cell_type": "code",
   "execution_count": null,
   "metadata": {},
   "outputs": [],
   "source": [
    "ca_state_overall = ca_state_df[ca_state_df.industry_group == 'total'].set_index(\"year\")\n",
    "\n",
    "state_wage_increase = ca_state_overall.at[2015, \"avg_annual_pay_2015\"] / convert_to_year(ca_state_overall.at[2010, \"avg_annual_pay_2015\"], 2010,2015) * 100 - 100\n",
    "print(f\"changement d'état = {round(state_wage_increase, 2)}%\")"
   ]
  },
  {
   "cell_type": "markdown",
   "metadata": {
    "lang": "fr"
   },
   "source": [
    "Où cela a reproduit l'analyse du LA Times sur cette section\n",
    "\n",
    "---\n",
    "### Essaye le\n",
    "- Quel a été le pourcentage de variation des salaires ajustés en fonction de l’inflation entre 1990 et 2015? Qu'en est-il de la non-inflation ajustée?\n",
    "\n",
    "---\n",
    "\n",
    "\n",
    "On voit alors que les salaires des ouvriers agricoles ont augmenté (légèrement) plus de deux fois le taux de salaire en Californie dans le même laps de temps"
   ]
  },
  {
   "cell_type": "code",
   "execution_count": null,
   "metadata": {},
   "outputs": [],
   "source": [
    "print(wage_increase_crop/state_wage_increase)"
   ]
  },
  {
   "cell_type": "markdown",
   "metadata": {
    "lang": "fr"
   },
   "source": [
    "## Reproduire le graphique\n",
    "\n",
    "Nous sommes maintenant en mesure de reproduire le graphique de l'article du LA Times, comme indiqué ci-dessous. La première ligne de code ci-dessous ajoute une autre colonne à notre tableau de données des salaires ajustés en fonction de l’inflation avant que nous ne la représentions."
   ]
  },
  {
   "cell_type": "code",
   "execution_count": null,
   "metadata": {},
   "outputs": [],
   "source": [
    "ca_state_crops[\"inflation_adj\"] = ca_state_crops.apply(lambda row: \n",
    "                                                       convert_to_year(row.avg_annual_pay_2015, \n",
    "                                                                       row.name, \n",
    "                                                                       2015),\n",
    "                                                       axis=1)\n",
    "\n",
    "ca_state_crops.reset_index().plot(kind='line',\n",
    "                                  x='year', \n",
    "                                  y=['inflation_adj'], \n",
    "                                  figsize=(10, 6),\n",
    "                                  )\n",
    "plt.legend([\"Ajusté aux dollars de 2015\"])\n",
    "plt.ylabel(\"Dollars américains\")\n",
    "plt.show()"
   ]
  },
  {
   "cell_type": "markdown",
   "metadata": {
    "lang": "fr"
   },
   "source": [
    "Où cela a réduit le graphique de l'article de LA Time, même si c'est peut-être moins esthétique.\n",
    "\n",
    "---\n",
    "### Essaye le\n",
    "\n",
    "- Essayez d’ajouter la courbe non corrigée de l’inflation au graphique ci-dessus. Cela peut se faire en deux étapes\n",
    "    1. Recherchez la ligne suivante dans le code ci-dessus\n",
    "    ```python\n",
    "    y = ['inflation_adj']\n",
    "    ```\n",
    "    et le changer pour\n",
    "    ```python\n",
    "    y = ['inflation_adj', avg_annual_pay_2015]\n",
    "    ```\n",
    "    2. Recherchez la ligne suivante dans le code ci-dessus\n",
    "    ```python\n",
    "       plt.legend([\"Adjusted to 2015 dollars\"])\n",
    "    ```\n",
    "    et le changer pour\n",
    "    ```python\n",
    "       plt.legend([\"Adjusted to 2015 dollars\", \"your label here\"])\n",
    "    ```\n",
    "\n",
    "---\n",
    "\n",
    "Mais maintenant, cela pourrait devenir plus intéressant si nous commençons à comparer directement les salaires des différentes cultures. À partir de là, nous divergons maintenant de l'analyse du LA Times. Les informations de tous les états peuvent être affichées en utilisant le widget ci-dessous en ajustant les menus déroulants."
   ]
  },
  {
   "cell_type": "code",
   "execution_count": null,
   "metadata": {},
   "outputs": [],
   "source": [
    "def make_df(state, kind):\n",
    "    out_df = state_df[state_df.area_title.str.match(state)]\n",
    "    out_df = out_df[out_df.industry_group == str(kind)].set_index(\"year\")\n",
    "    \n",
    "    out_df[\"inflation_adj\"] = out_df.apply(lambda row: \n",
    "                                                convert_to_year(row.avg_annual_pay_2015, \n",
    "                                                row.name, \n",
    "                                                2015),\n",
    "                                                axis=1)\n",
    "    return out_df\n",
    "\n",
    "def state_comparison(state1, state2, kind, Show_actual = True):\n",
    "    state1_df = make_df(state1,kind)\n",
    "    state1_df = state1_df.reset_index()\n",
    "    if state2:\n",
    "        state2_df = make_df(state2,kind)\n",
    "        state2_df = state2_df.reset_index()\n",
    "    fig = plt.figure(figsize=(12, 8))\n",
    "   \n",
    "    plt.plot(state1_df['year'], state1_df['inflation_adj'])\n",
    "    \n",
    "    difference1 = state1_df.at[25, \"inflation_adj\"]-state1_df.at[0, \"inflation_adj\"]\n",
    "        \n",
    "    plt.legend([ \"Adjusted to 2015 dollars\", \"No Adjustment for Inflation\"])\n",
    "    plt.ylabel(\"US Dollars\", size =16)\n",
    "    plt.xlabel(\"Year\", size=16)\n",
    "    \n",
    "    if state2:\n",
    "        plt.plot(state2_df['year'], state2_df['inflation_adj'])\n",
    "\n",
    "    else:\n",
    "         plt.legend([\"Adjusted to 2015 dollars\",\"No Adjustment for Inflation\"])\n",
    "            \n",
    "    if Show_actual:\n",
    "        plt.plot(state1_df['year'], state1_df['avg_annual_pay_2015'])\n",
    "        plt.legend([\"Adjusted to 2015 dollars\",\"No Adjustment for Inflation\"])\n",
    "        if state2:\n",
    "            plt.plot(state2_df['year'], state2_df['avg_annual_pay_2015'])\n",
    "    \n",
    "    if state2:\n",
    "        difference2 = state2_df.at[25, \"inflation_adj\"]-state2_df.at[0, \"inflation_adj\"]\n",
    "        plt.legend([\n",
    "            ' '.join([state1.rstrip(\" Statewide\"), \"Adjusted to 2015 dollars\"]),\n",
    "            ' '.join([state2.rstrip(\" Statewide\"), \"Adjusted to 2015 dollars\"]),\n",
    "            ' '.join([state1.rstrip(\" Statewide\"),\"No Adjustment for Inflation\"]),\n",
    "            ' '.join([state2.rstrip(\" Statewide\"),\"No Adjustment for Inflation\"])\n",
    "        ])\n",
    "        \n",
    "        plt.title(\" \".join([state1.rstrip(\" Statewide\"),\n",
    "                            \"Change in pay (2015 dollars) = $\",\n",
    "                            str(round(difference1,2)), '\\n',\n",
    "                            state2.rstrip(\" Statewide\"),\n",
    "                            \"Change in pay (2015 dollars) = $\",\n",
    "                            str(round(difference2,2))]))\n",
    "    else:\n",
    "         plt.title(\" \".join([state1.rstrip(\" Statewide\"),\n",
    "                            \"Change in pay (2015 dollars) = $\",\n",
    "                            str(round(difference1,2))]))\n",
    "        \n",
    "    plt.show()\n",
    "    \n",
    "choices = list(state_df[\"area_title\"].unique())[0:-1]\n",
    "choices.remove('District of Columbia')\n",
    "choices2 = [None] + choices"
   ]
  },
  {
   "cell_type": "markdown",
   "metadata": {
    "lang": "fr"
   },
   "source": [
    "En utilisant le widget ci-dessus, vous pouvez comparer les payeurs entre les états et voir les échelles de salaire non modifiées en cliquant sur \"Afficher _\". Vous pouvez également ajuster l'inflation. Si vous comparez la Californie au Minnesota, par exemple, vous remarquerez que les salaires ont augmenté dans les deux États. Fait intéressant, le Minnesota paye les agriculteurs de manière plus constante que la Californie.\n",
    "\n",
    "## Choses à considérer de l'intrigue ci-dessus\n",
    "Vérifiez les traces de tous les états qui vous intéressent. Une question que vous pourriez vous poser pourrait provenir de la trace d'Hawaii une fois ajustée pour tenir compte de l'inflation. L'âge des agriculteurs y a diminué de 1995 à 2004. Une excellente question de recherche pour les élèves pourrait être d'étudier_ pourquoi_ ce pourrait être le cas et quels événements ont mené à ce changement. De plus, Hawaï rebondit après 2005, quels événements ont eu lieu qui pourraient causer cela?\n",
    "\n",
    "D'autres questions intéressantes pourraient être plus fondamentales telles que les salaires réels par rapport à l'inflation ou même en comparant deux états. Certes, une étude de cas intéressante pourrait être Porto Rico, mais cela sera montré plus directement dans la prochaine section.\n",
    "\n",
    "## Quels États ont les salaires les plus élevés et les plus bas?\n",
    "\n",
    "Avec toutes ces données qui semblent être une prochaine question naturelle à poser, et peut-être une question intéressante à poser aux élèves. En utilisant notre base de données déjà établie, trouver ces réponses est simple. Ils sont démontrés ci-dessous."
   ]
  },
  {
   "cell_type": "code",
   "execution_count": null,
   "metadata": {},
   "outputs": [],
   "source": [
    "crops_df = state_df[state_df.industry_group == 'crops'].dropna(subset=[\"avg_annual_pay_2015\"])\n",
    "\n",
    "# This adds a column of inflation adjusted values.\n",
    "crops_df[\"inflation_adj\"] = crops_df.apply(lambda row: \n",
    "                                           convert_to_year(row.avg_annual_pay_2015, \n",
    "                                           row.year, \n",
    "                                            2015),\n",
    "                                            axis=1)\n",
    "YEAR = 1990\n",
    "\n",
    "min_pay = crops_df[crops_df.year == YEAR][\"inflation_adj\"].min()\n",
    "max_pay = crops_df[crops_df.year == YEAR][\"inflation_adj\"].max()\n",
    "\n",
    "print(\"salaire minimum en\", YEAR, \"était $\", min_pay)\n",
    "print(\"salaire maximale en\", YEAR, \"était $\", max_pay)"
   ]
  },
  {
   "cell_type": "markdown",
   "metadata": {
    "lang": "fr"
   },
   "source": [
    "Ici, nous avons trouvé le salaire minimum et maximum en 1990 en dollars équivalents de 2015.\n",
    "\n",
    "---\n",
    "### Essaye le\n",
    "- Quelle variable doit être ajustée pour voir différentes années? Essayez de trouver le salaire minimum et maximum en 2015 en modifiant la cellule ci-dessus.\n",
    "- Que pensez-vous que vous devez modifier pour voir le salaire minimum et maximum sans ajustements d’inflation? Visualisez les salaires non ajustés en 1990 en modifiant la cellule ci-dessus.\n",
    "---\n",
    "\n",
    "\n",
    "\n",
    "\n",
    "\n",
    "## Mettre tout cela ensemble dans un tableau\n",
    "Maintenant, les valeurs minimales et maximales sont excellentes, mais ce sera plus intéressant si nous pouvons extraire certaines valeurs et les placer dans un tableau pour une analyse plus approfondie. Une de ces analyses qui pourrait être intéressante est pour chaque année, quel Etat a payé le plus et le moins à ses agriculteurs? Ceci est une autre tâche qui peut être accomplie en utilisant les ordinateurs portables Python et Jupyer."
   ]
  },
  {
   "cell_type": "code",
   "execution_count": null,
   "metadata": {},
   "outputs": [],
   "source": [
    "crops_df = crops_df.sort_values(\"avg_annual_pay_2015\")\n",
    "crops_df[\"inflation_adj\"] = crops_df.apply(lambda row: \n",
    "                                            convert_to_year(row.avg_annual_pay_2015, \n",
    "                                            row.year, \n",
    "                                            2015),\n",
    "                                            axis=1)\n",
    "\n",
    "columns_to_see = [\"year\",\"area_title\",\"avg_annual_pay_2015\",\"inflation_adj\"]\n",
    "\n",
    "crops_df[columns_to_see].groupby('year').nth(-1)"
   ]
  },
  {
   "cell_type": "markdown",
   "metadata": {
    "lang": "fr"
   },
   "source": [
    "Où dans le tableau ci-dessus, nous pouvons voir les travailleurs les plus hauts et les plus bas (et tout entre les deux) chaque année.\n",
    "\n",
    "---\n",
    "**Essaye le**\n",
    "\n",
    "La cellule ci-dessus imprime les états les mieux payés chaque année. Pour afficher les états les moins bien payés, essayez ce qui suit:\n",
    "    \n",
    "Dans la cellule ci-dessus, trouvez la ligne qui affiche les états les mieux payés\n",
    "\n",
    "`crops_df[columns_to_see].groupby('year').nth(-1)`\n",
    "\n",
    "et le changer à\n",
    "\n",
    "`crops_df[columns_to_see].groupby('year').nth(0)`\n",
    "\n",
    "pour imprimer les états les moins payés. Dans ce cas, le `-1` spécifie le dernier élément de la liste,` -2` spécifierait le deuxième dernier élément, etc.\n",
    "\n",
    "Changez la même ligne à\n",
    "\n",
    "`crops_df[columns_to_see].groupby('year').nth(1)`\n",
    "\n",
    "\n",
    "voir le deuxième état le moins bien payé.\n",
    "\n",
    "Quel état a réalisé le deuxième salaire le plus élevé en 2014?\n",
    "\n",
    "---\n",
    "\n",
    "## Créer un autre type de tracé interactif\n",
    "Cela pourrait être plus intéressant de le voir résumé dans un graphique qui inclut également l'interactivité de la souris en vol stationnaire afin que nous puissions obtenir plus d'informations à ce sujet. Ceci est résumé ci-dessous."
   ]
  },
  {
   "cell_type": "code",
   "execution_count": null,
   "metadata": {},
   "outputs": [],
   "source": [
    "plot_df = crops_df[columns_to_see].groupby('year').nth(-1)\n",
    "\n",
    "traces = []\n",
    "names = [\"Lowest Paid\", \"Second Lowest Paid\", \"Second Highest Paid\", \"Highest Paid\"]\n",
    "\n",
    "for j, i in enumerate([0,1,-2,-1]):\n",
    "    plot_df = crops_df[columns_to_see].groupby('year').nth(i) \n",
    "    traces.append(go.Scatter(\n",
    "      x=plot_df.index,\n",
    "      y=plot_df.inflation_adj,\n",
    "      text = plot_df.area_title,\n",
    "      name = names[j]\n",
    "    ))\n",
    "\n",
    "layout = go.Layout(\n",
    "    title=\"Salaires agricoles triés et corrigés de l'inflation\",\n",
    "    xaxis=dict(\n",
    "        title='Année',\n",
    "        titlefont=dict(\n",
    "            size=18,\n",
    "            color='#7f7f7f'\n",
    "        )\n",
    "    ),\n",
    "    yaxis=dict(\n",
    "        title=\"dollars américains\",\n",
    "        titlefont=dict(\n",
    "            size=18,\n",
    "            color='#7f7f7f'\n",
    "        )\n",
    "    )\n",
    ")\n",
    "\n",
    "fig = go.Figure(data=(traces), layout=layout)\n",
    "    \n",
    "iplot(fig)"
   ]
  },
  {
   "cell_type": "markdown",
   "metadata": {
    "lang": "fr"
   },
   "source": [
    "En utilisant une parcelle comme celle-ci, il est facile de voir comment les salaires minimums et maximaux des agriculteurs ont changé aux États-Unis de 1990 à 2015. Il est également très simple de survoler le graphique avec une souris. terrain.\n",
    "\n",
    "Des questions intéressantes qui pourraient être posées aux étudiants de ce complot pourraient entourer les circonstances dans lesquelles les agriculteurs de Porto Rico sont moins payés que les autres agriculteurs des États-Unis. Souvent beaucoup moins que l’état suivant le plus bas, à l’ordre de 5000 dollars par an. Cinq mille dollars par an représentent environ le tiers du salaire maximum des agriculteurs de Porto Rico.\n",
    "\n",
    "\n",
    "Des tracés comme celui-ci peuvent rendre interactif et naturel que les élèves étudient les données. Peut-être y a-t-il une tendance qui les distingue - un problème social qui cause des écarts entre États ou d'importantes fluctuations salariales d'année en année. En effet, si vous trouvez ce cahier intéressant, nous pouvons créer quelque chose de similaire à utiliser dans votre classe. À condition que les données existent bien sûr.\n",
    "\n",
    " Vous pouvez demander à vos élèves d'interagir directement avec les données d'une manière que vous avez vue ici, ou nous pouvons masquer tout le codage en arrière-plan comme nous l'avons fait avec le widget et le graphique ci-dessus. À quel point l'interaction directe que vous voulez que vos élèves aient avec Python pour réussir la leçon / l'affectation dépend entièrement de vous.\n",
    "\n",
    "# À emporter\n",
    "\n",
    "Dans ce cahier, nous avons montré comment une application de sciences sociales existante peut être étendue dans votre classe de manière à démontrer la pensée informatique, la pensée critique et les compétences en recherche. Il a également montré comment utiliser des ensembles de données existants pour analyser plus en détail différents problèmes."
   ]
  },
  {
   "cell_type": "markdown",
   "metadata": {},
   "source": [
    "[![Callysto.ca License](https://github.com/callysto/curriculum-notebooks/blob/master/callysto-notebook-banner-bottom.jpg?raw=true)](https://github.com/callysto/curriculum-notebooks/blob/master/LICENSE.md)"
   ]
  }
 ],
 "metadata": {
  "kernelspec": {
   "display_name": "Python 3.10.4 64-bit",
   "language": "python",
   "name": "python3"
  },
  "language_info": {
   "codemirror_mode": {
    "name": "ipython",
    "version": 3
   },
   "file_extension": ".py",
   "mimetype": "text/x-python",
   "name": "python",
   "nbconvert_exporter": "python",
   "pygments_lexer": "ipython3",
   "version": "3.10.4"
  },
  "nbTranslate": {
   "displayLangs": [
    "*"
   ],
   "hotkey": "alt-t",
   "langInMainMenu": true,
   "sourceLang": "en",
   "targetLang": "fr",
   "useGoogleTranslate": true
  },
  "vscode": {
   "interpreter": {
    "hash": "aee8b7b246df8f9039afb4144a1f6fd8d2ca17a180786b69acc140d282b71a49"
   }
  }
 },
 "nbformat": 4,
 "nbformat_minor": 4
}
