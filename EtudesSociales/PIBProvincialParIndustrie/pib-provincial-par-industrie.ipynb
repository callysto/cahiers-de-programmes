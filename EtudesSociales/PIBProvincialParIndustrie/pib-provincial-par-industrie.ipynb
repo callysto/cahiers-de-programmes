{
 "cells": [
  {
   "cell_type": "markdown",
   "metadata": {},
   "source": [
    "![Callysto.ca Banner](https://github.com/callysto/curriculum-notebooks/blob/master/callysto-notebook-banner-top.jpg?raw=true)"
   ]
  },
  {
   "cell_type": "markdown",
   "metadata": {
    "lang": "fr"
   },
   "source": [
    "# PIB provincial par industrie\n",
    "\n",
    "Ce cahier explore le produit intérieur brut, utilisant les [données publiées par Statistique Canada au 2018-05-02](http://www.statcan.gc.ca/daily-quotidien/180502/dq180502a-fra.htm) . L'objectif est de générer une vue d'ensemble de l'économie canadienne, séparée par les provinces et les secteurs industriels. Les montants sont en dollars enchaînés (2007) (millions).\n",
    "\n",
    "Questions spécifiques que je veux comprendre:\n",
    "\n",
    "+ Quels sont les 10 principaux postes sectoriels au Canada?\n",
    "+ Quels sont les 10 principaux postes sectoriels de chaque province?\n",
    "\n",
    "> Auteur: [J. Colliander] (http://colliand.com)\n",
    "> Date: 2018-05-03"
   ]
  },
  {
   "cell_type": "code",
   "execution_count": null,
   "metadata": {},
   "outputs": [],
   "source": [
    "import pandas as pd\n",
    "import numpy as np\n",
    "import matplotlib.pyplot as plt "
   ]
  },
  {
   "cell_type": "code",
   "execution_count": null,
   "metadata": {},
   "outputs": [],
   "source": [
    "## The data was downloaded from StatsCan.\n",
    "## The first 3 rows contain header information that we don't want in the data frame.\n",
    "## The last 28 rows contain footnotes and information about the data set. We don't want those in the frame.\n",
    "## skipfooter seemed to require changing the engine from default 'c' to 'python'.\n",
    "gitems = pd.read_csv('./data/cansim-3790030-eng-4789079444265787071.csv', skiprows = 3, skipfooter = 28, engine='python')"
   ]
  },
  {
   "cell_type": "code",
   "execution_count": null,
   "metadata": {},
   "outputs": [],
   "source": [
    "## Throw away lines with internal Provincial and territorial totals.\n",
    "## There may be other internal totals included here.\n",
    "## TODO Review the footnotes and accompanying information on the data set.\n",
    "df = gitems.loc[~(gitems['North American Industry Classification System (NAICS)'].str.contains('All industries'))]"
   ]
  },
  {
   "cell_type": "code",
   "execution_count": null,
   "metadata": {},
   "outputs": [],
   "source": [
    "df"
   ]
  },
  {
   "cell_type": "code",
   "execution_count": null,
   "metadata": {},
   "outputs": [],
   "source": [
    "years = ['2013', '2014','2015', '2016', '2017']"
   ]
  },
  {
   "cell_type": "code",
   "execution_count": null,
   "metadata": {},
   "outputs": [],
   "source": [
    "## Total GDP vs Years\n",
    "for year in years:\n",
    "    print(year, df[year].sum())"
   ]
  },
  {
   "cell_type": "code",
   "execution_count": null,
   "metadata": {},
   "outputs": [],
   "source": [
    "df['Geography'].unique()"
   ]
  },
  {
   "cell_type": "code",
   "execution_count": null,
   "metadata": {},
   "outputs": [],
   "source": [
    "## long column label.\n",
    "df = df.rename(columns={'North American Industry Classification System (NAICS)': 'NAICS'})"
   ]
  },
  {
   "cell_type": "code",
   "execution_count": null,
   "metadata": {},
   "outputs": [],
   "source": [
    "df.columns"
   ]
  },
  {
   "cell_type": "code",
   "execution_count": null,
   "metadata": {
    "scrolled": true
   },
   "outputs": [],
   "source": [
    "## Industry sectors sorted by total value across all provinces and territories\n",
    "df.groupby(['NAICS']).sum()['2017'].sort_values(ascending=False).head(n=25)"
   ]
  },
  {
   "cell_type": "code",
   "execution_count": null,
   "metadata": {},
   "outputs": [],
   "source": [
    "## GDP vs Provinces\n",
    "pd.pivot_table(df,index=['Geography'], \n",
    "               aggfunc = sum, \n",
    "               values = ['2017','2016','2015','2014','2013']).sort_values(by=['2017'], \n",
    "                ascending=[False]).plot(kind='bar', figsize=(10,6))"
   ]
  },
  {
   "cell_type": "code",
   "execution_count": null,
   "metadata": {},
   "outputs": [],
   "source": [
    "## 2017 Single Largest GDP Sector Sorted\n",
    "pd.pivot_table(df,index=['NAICS'], \n",
    "               aggfunc = sum, values = ['2017','2016','2015','2014','2013']).sort_values(by=['2017'], \n",
    "                ascending=[False]).head(n=10).plot(kind='bar', figsize=(10,6))"
   ]
  },
  {
   "cell_type": "code",
   "execution_count": null,
   "metadata": {},
   "outputs": [],
   "source": [
    "## 2017 GDP vs Sector separated by Geography and sorted by maximum value\n",
    "pd.pivot_table(df,index=['Geography', 'NAICS'], \n",
    "               aggfunc = max, values = ['2017']).sort_values(by=['2017'], ascending=[False]).head(n=25)"
   ]
  },
  {
   "cell_type": "code",
   "execution_count": null,
   "metadata": {},
   "outputs": [],
   "source": [
    "## 2017 Individual Lines Items in the GDP breakdown of Geography X Sector\n",
    "pd.pivot_table(df,index=['Geography','NAICS'], \n",
    "               aggfunc = sum, values = ['2017','2016','2015','2014','2013']).sort_values(by='2017', ascending=False).head(n=10).plot(\n",
    "                kind='bar', figsize=(10, 6))"
   ]
  },
  {
   "cell_type": "markdown",
   "metadata": {
    "lang": "fr"
   },
   "source": [
    "Le PIB de l'Alberta, extraction du pétrole et du gaz [211], est comparable au PIB de l'Ontario, immobilier [531]. Le PIB de la Colombie-Britannique (66), immobilier [531], représente environ la moitié de la contribution de l'extraction du pétrole et du gaz d'Alberta et d'immobilier d'Ontario."
   ]
  },
  {
   "cell_type": "markdown",
   "metadata": {
    "lang": "fr"
   },
   "source": [
    "## Analyser le PIB provincial entre les secteurs"
   ]
  },
  {
   "cell_type": "code",
   "execution_count": null,
   "metadata": {},
   "outputs": [],
   "source": [
    "df['Geography'].unique()"
   ]
  },
  {
   "cell_type": "code",
   "execution_count": null,
   "metadata": {},
   "outputs": [],
   "source": [
    "provinces = ['Newfoundland and Labrador', 'Prince Edward Island', 'Nova Scotia',\n",
    "       'New Brunswick', 'Quebec', 'Ontario', 'Manitoba', 'Saskatchewan',\n",
    "       'Alberta', 'British Columbia (66)', 'Yukon',\n",
    "       'Northwest Territories', 'Nunavut']"
   ]
  },
  {
   "cell_type": "code",
   "execution_count": null,
   "metadata": {
    "scrolled": true
   },
   "outputs": [],
   "source": [
    "whichprovince = 'British Columbia (66)'\n",
    "pd.pivot_table(df.loc[df['Geography']== whichprovince],index=['NAICS'], \n",
    "               aggfunc = sum, values = ['2017','2016','2015','2014','2013']).sort_values(by='2017', ascending=False).head(n=20).plot(\n",
    "                kind='bar', cmap=\"viridis\", figsize=(16, 10), title= whichprovince)"
   ]
  },
  {
   "cell_type": "code",
   "execution_count": null,
   "metadata": {},
   "outputs": [],
   "source": [
    "whichprovince = 'Alberta'\n",
    "pd.pivot_table(df.loc[df['Geography']== whichprovince],index=['NAICS'], \n",
    "               aggfunc = sum, values = ['2017','2016','2015','2014','2013']).sort_values(by='2017', ascending=False).head(n=20).plot(\n",
    "                kind='bar', cmap=\"viridis\", figsize=(12, 7), title= whichprovince)"
   ]
  },
  {
   "cell_type": "code",
   "execution_count": null,
   "metadata": {},
   "outputs": [],
   "source": [
    "whichprovince = 'Alberta'\n",
    "pd.pivot_table(df.loc[df['Geography']== whichprovince],index=['NAICS'], \n",
    "               aggfunc = sum, values = ['2017']).sort_values(by='2017', ascending=False).head(n=15).plot(\n",
    "                kind='pie', subplots=True, title= whichprovince, legend=False, figsize=(6,6), autopct='%1.1f%%')"
   ]
  },
  {
   "cell_type": "code",
   "execution_count": null,
   "metadata": {},
   "outputs": [],
   "source": [
    "whichprovince = 'Ontario'\n",
    "pd.pivot_table(df.loc[df['Geography']== whichprovince],index=['NAICS'], \n",
    "               aggfunc = sum, values = ['2017']).sort_values(by='2017', ascending=False).head(n=10).plot(\n",
    "                kind='pie', subplots=True, title= whichprovince, legend=False, figsize=(6,6), autopct='%1.1f%%')"
   ]
  },
  {
   "cell_type": "code",
   "execution_count": null,
   "metadata": {
    "scrolled": true
   },
   "outputs": [],
   "source": [
    "whichprovince = 'British Columbia (66)'\n",
    "pd.pivot_table(df.loc[df['Geography']== whichprovince],index=['NAICS'], \n",
    "               aggfunc = sum, values = ['2017']).sort_values(by='2017', ascending=False).head(n=10).plot(\n",
    "                kind='pie', subplots=True, \n",
    "                title= whichprovince, legend=False, autopct='%1.1f%%', radius=1, figsize =(6,6))"
   ]
  },
  {
   "cell_type": "code",
   "execution_count": null,
   "metadata": {
    "lang": "en"
   },
   "outputs": [],
   "source": [
    "## This code creates a pivot table. Drag the column headings and play with the drop down menus to explore.\n",
    "from pivottablejs import pivot_ui\n",
    "pivot_ui(df)"
   ]
  },
  {
   "cell_type": "markdown",
   "metadata": {},
   "source": [
    "[![Callysto.ca License](https://github.com/callysto/curriculum-notebooks/blob/master/callysto-notebook-banner-bottom.jpg?raw=true)](https://github.com/callysto/curriculum-notebooks/blob/master/LICENSE.md)"
   ]
  }
 ],
 "metadata": {
  "kernelspec": {
   "display_name": "Python 3",
   "language": "python",
   "name": "python3"
  },
  "language_info": {
   "codemirror_mode": {
    "name": "ipython",
    "version": 3
   },
   "file_extension": ".py",
   "mimetype": "text/x-python",
   "name": "python",
   "nbconvert_exporter": "python",
   "pygments_lexer": "ipython3",
   "version": "3.7.3"
  },
  "latex_envs": {
   "LaTeX_envs_menu_present": true,
   "autoclose": false,
   "autocomplete": true,
   "bibliofile": "biblio.bib",
   "cite_by": "apalike",
   "current_citInitial": 1,
   "eqLabelWithNumbers": true,
   "eqNumInitial": 1,
   "hotkeys": {
    "equation": "Ctrl-E",
    "itemize": "Ctrl-I"
   },
   "labels_anchors": false,
   "latex_user_defs": false,
   "report_style_numbering": false,
   "user_envs_cfg": false
  },
  "nbTranslate": {
   "displayLangs": [
    "*"
   ],
   "hotkey": "alt-t",
   "langInMainMenu": true,
   "sourceLang": "en",
   "targetLang": "fr",
   "useGoogleTranslate": true
  }
 },
 "nbformat": 4,
 "nbformat_minor": 2
}
