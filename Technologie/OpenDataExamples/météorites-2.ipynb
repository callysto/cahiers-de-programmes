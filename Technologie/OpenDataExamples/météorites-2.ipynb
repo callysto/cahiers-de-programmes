{
 "cells": [
  {
   "cell_type": "markdown",
   "metadata": {},
   "source": [
    "![Callysto.ca Banner](https://github.com/callysto/curriculum-notebooks/blob/master/callysto-notebook-banner-top.jpg?raw=true)"
   ]
  },
  {
   "cell_type": "markdown",
   "metadata": {
    "lang": "fr"
   },
   "source": [
    "# Travailler avec des données ouvertes Partie 5: Atterrissages de météorites et chutes Partie 2\n",
    "\n",
    "Maintenant que nous avons appris à utiliser les blocs-notes Jupyter pour créer des cartes à l'aide de données géo-spatiales et à créer des widgets interactifs, analysons certaines données. Cet ensemble de données est plutôt riche et nous pouvons tirer des conclusions intéressantes des données. Pour commencer, nous devons d'abord rassembler nos bibliothèques et l'ensemble de données dans ce cahier."
   ]
  },
  {
   "cell_type": "code",
   "execution_count": null,
   "metadata": {},
   "outputs": [],
   "source": [
    "'''\n",
    "This is exactly what we did in the previous notebook: just getting the data again\n",
    "'''\n",
    "\n",
    "import pandas as pd\n",
    "import matplotlib.pyplot as plt\n",
    "%matplotlib inline\n",
    "\n",
    "# numerical python library\n",
    "import numpy as np\n",
    "url = 'https://github.com/fleiser/Meteorite-landings/raw/master/Meteorite_Landings.csv'\n",
    "landings = pd.read_csv(url)\n"
   ]
  },
  {
   "cell_type": "markdown",
   "metadata": {
    "lang": "fr"
   },
   "source": [
    "# Analyse de données plus approfondie\n",
    "\n",
    "Cet ensemble de données contient plus que la géo-localisation des chutes de météorites. Il contient également des informations sur leur présence ou non, et des quantifications telles que le type de météorite et la masse. En tant que tel, il est intéressant d’explorer davantage ces résultats, peut-être y a-t-il des tendances intéressantes dans les données - en attendant que nous les découvrions.\n",
    "\n",
    "\n",
    "Les premières choses d'abord calculons le pourcentage de météorites trouvées par rapport aux météorites totales qui sont tombées"
   ]
  },
  {
   "cell_type": "code",
   "execution_count": null,
   "metadata": {},
   "outputs": [],
   "source": [
    "a = len(landings[landings['fall'] == \"Fell\"])\n",
    "b = len(landings[landings['fall'] == \"Found\"])\n",
    "print(\"Percentage of fallen meteorites found:\", b/(a+b) * 100, '%')"
   ]
  },
  {
   "cell_type": "markdown",
   "metadata": {
    "lang": "fr"
   },
   "source": [
    "Il est intéressant de noter que la majorité des météorites qui tombent sont effectivement trouvées. Les météorites laissées inconnues ont-elles des propriétés distinctives? Il y a des facteurs externes tels que la géographie ou l'isolement où la météorite est tombée, ce qui la rend difficile à trouver. Mais peut-être y a-t-il aussi des facteurs internes qui contribuent à leur difficulté à trouver? Les données contiennent plusieurs propriétés telles que la masse et le type de chaque météorite. En utilisant ces propriétés, créons des visualisations pour essayer de déduire les propriétés pouvant déterminer si une météorite est située ou non.\n",
    "\n",
    "## Histogrammes\n",
    "\n",
    "Dans ce cas, une quantité potentielle d'intérêt est la masse des météorites qui tombent. Peut-être y a-t-il une relation entre la taille d'une météorite et sa probabilité de découverte? Créons un histogramme des masses des météorites \"Found\" et \"Fell\"."
   ]
  },
  {
   "cell_type": "code",
   "execution_count": null,
   "metadata": {},
   "outputs": [],
   "source": [
    "# This filters down our data frame to just rows where 'fall' is 'Fell' or \"Found\", and then\n",
    "# by typing ['mass (g)'] after wards, we're only grabbing the mass column and assigning \n",
    "# them to a new variable. \n",
    "\n",
    "mass_fell = landings[landings['fall'] == \"Fell\"]['mass (g)']\n",
    "mass_found = landings[landings['fall'] == \"Found\"]['mass (g)']\n",
    "\n",
    "# Here we're dropping any potential NaN values we've seen before from our columns to prevent \n",
    "# any errors when plotting. To see the error that will show, simply remove the .dropna() \n",
    "\n",
    "mass_fell = mass_fell.dropna()\n",
    "mass_found = mass_found.dropna()\n",
    "\n",
    "# Make a list of data to plot\n",
    "plot_data = [mass_found, mass_fell]\n",
    "\n",
    "\n",
    "'''\n",
    "Here we create a histogram. \n",
    "\n",
    "bins  : This key word specifies how many bins to put the data in for the histogram\n",
    "\n",
    "label : This is to specify the labels for each of the bars in the histogram.  \n",
    "'''\n",
    "\n",
    "# This is another way of setting the figure size. \n",
    "plt.figure(figsize=(12,8))\n",
    "\n",
    "plt.hist(plot_data, bins = 50, label = [\"Found\", \"Fell\"])\n",
    "\n",
    "plt.xlabel(\"Mass (g)\", size = 16)\n",
    "plt.ylabel(\"Counts\", size = 16)\n",
    "# Uncomment the line below to see a few more bars in the histogram by changing the y axes range.\n",
    "# plt.ylim([0,10])\n",
    "plt.legend()\n",
    "plt.show()"
   ]
  },
  {
   "cell_type": "markdown",
   "metadata": {
    "lang": "fr"
   },
   "source": [
    "Eh bien, c'est un histogramme particulier qui ne nous dit pas grand chose. Malheureusement, cela est la conséquence de la grande diversité de masses de météorites. Nous avons des météorites incroyablement massives, mais nous avons aussi beaucoup plus de petites météorites de masse. La diffusion des valeurs de la masse de météorites rend difficile l’assemblage des données pour créer un histogramme. Cependant, c'est une chose à laquelle nous pouvons absolument faire face! Presque chaque fois que vous traitez avec des données dont la plage est trop grande, prenez le logarithme des données pour \"écraser\" les données dans une plage plus condensée."
   ]
  },
  {
   "cell_type": "code",
   "execution_count": null,
   "metadata": {},
   "outputs": [],
   "source": [
    "# Note log10 is log base ten. Simply typing 'log' will be the natural logarithm \n",
    "# The other logarithm included in numpy is log2 for log base two. Any other logarithms\n",
    "# (in the event that you need them) will have to be calculated using properties of logarithms. \n",
    "\n",
    "mass_fell_log = np.log10(landings[landings['fall'] == \"Fell\"]['mass (g)'].dropna())\n",
    "mass_found_log = np.log10(landings[landings['fall'] == \"Found\"]['mass (g)'].dropna())"
   ]
  },
  {
   "cell_type": "markdown",
   "metadata": {},
   "source": [
    "Oups, nous avons un avertissement de fonctionnement. Plus précisément, une division par zéro rencontrée dans `log10`. Cette erreur nous dit que nous avons soumis de \"mauvaises\" valeurs dans le logarithme ; en particulier il y a quelques météorites de masse nulle. Dans ce cas, nous allons les filtrer en ajoutant un autre cas à notre filtre où nous trouvons des météorites \"Fell\" et \"Found\". "
   ]
  },
  {
   "cell_type": "code",
   "execution_count": null,
   "metadata": {},
   "outputs": [],
   "source": [
    "# Here we're simply saying that the mass of the meteorite should also be greater than zero!\n",
    "\n",
    "mass_fell_log = np.log10(landings[(landings['fall'] == \"Fell\") &\n",
    "                                  (landings[\"mass (g)\"] > 0)]['mass (g)'].dropna())\n",
    "\n",
    "mass_found_log = np.log10(landings[(landings['fall'] == \"Found\") &\n",
    "                                   (landings[\"mass (g)\"] > 0)]['mass (g)'].dropna())\n"
   ]
  },
  {
   "cell_type": "markdown",
   "metadata": {
    "lang": "fr"
   },
   "source": [
    "Formidable! En excluant les météorites sans masse enregistrée, nous avons corrigé notre erreur. Maintenant, passons au traçage de ces deux quantités dans un histogramme maintenant que nous avons pris le logarithme."
   ]
  },
  {
   "cell_type": "code",
   "execution_count": null,
   "metadata": {},
   "outputs": [],
   "source": [
    "data_for_plot = [mass_fell_log, mass_found_log]\n",
    "\n",
    "plt.figure(figsize = (10,6))\n",
    "\n",
    "'''\n",
    "stacked = True : Tells Python we want these plots \"on top of eachother\". Feel free to change it to\n",
    "                 False to see the difference! \n",
    "'''\n",
    "plt.hist(data_for_plot, \n",
    "         bins = 20,\n",
    "         stacked = True,\n",
    "         label = [\"Fell\", \"Found\"])\n",
    "\n",
    "plt.ylabel( \"Counts\", size = 18)\n",
    "plt.xlabel(\"Mass of Meteorite (log$_{10}$(grams))\", size = 18)\n",
    "plt.legend()\n",
    "plt.show()"
   ]
  },
  {
   "cell_type": "markdown",
   "metadata": {
    "lang": "fr"
   },
   "source": [
    "Où nous voyons qu'il semble y avoir des différences dans les distributions. En raison de la différence d’échelle de nos comptes, il est difficile de comparer les deux distributions. Ne pas s'inquiéter! Il suffit simplement de convertir les \"dénombrements\" en \"pourcentages\" pour les mettre à la même échelle. Cela peut être considéré comme une forme de normalisation. Pour ce faire, nous devons utiliser quelques arguments cachés de la fonction histogramme `hist` de` matplotlib`."
   ]
  },
  {
   "cell_type": "code",
   "execution_count": null,
   "metadata": {},
   "outputs": [],
   "source": [
    "plt.figure(figsize=(11,7))\n",
    "\n",
    "'''\n",
    "Here the new arguments to hist are as follows\n",
    "\n",
    "density  : By setting this true, this tells python to calculate \"the percentage\" of data within each bin\n",
    "           to convert from raw counts to what can be considered a \"probability density\" instead. This allows\n",
    "           both of our meteorite fall types to be on the same scale\n",
    "          \n",
    "histtype : This is a stylization parameter. \"stepfilled\" is simply telling Python that we want bars that look\n",
    "           like \"steps\" and for them to be colored in. \n",
    "           \n",
    "           you can also change this to ‘bar’, ‘barstacked’ or  ‘step' to see how the different plot styles \n",
    "           look. We note that some styles will affect the scaling. \n",
    "\n",
    "alpha    : This takes values from 0 -> 1 and are a measure of how transparent the traces are. \n",
    "'''\n",
    "\n",
    "plt.hist(data_for_plot, \n",
    "         bins = 20, \n",
    "         density = True, \n",
    "         histtype='stepfilled', \n",
    "         alpha = 0.55,\n",
    "         label = [\"Found\", \"Fell\"]) \n",
    "\n",
    "\n",
    "# The dollar signs allow us to use math symbols in the text. \n",
    "plt.xlabel(\"Mass of Meteorite (log$_{10}$(grams))\", size = 18)\n",
    "plt.ylabel(\"Normalized Number Counts\", size = 18)\n",
    "plt.title(\"Mass Distribution of Meteorite Observations\", size = 20)\n",
    "\n",
    "# The prop key word changes the 'proportions' of the legend. \n",
    "plt.legend(prop={'size': 16})\n",
    "plt.show()"
   ]
  },
  {
   "cell_type": "markdown",
   "metadata": {
    "lang": "fr"
   },
   "source": [
    "Avec cette nouvelle échelle, il semble que plus la météorite est massive, moins elle est susceptible d’être trouvée.\n",
    "\n",
    "---\n",
    "\n",
    "## Mise en garde\n",
    "Soyez conscient de la mise à l'échelle. Il semble <_> qu'il soit beaucoup plus probable que des météorites plus massives soient moins susceptibles d’être trouvées. Mais, gardez à l'esprit que l'histogramme bleu ne représente qu'environ 2,5% de toutes les météorites observées.\n",
    "\n",
    "---\n",
    "\n",
    "### Interprétation\n",
    "\n",
    "L'apparence que plus une météorite est massive est faible, moins elle est susceptible d'être trouvée, semble contre-intuitive. Ceci est en réalité le résultat à la fois de l'effet de l'atmosphère sur de grands corps en mouvement rapide et d'une conséquence de la définition de \"Found\" dans cet ensemble de données.\n",
    "\n",
    "En termes d'atmosphère, les plus grosses météorites ont tendance à exploser lorsqu'elles pénètrent dans l'atmosphère terrestre. Par exemple, en 2013, un météore plutôt important a explosé au-dessus de la Russie de Tcheliabinsk, et sa chute est visible dans la vidéo YouTube ci-dessous."
   ]
  },
  {
   "cell_type": "code",
   "execution_count": null,
   "metadata": {},
   "outputs": [],
   "source": [
    "# This library allows us to embed YouTube in Jupyter. \n",
    "from IPython.display import YouTubeVideo\n",
    "\n",
    "YouTubeVideo('fBLjB5qavxY',width=1024*0.75, height=576*0.75)"
   ]
  },
  {
   "cell_type": "markdown",
   "metadata": {
    "lang": "fr"
   },
   "source": [
    "Malgré toutes les preuves vidéo de la chute de ce météore, si nous consultons ce météore dans notre ensemble de données, nous trouverons quelque chose d’intéressant."
   ]
  },
  {
   "cell_type": "code",
   "execution_count": null,
   "metadata": {
    "scrolled": true
   },
   "outputs": [],
   "source": [
    "landings[landings.name == 'Chelyabinsk']"
   ]
  },
  {
   "cell_type": "markdown",
   "metadata": {
    "lang": "fr"
   },
   "source": [
    "Malgré les nombreux angles disponibles pour voir le météore, il n'a jamais été retrouvé? Pourquoi donc? Eh bien, cela nous amène à la sémantique. Ce météore était un astéroïde d'environ 20 mètres de largeur avec une masse supérieure à 10 000 tonnes entrant dans l'atmosphère. Cependant, seulement environ 1000 kg du météore à ce jour ont été récupérés. En conséquence, ce météore est classé comme \"tombé\" au lieu d'être trouvé. De plus, la masse enregistrée n'est que approximativement ce qui a été récupéré jusqu'à présent.\n",
    "\n",
    "\n",
    "Il y a une relation entre la masse de la météorite et si elle est trouvée. Cependant, cette relation est principalement due à la plus grande probabilité d’explosion d’une météorite de grande taille, et à la définition de «trouvé» exigeant la récupération de la majorité du corps.\n",
    "\n",
    "Pour plus d'informations sur les explosions de météorites et les météores de Chelyabinsk, voir\n",
    "\n",
    "1. [L'article de Wikipedia](https://fr.wikipedia.org/wiki/Superbolide_de_Tcheliabinsk)\n",
    "1. [Cet article d'alerte scientifique](https://www.sciencealert.com/why-do-meteors-explode-when-they-reach-earth-atmosphere)\n",
    "\n",
    "Certes, il existe d’autres facteurs liés à la présence de certaines météorites et d’autres, à la masse de la météorite telle que la géographie, ou si elle a été signalée ou non. Quoi qu’il en soit, en explorant la relation avec la masse, nous avons pu découvrir une tendance intéressante cachée dans les données.\n",
    "\n",
    "# Conclusion\n",
    "\n",
    "Dans ce cahier, nous avons montré comment vous pouvez travailler avec votre jeu de données pour obtenir des informations plus intéressantes dans le jeu de données. Plus important encore, nous avons suivi les étapes pour créer un histogramme et couvrir de nombreux problèmes potentiels que vous pourriez rencontrer en le faisant. Nous avons couvert certaines erreurs courantes et des problèmes plus subtils lorsque nous travaillions avec un ensemble de données avec un grand nombre de valeurs et certaines solutions à ces problèmes. Nous avons également expliqué comment certaines tendances intéressantes en matière de données peuvent avoir des explications parfaitement raisonnables et moins intéressantes que celles que les données peuvent nous laisser croire. Nous espérons que cette série de didacticiels vous permettra de vous sentir plus en confiance pour travailler avec des données ouvertes dans les ordinateurs portables Jupyter."
   ]
  },
  {
   "cell_type": "markdown",
   "metadata": {},
   "source": [
    "[![Callysto.ca License](https://github.com/callysto/curriculum-notebooks/blob/master/callysto-notebook-banner-bottom.jpg?raw=true)](https://github.com/callysto/curriculum-notebooks/blob/master/LICENSE.md)"
   ]
  }
 ],
 "metadata": {
  "kernelspec": {
   "display_name": "Python 3",
   "language": "python",
   "name": "python3"
  },
  "language_info": {
   "codemirror_mode": {
    "name": "ipython",
    "version": 3
   },
   "file_extension": ".py",
   "mimetype": "text/x-python",
   "name": "python",
   "nbconvert_exporter": "python",
   "pygments_lexer": "ipython3",
   "version": "3.7.3"
  },
  "latex_envs": {
   "LaTeX_envs_menu_present": true,
   "autoclose": false,
   "autocomplete": true,
   "bibliofile": "biblio.bib",
   "cite_by": "apalike",
   "current_citInitial": 1,
   "eqLabelWithNumbers": true,
   "eqNumInitial": 1,
   "hotkeys": {
    "equation": "Ctrl-E",
    "itemize": "Ctrl-I"
   },
   "labels_anchors": false,
   "latex_user_defs": false,
   "report_style_numbering": false,
   "user_envs_cfg": false
  },
  "nbTranslate": {
   "displayLangs": [
    "*"
   ],
   "hotkey": "alt-t",
   "langInMainMenu": true,
   "sourceLang": "en",
   "targetLang": "fr",
   "useGoogleTranslate": true
  }
 },
 "nbformat": 4,
 "nbformat_minor": 2
}
