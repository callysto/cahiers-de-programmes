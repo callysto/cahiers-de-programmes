{
 "cells": [
  {
   "cell_type": "markdown",
   "metadata": {},
   "source": [
    "![Callysto.ca Banner](https://github.com/callysto/curriculum-notebooks/blob/master/callysto-notebook-banner-top.jpg?raw=true)"
   ]
  },
  {
   "cell_type": "markdown",
   "metadata": {
    "lang": "fr"
   },
   "source": [
    "# Travailler avec des données ouvertes:\n",
    "## Données de kilométrage de voiture, partie 2\n",
    "\n",
    "Ce cahier utilisera le même ensemble de données de kilométrage de voiture que dans la première partie, mais cette fois, nous démontrerons la puissance de l'agrégation de données. Nous allons introduire des tableaux croisés dynamiques dans Pandas et explorer différentes fonctions d'agrégation. Tout d'abord, réimportons les bibliothèques dont nous avons besoin dans ce cahier et téléchargez à nouveau les données."
   ]
  },
  {
   "cell_type": "code",
   "execution_count": null,
   "metadata": {},
   "outputs": [],
   "source": [
    "# This is the same as the previous notebook! We're just importing the data again\n",
    "import pandas as pd\n",
    "import matplotlib.pyplot as plt \n",
    "\n",
    "%matplotlib inline\n",
    "url = 'https://data.opendatasoft.com/explore/dataset/us-vehicle-fuel-economy-data-1984-2017@kapsarc/download/?format=csv&timezone=America/Denver&use_labels_for_header=true'\n",
    "car_data = pd.read_csv(url, sep=';')\n"
   ]
  },
  {
   "cell_type": "markdown",
   "metadata": {
    "lang": "fr"
   },
   "source": [
    "# L'agrégation des données pour des graphiques plus informatifs\n",
    "\n",
    "Les données de kilométrage de la voiture contiennent une colonne temporelle (`year`). Il est souvent intéressant d’observer les changements en fonction du temps. Malheureusement, ces données ne sont pas actuellement organisées de manière à ce que le traçage de nos données en fonction du temps soit immédiatement évident. En utilisant Pandas, nous pouvons utiliser un tableau croisé dynamique pour résumer et agréger les données rapidement et facilement. Si vous avez déjà utilisé un tableau croisé dynamique dans Excel, le concept est identique en Pandas. Les tableaux croisés dynamiques sont utilisés et manipulés un peu différemment au sein de Pandas. Travaillons sur quelques exemples et voyons si nous pouvons trouver quelque chose de plus intéressant dans l'ensemble de données en utilisant un tableau croisé dynamique.\n",
    "\n",
    "## Faire un tableau croisé dynamique\n",
    "\n",
    "Pour créer un tableau croisé dynamique, nous n'avons pas besoin de faire quelquechose plus compliqué que ce que nous avons déjà vu. Nous n'aurons pas à faire de travail supplémentaire ou à écrire des centaines de lignes de code. Comme vous le trouverez avec la plupart des choses que vous voulez faire en Python et Pandas: il y a déjà une fonction qui fait exactement ce que vous voulez. Dans la cellule ci-dessous, nous définissons créer un tableau croisé dynamique à partir de notre trame de données `car _data` en utilisant la fonction de Pandas nommée `pivot_table`."
   ]
  },
  {
   "cell_type": "code",
   "execution_count": null,
   "metadata": {},
   "outputs": [],
   "source": [
    "'''\n",
    "Here we're taking our car data data frame and aggregating it by year, below we explain what each argument does\n",
    "\n",
    "1. car_data          : Here we're simply passing our source data frame into the piviot table\n",
    "\n",
    "2. index = 'year'    : Here we're setting the index of our new piviot table. In essence this can be though of \n",
    "                       as both the 'index' i.e. what value labels each row uniquely, as well as the 'grouping'\n",
    "                       term. In this case, we'll see each row labeled by year, and each data point will be \n",
    "                       aggregated by which unique year it appeard under\n",
    "\n",
    "3. aggfunc = 'count' : This is our aggregation function. In this case we're simply choosing to count how many\n",
    "                       entries happen each year. However, there is no reason that we coudn't aggregate by other\n",
    "                       quantites such as the mean, median, mode, standard deviation and so on instead. \n",
    "                       \n",
    "4. Special Note      : You may have also noticed that we're not explicitly mentioning what to do with those 'NaN'\n",
    "                       values we noticed earlier. That is becasue our piviot table will automatically ignore any \n",
    "                       NaN values during the aggregation so we don't even have to think about it. Convenient!\n",
    "\n",
    "'''\n",
    "\n",
    "pd.pivot_table(car_data, \n",
    "                index = 'year',\n",
    "                aggfunc = 'count')"
   ]
  },
  {
   "cell_type": "markdown",
   "metadata": {
    "lang": "fr"
   },
   "source": [
    "Maintenant que nous avons un tableau croisé dynamique, faisons quelque chose d'un peu plus intéressant et voyons comment l'économie de carburant moyenne a évolué avec le temps. Nous allons agréger (combiner) nos données en calculant la consommation moyenne de carburant pour toutes les voitures chaque année. Comme on peut le voir dans la cellule ci-dessous, cela peut être accompli en une seule ligne de code en utilisant un tableau croisé dynamique."
   ]
  },
  {
   "cell_type": "code",
   "execution_count": null,
   "metadata": {},
   "outputs": [],
   "source": [
    "'''\n",
    "Notice how this time we're not specifying an 'x' axes; this is because we're interested\n",
    "in plotting this by year, and as it's our index pandas will automatically use it for the unspecifed \n",
    "axes. \n",
    "'''\n",
    "\n",
    "pd.pivot_table(car_data,index='year', \n",
    "                        aggfunc = 'mean').plot(y = 'UHighway')"
   ]
  },
  {
   "cell_type": "markdown",
   "metadata": {
    "lang": "fr"
   },
   "source": [
    "Les graphiques résultant de l'agrégation commencent à devenir plus intéressants! Vers 2008, nous constatons une nette augmentation des économies de carburant moyennes de tous les véhicules. Pour obtenir une meilleure image, il est intéressant d’ajouter des mesures de variation à ces graphiques. Comme nous l'avons agrégé par moyenne, il est prudent d'inclure également la moyenne plus et moins l'écart-type dans ce graphique. Nous notons que la moyenne et l'écart type ne sont pas les meilleurs indicateurs pour des données comme celle-ci, car il est probable que les choses ne sont pas distribuées normalement. À des fins de démonstration comme celle-ci, il est plus que suffisant d'utiliser la moyenne et l'écart type pour la simplicité et l'exploration."
   ]
  },
  {
   "cell_type": "code",
   "execution_count": null,
   "metadata": {},
   "outputs": [],
   "source": [
    "# This time we're giving both our mean and standard deviation names that we can call later\n",
    "# Unfortunately, we're not very creative so we're simply calling the mean 'a' and standard\n",
    "# deviation 'b'.\n",
    "\n",
    "a = pd.pivot_table(car_data,index ='year', \n",
    "                   aggfunc = 'mean')\n",
    "\n",
    "b = pd.pivot_table(car_data,index ='year', \n",
    "                   aggfunc = 'std')\n",
    "\n",
    "# Here we're naming our plot 'ax' for axes \n",
    "\n",
    "my_plot = a.plot(y = 'UHighway', label=\"Mean\", figsize = (12,8))\n",
    "\n",
    "\n",
    "'''\n",
    "There's a lot going on in the two lines of code below, so let's take a moment to understand them\n",
    "\n",
    "1. When we type (a + b), we're actually adding our dataframes together element-by-element. This is \n",
    "   possible because a and b have identical column names and sizes. When we wrap them in parenthesis,\n",
    "   the .plot command will see that as a single data frame. We could have also specified something like\n",
    "       \n",
    "       Plus_one_sd = a + b\n",
    "       Plus_one_sd.plot( ... )\n",
    "    \n",
    "    However, sometimes it's easier to just do things in a single line. \n",
    "\n",
    "2. Also specifying ax=my_plot. This tells Python to place these new traces on the same picture as \n",
    "   'my_plot', or the plot of the mean we did in the line before this. \n",
    "\n",
    "3. By just doing mean +/- standard deviation, we are assuming symmetric uncertainties, and this may not\n",
    "   be the case in the actual data. But, for our purposes, it's likely more than adequate. \n",
    "'''\n",
    "\n",
    "(a + b).plot(ax = my_plot, y = 'UHighway', label = \"Mean + sd\") \n",
    "(a - b).plot(ax = my_plot, y= 'UHighway', label = \"Mean - sd\")\n",
    "\n",
    "plt.title(\"Average Fuel Economy\", size = 20)        \n",
    "plt.xlabel(\"Year\" , size = 16) \n",
    "plt.ylabel(\"Highway Miles Per Gallon\", size = 16)     \n",
    "plt.xticks(size = 14)                             \n",
    "plt.yticks(size = 14)                              \n",
    "plt.grid('on')                                     \n",
    "plt.autoscale(tight = True)  \n",
    "plt.legend(fontsize = 14) # Change font size of legend"
   ]
  },
  {
   "cell_type": "markdown",
   "metadata": {
    "lang": "fr"
   },
   "source": [
    "En agrégeant les données et en observant les variations qui en résultent, une image beaucoup plus intéressante commence à apparaître. L'année 2010 a été marquée par une tendance à la hausse du rendement de comburant moyen, qui a atteint son sommet en 2017 avant de commencer à diminuer. En 2019 (les données les plus récentes), l'écart type de l'ensemble de données montre une diminution significative. Cela implique qu'il y a moins de variation dans les données pour les modèles de voitures 2019. Il pourrait y avoir plusieurs raisons de cette tendance et de l'étrangeté de 2019. Peut-être y a-t-il plus de véhicules avec des moteurs plus gros fabriqués en 2019? Peut-être qu'il manque des données? Ou peut-être quelque chose de complètement différent. Il y a beaucoup de raisons potentielles. Voyons s'il y a un argument plus fort que la spéculation en utilisant certaines des compétences que nous avons déjà utilisées (et en en introduisant une autre)\n",
    "\n",
    "## Une analyse approfondie\n",
    "\n",
    "En ce qui concerne le rendement de comburant, le nombre de cylindres dans le moteur est le signe le plus révélateur d'un véhicule plus ou moins économe en carburant. Un moteur avec plus de cylindres utilisera plus d'essence qu'un moteur avec moins. Dans ce cas, l'une des choses que nous pouvons faire est de regrouper nos données par année _et_ par nombre de cylindres. Ceci est fait dans le code ci-dessous."
   ]
  },
  {
   "cell_type": "code",
   "execution_count": null,
   "metadata": {},
   "outputs": [],
   "source": [
    "double_grouping = pd.pivot_table(car_data, \n",
    "                index = ['year', 'cylinders'],  # Here we specify that we want to index (group) our data\n",
    "                                                # by year *and* number of cylinders\n",
    "                aggfunc = 'count')              # Aggregate by count\n",
    "\n",
    "double_grouping.head(10)                         # .head(10) wil only display the first 10 rows"
   ]
  },
  {
   "cell_type": "markdown",
   "metadata": {
    "lang": "fr"
   },
   "source": [
    "Où nous voyons que nous avons maintenant deux groupes: D'abord, nos données sont regroupées par année, puis elles sont regroupées par le nombre de cylindres dans le moteur. Malheureusement, cette base de données n'est pas actuellement sous une forme que notre bibliothèque de traçage connait comment traiter; nous avons deux indices de colonne, le nombre de cylindres et les années, ce qui signifie que notre bibliothèque graphique ne saura pas comment traiter les données. Heureusement, nous pouvons le convertir en une forme que notre bibliothèque graphique appréciera davantage en utilisant la fonction `unstack()` qui «pivotera» notre tableau croisé dynamique pour qu'il soit plus facile à tracer."
   ]
  },
  {
   "cell_type": "code",
   "execution_count": null,
   "metadata": {},
   "outputs": [],
   "source": [
    "'''\n",
    "Here the unstack() function with no arguments in its parenthesis pivot our pivot table \n",
    "into a form that can be more easily plotted.\n",
    "'''\n",
    "\n",
    "double_grouping.unstack().head()"
   ]
  },
  {
   "cell_type": "markdown",
   "metadata": {
    "lang": "fr"
   },
   "source": [
    "Où cela est maintenant dans une forme que nous pouvons tracer. Il pourrait être intéressant de commencer par visualiser le nombre de voitures produites avec différents nombres de cylindres par an, ce qui est fait ci-dessous."
   ]
  },
  {
   "cell_type": "code",
   "execution_count": null,
   "metadata": {},
   "outputs": [],
   "source": [
    "'''\n",
    "Note we're doing all the previously shown manipulations in one line instead of using the variable we created \n",
    "earlier for illustrative purposes. This simply because it's more convenient to work with like this when you're\n",
    "potentialy changing what values you're sorting/how your aggregating. \n",
    "'''\n",
    "\n",
    "pd.pivot_table(car_data, \n",
    "                index = ['year', 'cylinders'],\n",
    "                aggfunc = 'count').unstack().plot(kind='line', y = \"model\", figsize = (16,8))\n",
    "\n",
    "plt.title(\"Engine Size Through the Years\", size = 20)        \n",
    "plt.xlabel(\"Year\" , size = 16) \n",
    "plt.ylabel(\"Total Number of Vehicles\", size = 16)     \n",
    "plt.xticks(size = 14)                             \n",
    "plt.yticks(size = 14)                              \n",
    "plt.grid('on')                                     \n",
    "plt.autoscale(tight=True)  \n"
   ]
  },
  {
   "cell_type": "markdown",
   "metadata": {
    "lang": "fr"
   },
   "source": [
    "Ah ha! Donc, notre écart-type décroissant en 2019 n'est pas en fait «réel» - il s'agit simplement d'une conséquence de données manquantes en 2019. Plus intéressant, est-ce qu'à partir de 2009, le nombre de moteurs à quatre cylindres a augmenté . Serait-ce la raison de l'augmentation de la consommation moyenne de carburant sur les autoroutes? Découvrons en agrégeant par la moyenne pour chaque type de moteur."
   ]
  },
  {
   "cell_type": "code",
   "execution_count": null,
   "metadata": {},
   "outputs": [],
   "source": [
    "pd.pivot_table(car_data, \n",
    "                index = ['year', 'cylinders'],\n",
    "                aggfunc = 'mean').unstack().plot(kind='line', y = \"UHighway\", figsize = (16,8))\n",
    "\n",
    "plt.title(\"Mean Fuel Economy of Engine Size Through the Years\", size = 20)        \n",
    "plt.xlabel(\"Year\" , size = 16) \n",
    "plt.ylabel(\"Mean Fuel Economy\", size = 16)     \n",
    "plt.xticks(size = 14)                             \n",
    "plt.yticks(size = 14)                              \n",
    "plt.grid('on')                                     \n",
    "plt.autoscale(tight=True)  \n",
    "\n",
    "\n"
   ]
  },
  {
   "cell_type": "markdown",
   "metadata": {
    "lang": "fr"
   },
   "source": [
    "Intéressant. En comparant les deux graphiques ci-dessus, il apparaît que, même si presque tous les types de moteurs sont devenus plus économes en carburant, ces gains d’efficacité sont mineurs. Seulement environ 10 MPG. Ce qui est plus intéressant, c’est qu’il ya plus de véhicules à quatre cylindres produits depuis 2010. Cela témoigne peut-être d’une évolution vers la demande de véhicules plus économes en carburant. Il est possible de quantifier quels véhicules contribuent le plus à ce gain de rendement énergétique. Cette analyse nécessite la normalisation des données et est laissée pour une autre fois. Indépendamment de cela, en utilisant les compétences que vous avez déjà apprises dans ce cahier en filtrant et en agrégeant les tableaux de données dans un tableau croisé dynamique, vous pouvez commencer votre propre analyse en comparant quels constructeurs automobiles créent les véhicules les plus économes en carburant. Ou, vous pouvez explorer tous les aspects que vous trouvez intéressants.\n",
    "\n",
    "# Conclusion\n",
    "\n",
    "Dans ce cahier, nous avons parcouru quelques exemples plus avancés de la façon de travailler avec de grands ensembles de données ouverts comme celui-ci. Nous avons utilisé la puissance des tableaux croisés dynamiques pour agréger nos données à la fois par comptage et par moyenne. Nous vous avons montré des outils puissants à votre disposition pour explorer de vastes quantités de données afin de commencer à tirer des conclusions de l'ensemble de données. Les compétences que vous avez acquises ici peuvent être tranférés dans d’autres projets où l’agrégation des données peut s’avérer inestimable."
   ]
  },
  {
   "cell_type": "markdown",
   "metadata": {},
   "source": [
    "[![Callysto.ca License](https://github.com/callysto/curriculum-notebooks/blob/master/callysto-notebook-banner-bottom.jpg?raw=true)](https://github.com/callysto/curriculum-notebooks/blob/master/LICENSE.md)"
   ]
  }
 ],
 "metadata": {
  "kernelspec": {
   "display_name": "Python 3",
   "language": "python",
   "name": "python3"
  },
  "language_info": {
   "codemirror_mode": {
    "name": "ipython",
    "version": 3
   },
   "file_extension": ".py",
   "mimetype": "text/x-python",
   "name": "python",
   "nbconvert_exporter": "python",
   "pygments_lexer": "ipython3",
   "version": "3.7.3"
  },
  "nbTranslate": {
   "displayLangs": [
    "*"
   ],
   "hotkey": "alt-t",
   "langInMainMenu": true,
   "sourceLang": "en",
   "targetLang": "fr",
   "useGoogleTranslate": true
  }
 },
 "nbformat": 4,
 "nbformat_minor": 2
}
