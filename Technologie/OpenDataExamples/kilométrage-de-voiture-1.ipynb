{
 "cells": [
  {
   "cell_type": "markdown",
   "metadata": {},
   "source": [
    "![Callysto.ca Banner](https://github.com/callysto/curriculum-notebooks/blob/master/callysto-notebook-banner-top.jpg?raw=true)"
   ]
  },
  {
   "cell_type": "markdown",
   "metadata": {
    "lang": "fr"
   },
   "source": [
    "# Travailler avec les données ouvertes:\n",
    "\n",
    "## Données de kilométrage de voiture partie 1\n",
    "\n",
    "À mesure que des données ouvertes de haute qualité deviennent disponibles, il devient de plus en plus important d’avoir les compétences nécessaires pour analyser ces données. Dans cette série de cahiers, nous allons parcourir les rudiments du travail avec les données ouvertes en utilisant un cahier Jupyter. Nous allons également vous présenter quelques-unes des premières étapes à suivre pour explorer et visualiser des données. Ce sont des cahiers d’introduction pour ceux qui n’ont jamais vu de code ou de cahier Jupyter. En tant que tel, nous passerons en revue chaque étape en détail et garderons notre analyse à un niveau élevé. Bien entendu, cela ne veut pas dire qu’une analyse de haut niveau peut aussi conduire à des conclusions ou à des réalisations intéressantes.\n",
    "\n",
    "\n",
    "# Amener des données ouvertes dans Jupyter\n",
    "\n",
    "Le moyen le plus simple de charger des données ouvertes dans Jupyter consiste à utiliser un paquet Python appelé Pandas. Pandas est une bibliothèque libre pour Python qui vous permet de manipuler et d'analyser presque toutes les données facilement et rapidement. Il peut charger des fichiers CSV, des feuilles de calcul, des fichiers texte et même des tableaux directement à partir de pages Web. Essentiellement, vous pouvez considérer la bibliothèque de Pandas comme \"Excel sur les stéroïdes\".\n",
    "\n",
    "Pour cette première démonstration, nous vous guiderons dans le processus de téléchargement, de manipulation et de visualisation d'un ensemble de données ouvert à partir d'un portail de données ouvert. Nous utiliserons ce site Web: [data.opendatasoft.com](https://data.opendatasoft.com). En particulier, nous utiliserons un ensemble de données assez volumineuses sur la consommation de carburant des véhicules disponible à [ce lien](https://data.opendatasoft.com/explore/dataset/us-vehicle-fuel-economy-data-1984-2017%40kapsarc/table/?disjunctive.make&disjunctive.model&sort=-year). Si vous vous rendez sur cette page, vous devriez voir un ensemble de données comme l'image ci-dessous.\n",
    "\n",
    ">![Capture d'écran de data.opensoft.com](images/car_data_screen.png)\n",
    "\n",
    "À partir de cet écran, si vous cliquez sur le gros bouton \"Export\", vous accédez à cette page:\n",
    "\n",
    ">![Capture d'écran de l'écran de téléchargement](images/downloadscreen.png)\n",
    "\n",
    "Si vous cliquez sur le lien situé à côté du format de fichier souhaité, vous pouvez le télécharger directement sur votre ordinateur. Lorsque nous travaillons sur la plateforme, il peut être fastidieux de télécharger le fichier sur notre ordinateur, puis de le télécharger à nouveau sur la plateforme. Au lieu de cela, nous allons utiliser ce cahier pour télécharger ces données directement à partir du site. Si vous cliquez avec le bouton droit sur le lien à côté du fichier CSV et cliquez sur \"Copy Link Address\", vous obtiendrez le chemin d'accès au fichier de données réel. Nous utiliserons ce lien pour télécharger les données de voiture dans Jupyter.\n",
    "\n",
    "Avant de pouvoir télécharger ces données, nous disposons de quelques éléments de comptabilité. Premièrement, nous devons importer la bibliothèque de Pandas et configurer notre environnement pour placer les graphiques ou les visualisations que nous effectuons directement dans le cahier. Cela se fait dans la cellule ci-dessous."
   ]
  },
  {
   "cell_type": "code",
   "execution_count": null,
   "metadata": {},
   "outputs": [],
   "source": [
    "# This first line imports our pandas library, and gives it the name \"pd\" (so we can type less)\n",
    "import pandas as pd\n",
    "# we also import the plotting library\n",
    "import matplotlib.pyplot as plt \n",
    "# This tells Jupyter we want to place our graphs directly into the notebook. \n",
    "%matplotlib inline\n"
   ]
  },
  {
   "cell_type": "markdown",
   "metadata": {
    "lang": "fr"
   },
   "source": [
    "## Obtenir les données dans Jupyter\n",
    "\n",
    "En utilisant ce lien que nous avons copié précédemment, nous pouvons importer ces données directement dans Jupyter. Rendons nos vies un peu plus faciles et assignons notre URL à une variable nommée `url`, qui est faite ci-dessous."
   ]
  },
  {
   "cell_type": "code",
   "execution_count": null,
   "metadata": {},
   "outputs": [],
   "source": [
    "# Notice how we've placed the url between quotes!\n",
    "\n",
    "url = 'https://data.opendatasoft.com/explore/dataset/us-vehicle-fuel-economy-data-1984-2017@kapsarc/download/?format=csv&timezone=America/Denver&use_labels_for_header=true'"
   ]
  },
  {
   "cell_type": "markdown",
   "metadata": {
    "lang": "fr"
   },
   "source": [
    "Maintenant vient la question du téléchargement de cet ensemble de données. Heureusement, Pandas a une fonction appelée `read_csv`. Cette fonction tranforme un fichier CSV dans ce qu'on appelle un _Dataframe_ assez aisément. Pour nos besoins, un Dataframe peut simplement être considéré comme une table de données.\n",
    "\n",
    "Il y a une complication. Un fichier CSV peut être séparé par des virgules (\",\"), des points-virgules (\";\") ou des tabulations (\"\\t\"). Dans notre cas, d'après l'image ci-dessus, nous savons que notre ensemble de données est séparé par des points-virgules. Par défaut, Pandas suppose que les données sont séparées par des virgules. En tant que tel, nous devons spécifier notre délimiteur alternatif lors du téléchargement de cet ensemble de données. C'est un ensemble de données assez volumineux, et le téléchargement peut prendre une minute ou deux. Vous saurez quand le téléchargement est terminé lorsque `In [*]` dans le coin supérieur gauche en dehors de la cellule ci-dessous change en `In [3]` (ou un nombre plus grand si vous avez exécuté plusieurs cellules)"
   ]
  },
  {
   "cell_type": "code",
   "execution_count": null,
   "metadata": {},
   "outputs": [],
   "source": [
    "''' \n",
    "Here we're actually downloading the data set which is at 'url', the download link we copied earlier. \n",
    "We've also specified our data delimeter with the 'sep' command, and we've stated that the character\n",
    "is a semi-colon. Finally, we're also assigning this data to a variable we've called car_data\n",
    "'''\n",
    "car_data = pd.read_csv(url, sep=';')\n",
    "\n",
    "# This writes our newly dowloaded file to a local CSV so we don't have to download it again\n",
    "# if we want to use this data later, the term in the quotes is the name of the file that \n",
    "# we will create while saving. \n",
    "# car_data.to_csv(\"car_data.csv\")\n"
   ]
  },
  {
   "cell_type": "markdown",
   "metadata": {
    "lang": "fr"
   },
   "source": [
    "## L'exploration des données\n",
    "\n",
    "Maintenant que nous avons téléchargé notre ensemble de données, jetons un coup d’œil à l'ensemble de données que nous avons téléchargé."
   ]
  },
  {
   "cell_type": "code",
   "execution_count": null,
   "metadata": {},
   "outputs": [],
   "source": [
    "car_data\n"
   ]
  },
  {
   "cell_type": "markdown",
   "metadata": {
    "lang": "fr"
   },
   "source": [
    "Si vous défilez au bas de la fenêtre du tableau ci-dessus, vous verrez le nombre de colonnes et de lignes de notre tableau. Cet ensemble de données particulier comprend environ 40000 lignes et 83 colonnes. C'est beaucoup de données! Ce tableau inclut également des données \"pas numériques\" telles que les noms de voiture et de modèle, qui peuvent occasionnellement poser un problème. Vous avez peut-être également remarqué plusieurs entrées dans la table de `NaN`. `NaN` signifie qu'aucune donnée n'a été entrée à cet emplacement dans la table et peut être considérée comme \"une cellule vide\". Mais ne vous inquiétez pas! Nous vous montrerons avec quelle facilité ces points de données manquants peuvent être traités.\n",
    "\n",
    "\n",
    "### Obtenir des noms de colonnes\n",
    "Pour toute analyse avec un tableau de données, il est important de connaître les noms de colonne de l'ensemble de données. Malheureusement, notre tableau est trop large pour voir toutes les entrées du tableau ci-dessus. Heureusement pour nous, nous avons d'autres moyens d'extraire cette information:"
   ]
  },
  {
   "cell_type": "code",
   "execution_count": null,
   "metadata": {},
   "outputs": [],
   "source": [
    "'''\n",
    "With a dataframe, the Python function 'list' returns a list of the column headers\n",
    "in any given data frame. The column headers of our car_data data frame our printed\n",
    "below. \n",
    "'''\n",
    "\n",
    "# Note: If you want this to display as a single column, remove 'print' as well as its \n",
    "# parenthesis (the first and last ones) \n",
    "\n",
    "print(list(car_data))\n"
   ]
  },
  {
   "cell_type": "markdown",
   "metadata": {
    "lang": "fr"
   },
   "source": [
    "Où une liste de ce que beaucoup des en-têtes de colonne les moins évidents représentent sont disponibles [à ce lien](https://data.opendatasoft.com/explore/dataset/us-vehicle-fuel-economy-data-1984-2017%40kapsarc/information/?disjunctive.make&disjunctive.model&sort=-year). \n",
    "\n",
    "### Comprendre les données\n",
    "\n",
    "Avant de commencer à utiliser cette trame de données pour créer une visualisation, il est parfois utile d'essayer de comprendre les données dont vous disposez. Dans notre cas, il est intéressant de voir combien de modèles de voitures et de fabricants sont présents dans l'ensemble de données. Tout d'abord, voyons combien de modèles (Honda Civic, Ford Explorer, Lamborghini Huracán, etc.) figurent dans l'ensemble de données. Ceci est fait ci-dessous."
   ]
  },
  {
   "cell_type": "code",
   "execution_count": null,
   "metadata": {},
   "outputs": [],
   "source": [
    "'''\n",
    "Here we're calling the 'model' column only from within our data frame by using square \n",
    "brakets after our data frame name, and our column name in quotes. The len() function\n",
    "simply returns the length of a given list or column. \n",
    "The '.unique()' function returns only the unique models in the data set \n",
    "(if you remove .unique(), you'd get the length of the entire data set!)\n",
    "'''\n",
    "\n",
    "len(car_data['model'].unique())"
   ]
  },
  {
   "cell_type": "markdown",
   "metadata": {
    "lang": "fr"
   },
   "source": [
    "C'est beaucoup de modèles de voitures! À ce stade de toute analyse sans but précis, ou de modèles spécifiques à comparer, nous avons peut-être un peu trop de fabricants pour une exploration raisonnable. Essayons le même pour voir combien de constructeurs automobiles sont dans l'ensemble de données."
   ]
  },
  {
   "cell_type": "code",
   "execution_count": null,
   "metadata": {},
   "outputs": [],
   "source": [
    "len(car_data['make'].unique())\n"
   ]
  },
  {
   "cell_type": "code",
   "execution_count": null,
   "metadata": {},
   "outputs": [],
   "source": [
    "# This is just for a \"quick view\" of what the car makers are. \n",
    "print(car_data['make'].sort_values().unique())"
   ]
  },
  {
   "cell_type": "markdown",
   "metadata": {
    "lang": "fr"
   },
   "source": [
    "135 constructeurs automobiles sont beaucoup plus gérables que près de 4000 modèles de voitures pour une première analyse en profondeur, commençons à visualiser certaines de ces données.\n",
    "\n",
    "### Visualisations\n",
    "\n",
    "Concentrons-nous sur le MPG (miles par gallon) moyen pour chaque voiture en ville et sur l'autoroute. Il y a sous les colonnes `UCity` et `UHighway` dans la table de données. Si nous sommes intéressés par toutes les données, tracer ces données est très facile en utilisant Pandas, comme illustré ci-dessous."
   ]
  },
  {
   "cell_type": "code",
   "execution_count": null,
   "metadata": {},
   "outputs": [],
   "source": [
    "'''\n",
    "Here we call the .plot() function from our ploting library on our data frame by typing\n",
    "'car_data.plot( ... ). The arguments inside the plot function are explained below\n",
    "\n",
    "1. x = 'UHighway'  : This specifies which data to use for the x component of each data point. In this case \n",
    "                     we're using 'UHighway', which is the fuel economy in MPG of each vehicle while driving\n",
    "                     on the highway\n",
    "                   \n",
    "2. y = 'UCity'     : This specifies which data to use for the y component of each data point. In this case\n",
    "                     we're using \"UCity\", which is the fuel economy in MPG for each vehicle while driving\n",
    "                     in the city\n",
    "                   \n",
    "3. kind = 'scatter': This specifies what kind of plot to create. In this case we're making a scatter plot, \n",
    "                     however you could also specify a line, bar, etc. plot here instead\n",
    "                     \n",
    "4. title = '...'   : This specifies the title to place on the top of the plot \n",
    "'''\n",
    "\n",
    "car_data.plot(x ='UHighway', \n",
    "              y = 'UCity', \n",
    "              kind = 'scatter', \n",
    "              title=\"All Car MPG\")\n",
    "                                                                                "
   ]
  },
  {
   "cell_type": "markdown",
   "metadata": {
    "lang": "fr"
   },
   "source": [
    "Là où ce graphique ne nous dit pas grand chose, mais pour être juste, on ne s'y attendrait pas! Supposons que nous étions préoccupés par un seul constructeur automobile au lieu de _tous_ les véhicules. Par exemple, choisissons une voiture de tous les jours accessible à tous: une Bentley. Nous ne pouvons afficher que les données Bentley comme suit."
   ]
  },
  {
   "cell_type": "code",
   "execution_count": null,
   "metadata": {},
   "outputs": [],
   "source": [
    "'''\n",
    "Here we're creating a new data table consisting only of the rows which have the \n",
    "word \"Bentely\" in the 'make' column. This allows us to quickly filter the data down\n",
    "to only the data that is relevant to cars made by Bentely. \n",
    "\n",
    "Essentially what this line of code does \n",
    "     \n",
    "     car_data[car_data['make'] == 'Bentley']\n",
    "     \n",
    "Is create an entirely *new* data frame of only rows where 'make' column is identical to \"Bentley\".\n",
    "This will ignore any and all data that is not associated with the word \"Bentley\" in the \"make\" column\n",
    "\n",
    "'''\n",
    "# Note that there are two equals signs! \n",
    "\n",
    "Bentley_data = car_data[car_data['make'] == 'Bentley']\n",
    "\n",
    "Bentley_data.plot(x ='UHighway',\n",
    "                  y = 'UCity',\n",
    "                  kind = 'scatter', \n",
    "                  title=\"Bently MPG\")"
   ]
  },
  {
   "cell_type": "markdown",
   "metadata": {
    "lang": "fr"
   },
   "source": [
    "Maintenant, nous commençons à obtenir des données que nous pourrions trouver plus intéressantes! Cependant, supposons que nous souhaitons connecter ces points avec des droites, nous devrions changer le code ci-dessus en quelque chose comme ceci"
   ]
  },
  {
   "cell_type": "code",
   "execution_count": null,
   "metadata": {},
   "outputs": [],
   "source": [
    "Bentley_data.plot(x ='UHighway',\n",
    "                  y = 'UCity',\n",
    "                  kind = 'line', \n",
    "                  title=\"Bently MPG Line Graph\")"
   ]
  },
  {
   "cell_type": "markdown",
   "metadata": {
    "lang": "fr"
   },
   "source": [
    "Bien sûr, ce graphique est presque incompréhensible! C'est le résultat de notre système traçant des point tels qu'il les voit - nos données ne sont pas triées! Heureusement pour nous, cela est facilement résolu en triant nos données avant de tracer, comme indiqué ci-dessous"
   ]
  },
  {
   "cell_type": "code",
   "execution_count": null,
   "metadata": {},
   "outputs": [],
   "source": [
    "'''\n",
    "Here we're sorting *every row* of our data frame with respect to the specified column \"UHighway\" \n",
    "By using the sort_values function included with pandas\n",
    "'''\n",
    "\n",
    "Sorted_Bentley = Bentley_data.sort_values(\"UHighway\")\n",
    "Sorted_Bentley.plot(x ='UHighway',\n",
    "                  y = 'UCity',\n",
    "                  kind = 'line', \n",
    "                  title=\"Bently MPG Line Graph Sorted\")"
   ]
  },
  {
   "cell_type": "markdown",
   "metadata": {
    "lang": "fr"
   },
   "source": [
    "### Mise en forme d'un graphique\n",
    "\n",
    "Vous avez peut-être remarqué que tous les graphiques que nous avons montrés semblent manquer de mise en forme \"agréable\", et de facteurs plus importants, tels que les axes d'ordonnées étiquetés. Le bloc de code ci-dessous spécifie certains des paramètres de base que nous pouvons utiliser pour rendre nos graphiques un peu plus présentables."
   ]
  },
  {
   "cell_type": "code",
   "execution_count": null,
   "metadata": {},
   "outputs": [],
   "source": [
    "'''\n",
    "Here we explain what each line does that you haven't seen before using a different comment structure\n",
    "to introduce you to how you may see comments in other resources/online. \n",
    "'''\n",
    "\n",
    "Sorted_Bentley.plot(x ='UHighway',\n",
    "                  y = 'UCity',\n",
    "                  kind = 'line', \n",
    "                  figsize = (12,8),                # Set the figure size to be 12 x 8 (inches)\n",
    "                  color = 'red'                    # Changes the color of the plot, could also use color codes\n",
    "                   )\n",
    "# 'plt' is taken from the ploting library we imported at the beginning of the notebook \n",
    "# and is also used by pandas. Doing it out here gives us more control \n",
    "\n",
    "plt.title(\"Bently MPG Sorted\", size = 20)          # Set title with font size\n",
    "plt.xlabel(\"Highway Miles Per Gallon\" , size = 16) # Add an x axes, 'size' controls the font size\n",
    "plt.ylabel(\"City Miles Per Gallon\", size = 16)     # Add a y axes label\n",
    "plt.xticks(size = 14)                              # Change font size of xticks\n",
    "plt.yticks(size = 14)                              # Change font size of yticks\n",
    "plt.grid('on')                                     # Adds a grid to the plot\n",
    "plt.autoscale(tight=True)                          # This removes the padding around the plot "
   ]
  },
  {
   "cell_type": "markdown",
   "metadata": {
    "lang": "fr"
   },
   "source": [
    "## Avant de l'essayer\n",
    "\n",
    "Nous serons bientôt à une partie de ce cahier où nous vous encourageons à manipuler directement les graphiques. Pour vous aider à démarrer, voici quelques messages d'erreur courants que vous pouvez voir dans le processus, et comment les résoudre.\n",
    "\n",
    "### Messages d'erreur courants\n",
    "\n",
    "### Type Error\n",
    "Chaque fois que vous avez une erreur dans la cellule ci-dessous, il s'agit généralement d'une simple erreur de frappe! Lorsque cela se produit, vous obtenez généralement un message d'erreur volumineux et intimidant qui le fait paraître bien pire que ce qu'il est. Par exemple, si vous avez exécuté une cellule de code avec ceci:\n",
    "```python\n",
    "car_data[car_data['make'] == 'Fake Car Maker'].sort_values('UHighway').plot(x = 'UHighway',\n",
    "                                                                            y = 'UCity',\n",
    "                                                                            kind = 'line', \n",
    "                                                                            title=\" MPG Line Graph Sorted\")\n",
    "```\n",
    "\n",
    "Vous obtiendrez le message d'erreur suivant qui semble être assez intimidant!\n",
    "\n",
    "![error messages](images/error.png)\n",
    "\n",
    "Où tout ceci est le résultat d'une petite faute de frappe! Mais ne vous inquiétez pas! L'information importante est la première ligne du message d'erreur où il est dit `TypeError` et vous indique l'emplacement approximatif de l'endroit où l'erreur a été rencontrée. L'autre information importante se trouve au bas de la sortie, vous voyez le message d'erreur réel\n",
    "\n",
    "```python\n",
    "TypeError: Empty 'DataFrame': no numeric data to plot\n",
    "```\n",
    "\n",
    "Ce que cela vous dit, c'est que vous essayez de tracer une trame de données vide. Ce qui à première vue semble impossible, nous savons que nous avons des données dans `car_data`! Où sont-elles allées?\n",
    "\n",
    "Le coupable est que nous ne filtrons que les lignes pertinentes pour notre constructeur automobile. Comme il n'y a pas de fabricant \"Fake Car Maker\" dans notre ensemble de données, nous ne renvoyons aucune donnée lorsque nous essayons de la filtrer. Pour corriger cela, il suffit de remplacer le texte 'Fake Car Maker' par un constructeur automobile présent dans l'ensemble de données.\n",
    "\n",
    "### Name Error\n",
    "\n",
    "Si vous exécutez une ligne de code comme celle-ci\n",
    "```python\n",
    "car_data[car_data['make'] == Bentley].sort_values('UHighway').plot(x='UHighway',\n",
    "                                                                   y = 'UCity',\n",
    "                                                                   kind = 'line', \n",
    "                                                                   title=\" MPG Line Graph Sorted\")\n",
    "```\n",
    "vous obtiendrez le message d'erreur suivant\n",
    "\n",
    "```python\n",
    "---------------------------------------------------------------------------\n",
    "NameError                                 Traceback (most recent call last)\n",
    "<ipython-input-181-0856eb5a442a> in <module>()\n",
    "----> 1 car_data[car_data['make'] == Bentley].sort_values('UHighway').plot(x='UHighway',\n",
    "      2                                                                    y = 'UCity',\n",
    "      3                                                                    kind = 'line',\n",
    "      4                                                                    title=\" MPG Line Graph Sorted\")\n",
    "\n",
    "NameError: name 'Bentley' is not defined\n",
    "```\n",
    "\n",
    "C'est parce que nous n'avons pas inclus notre constructeur automobile entre guillemets et que Python recherche une variable nommée Bentley. Pour résoudre ce problème, changez simplement Bentley $\\rightarrow$ 'Bentley'\n",
    "\n",
    "### Key Error\n",
    "\n",
    "Si vous essayez accidentellement de tracer une colonne qui n’existe pas à cause d’une faute de frappe, telle que celle dans un fragment comme celui-ci\n",
    "\n",
    "```python\n",
    "car_data[car_data['make'] == 'Bentley'].sort_values('UHighway').plot(x='UHighway',\n",
    "                                                                     y = 'THIS IS NOT A COLUMN IN THE DATA SET',\n",
    "                                                                     kind = 'line', \n",
    "                                                                     title=\" MPG Line Graph Sorted\")\n",
    "```\n",
    "\n",
    "Vous obtiendriez un message d'erreur très long et intimidant, au bas duquel se trouverait ce message d'erreur\n",
    "```python\n",
    "KeyError: 'THIS IS NOT A COLUMN IN THE DATA SET'\n",
    "```\n",
    "\n",
    "Ce que cela vous dit, c’est qu’il n’ya pas de colonne dans votre tableau avec l’étiquette `'THIS IS NOT A COLUMN IN THE DATA SET'`. Pour résoudre ce problème, il vous suffit de choisir une colonne que vous avez étiquetée ou de corriger toute erreur typographique mineure.\n",
    "\n",
    "Ce sont les seuls messages d'erreur que vous êtes susceptible de voir dans l'extrait de code ci-dessous (ou en réalité, n'importe quel scénario de Pandas comme celui-ci!). Maintenant que vous savez ce qu’elles signifient et comment les résoudre, vous devriez être prêts à essayer le code ci-dessous avec n'importe quel des colonnes / données dans notre tableau.\n",
    "\n",
    "## Essaye le\n",
    "\n",
    "Dans la cellule ci-dessous, nous avons à nouveau configuré le scénario de test Bentley, mais n'hésitez pas à modifier le fabricant que vous explorez. Vous devriez également vous sentir libre d'explorer d'autres données pour les axes des abscisses et des ordonnées. Ne vous inquiétez pas si quelque chose échoue! J'espère que les solutions communes des messages d'erreur ci-dessus vous aideront."
   ]
  },
  {
   "cell_type": "code",
   "execution_count": null,
   "metadata": {},
   "outputs": [],
   "source": [
    "car_data[car_data['make'] == 'Bentley'].sort_values('UHighway').plot(x='UHighway',\n",
    "                                                                     y = 'UCity',\n",
    "                                                                     kind = 'line', \n",
    "                                                                     title=\" MPG Line Graph Sorted\",\n",
    "                                                                     figsize = (12,8))\n",
    "\n",
    "plt.title(\"Bently MPG Sorted\", size = 20)          # Set title here with font size\n",
    "plt.xlabel(\"Highway Miles Per Gallon\" , size = 16) # Add an x axes, 'size' controls the font size\n",
    "plt.ylabel(\"City Miles Per Gallon\", size = 16)     # Add a y axes label\n",
    "plt.xticks(size = 14)                              # Change font size of xticks\n",
    "plt.yticks(size = 14)                              # Change font size of yticks\n",
    "plt.grid('on')                                     # Adds a grid to the plot\n",
    "plt.autoscale(tight=True)                          # This removes the padding around the plot "
   ]
  },
  {
   "cell_type": "markdown",
   "metadata": {
    "lang": "fr"
   },
   "source": [
    "Si vous n'avez pas envie de faire défiler la liste pour trouver d'autres noms de marques de voiture, décommentez simplement la cellule ci-dessous pour voir la liste des constructeurs automobiles. Voir les instructions dans la cellule pour comprendre ce que nous entendons par \"Décommenter\""
   ]
  },
  {
   "cell_type": "code",
   "execution_count": null,
   "metadata": {},
   "outputs": [],
   "source": [
    "'''\n",
    "To 'uncomment the line of code below, you simply need to delete the pound sign (hash tags for those of \n",
    "you who frequent Twitter) and the trailing space afterwads. In Python any characters in a line after a\n",
    "pound sign are ignored by the program and callend a comment as you have likely seen in many of the code blocks\n",
    "above. They can be very handy. You'll also notice that this block of text is contained between three\n",
    "quotes (') on each side. This is known as a \"block quote\" and is also ignored by Python, but it is more \n",
    "useful for typing longer messages such as this. \n",
    "'''\n",
    "\n",
    "# print(car_data['make'].sort_values().unique())\n",
    "None"
   ]
  },
  {
   "cell_type": "markdown",
   "metadata": {
    "lang": "fr"
   },
   "source": [
    "# Conclusion\n",
    "\n",
    "Dans ce cahier, nous avons montré comment télécharger un ensemble de données ouvert directement sur Internet dans un cahier Jupyter et explorer les données. Nous avons procédé à un filtrage élémentaire d'un ensemble de données à l'aide de `pandas`, ainsi que comment créer des graphiques facilement et efficacement à partir des données. Bien que nous n'ayons pas tiré de conclusions intéressantes dans cette analyse, cela représente une première étape dans l'exploration des données. Dans la deuxième partie de ce cahier, nous décrirons les bases de l’agrégation de données pour découvrir des tendances plus intéressantes qui se cachent dans cet ensemble de données. Dans la deuxième partie, nous commencerons à dégager des tendances plus intéressantes de cet ensemble de données."
   ]
  },
  {
   "cell_type": "markdown",
   "metadata": {},
   "source": [
    "[![Callysto.ca License](https://github.com/callysto/curriculum-notebooks/blob/master/callysto-notebook-banner-bottom.jpg?raw=true)](https://github.com/callysto/curriculum-notebooks/blob/master/LICENSE.md)"
   ]
  }
 ],
 "metadata": {
  "kernelspec": {
   "display_name": "Python 3",
   "language": "python",
   "name": "python3"
  },
  "language_info": {
   "codemirror_mode": {
    "name": "ipython",
    "version": 3
   },
   "file_extension": ".py",
   "mimetype": "text/x-python",
   "name": "python",
   "nbconvert_exporter": "python",
   "pygments_lexer": "ipython3",
   "version": "3.7.3"
  },
  "nbTranslate": {
   "displayLangs": [
    "*"
   ],
   "hotkey": "alt-t",
   "langInMainMenu": true,
   "sourceLang": "en",
   "targetLang": "fr",
   "useGoogleTranslate": true
  }
 },
 "nbformat": 4,
 "nbformat_minor": 2
}
