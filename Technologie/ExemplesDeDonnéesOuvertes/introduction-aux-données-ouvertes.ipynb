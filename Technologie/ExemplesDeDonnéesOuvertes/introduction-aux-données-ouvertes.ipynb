{
 "cells": [
  {
   "cell_type": "markdown",
   "metadata": {},
   "source": [
    "![Callysto.ca Banner](https://github.com/callysto/curriculum-notebooks/blob/master/callysto-notebook-banner-top.jpg?raw=true)\n",
    "\n",
    "<a href=\"https://hub.callysto.ca/jupyter/hub/user-redirect/git-pull?repo=https%3A%2F%2Fgithub.com%2Fcallysto%2Fcahiers-de-programmes&branch=master&urlpath=notebooks/cahiers-de-programmes/Technologie/ExemplesDeDonn%C3%A9esOuvertes/introduction-aux-donn%C3%A9es-ouvertes.ipynb&depth=1\" target=\"_parent\"><img src=\"https://raw.githubusercontent.com/callysto/cahiers-de-programmes/master/bouton-callysto.svg?sanitize=true\" width=\"123\" height=\"24\" alt=\"Open in Callysto\"/></a>"
   ]
  },
  {
   "cell_type": "markdown",
   "metadata": {
    "lang": "fr"
   },
   "source": [
    "# Introduction aux données ouvertes"
   ]
  },
  {
   "cell_type": "markdown",
   "metadata": {},
   "source": [
    "![open data](http://www.cybera.ca/wp-content/uploads/resizedimage400259-data02-small.jpg)"
   ]
  },
  {
   "cell_type": "markdown",
   "metadata": {
    "lang": "fr"
   },
   "source": [
    "## Certains ensembles de données sont-ils meilleurs que d'autres?\n",
    "\n",
    "Parlant objectivement, oui. Quelle que soit la question à laquelle vous souhaitez répondre, les données ouvertes ne sont pas toutes faciles à utiliser!\n",
    "\n",
    "### Que rechercher avec les données ouvertes\n",
    "\n",
    "1. Si les données se trouvent dans plusieurs fichiers: est-il systématiquement étiqueté, ou facile à associer entre les fichiers?\n",
    "![étiquettes de fichiers](http://www.cybera.ca/wp-content/uploads/2018/08/Open-data-notebook-label-example.png)\n",
    "\n",
    "1. Les données sont-elles dans un format facile à charger sur votre ordinateur (tel que `csv`,` txt`, `json`), ou ouvertes dans Excel?\n",
    "     * Un tableau HTML de site Web bien formatée fonctionne bien!\n",
    " ![table html](https://i.stack.imgur.com/TXh8D.png)\n",
    "\n",
    "1. Si vous examinez des données spatiales: les coordonnées GPS sont-elles déjà incluses (où pertinent)?\n",
    " ![coordonnées GPS](https://blog.batchgeo.com/wp-content/uploads/2017/01/wikipedia-latitude-longitude.jpg)\n",
    "\n",
    "1. L'ensemble de données est-il complet? \n",
    "    * Si des valeurs sont manquantes, y a-t-il une bonne raison à cela et sont-elles clairement identifiées comme manquantes?\n",
    "![valeurs manquantes](https://d2vlcm61l7u1fs.cloudfront.net/media%2Fa06%2Fa06ec409-9969-49bc-ba79-ff006fb92b21%2FphpokoeJU.png)\n",
    "\n",
    "1. Les données sont-elles régulièrement mis à jour?\n",
    "    * Il devrait y avoir une mention sur la page de téléchargement si c'est le cas, ou il devrait y avoir au moins un horodatage de la dernière mise à jour.\n",
    " ![horodatage](http://www.cybera.ca/wp-content/uploads/2018/08/whitehorse-data.jpg)\n",
    " \n",
    "\n",
    "\n",
    "### Sources fiables\n",
    "Certains ensembles de données en ligne sont intentionnellement trompeurs ou simplement incorrects.\n",
    "\n",
    "Tout comme toute autre source d’information, les données ouvertes sont également affectées par les biais de son conservateur. Il est important d'essayer de trouver des sources de données impartiales, ou au moins de multiples sources de données présentant des biais différents.\n",
    "\n",
    "Par exemple, si vous cherchez à étudier les effets de la santé sur le tabac, un ensemble de données fourni par une étude financée par une entreprise de tabac peut avoir des résultats différents d'une étude indépendante. Soyez conscient des origines de vos données avant d'en tirer des conclusions majeures!"
   ]
  },
  {
   "cell_type": "markdown",
   "metadata": {
    "lang": "fr"
   },
   "source": [
    "---\n",
    "## Quels types d'ensembles de données ouverts existe-t-il et où puis-je les trouver?\n",
    "\n",
    "Il existe des ensembles de données ouverts disponibles sur presque tous les sujets auxquels vous pouvez penser! Un bon endroit de commencer est avec les sites gouvernementaux ou universitaires.\n",
    "\n",
    "Voici quelques portails de données ouvertes pour vous aider à démarrer:\n",
    "\n",
    "\n",
    "### Données gouvernementales\n",
    "#### Données canadiennes\n",
    "1. [Statistique Canada](https://www150.statcan.gc.ca/n1/fr/type/data?MM=1)\n",
    "1. [Données ouvertes du Canada](https://open.canada.ca/fr) (contient de nombreux ensembles de données pour les provinces ou les territoires sans leur propre portail de données ouvertes)\n",
    "1. [Alberta Open Data](https://open.alberta.ca/opendata)\n",
    "1. [BC Open Data](https://data.gov.bc.ca/)\n",
    "1. [Saskatchewan Open Data](http://www.opendatask.ca/)\n",
    "1. [Données ouvertes des Territoires du Nord-Ouest](https://www.opennwt.ca/)\n",
    "1. [Ontario Open Data](https://www.ontario.ca/search/data-catalogue)\n",
    "1. [Données ouvertes du Québec](http://donnees.ville.quebec.qc.ca/catalogue.aspx)\n",
    "1. [Données ouvertes de la Nouvelle-Écosse](https://data.novascotia.ca/)\n",
    "1. [PEI Open Data](https://data.princeedwardisland.ca/)\n",
    "1. [Calgary Open Data Portal](https://data.calgary.ca/)\n",
    "1. [Edmonton Open Data Portal](https://data.edmonton.ca/)\n",
    "1. [Vancouver Open Data Portal](https://vancouver.ca/your-government/open-data-catalogue.aspx)\n",
    "1. [Toronto Open Data Portal](https://www.toronto.ca/city-government/data-research-maps/open-data/)\n",
    "1. [Winnipeg Open Data Portal](https://data.winnipeg.ca/)\n",
    "1. [Données ouvertes de Whitehorse](http://data.whitehorse.ca)\n",
    "\n",
    "_Note 1: de nombreuses villes proposent leurs propres portails de données ouvertes et peuvent souvent être trouvées via une recherche Google de \"`CITY NAME` open data portal\"_\n",
    "    \n",
    "_Note 2: Les portails de données ouvertes pour les provinces et les territoires sont lancés continuellement au moment de la rédaction._\n",
    "\n",
    "#### Autres gouvernements\n",
    "1. [Données ouvertes de l'UE](https://open-data.europa.eu/)\n",
    "1. [USA](https://www.data.gov/)\n",
    "1. [Australie](https://data.gov.au/)\n",
    "1. [NASA](https://open.nasa.gov/open-data/)\n",
    "1. [Russie](http://data.gov.ru/?language=fr) (le site est en anglais, mais de nombreux ensembles de données sont en russe)\n",
    "\n",
    "_Note 3: Il existe de nombreux portails nationaux de données ouvertes: ce ne sont que quelques-uns._\n",
    "\n",
    "    \n",
    "### Agrégateurs de données\n",
    "1. [Kaggle](https://www.kaggle.com/datasets)\n",
    "1. [Open Data Soft](https://data.opendatasoft.com/pages/home/)\n",
    "1. [Open Africa](https://africaopendata.org/)\n",
    "1. [Liste d'ensembles de données intéressants](https://github.com/awesomedata/awesome-public-datasets)\n",
    "1. [Open Data Network](https://www.opendatanetwork.com/) (parlant techniquement, il s'agit d'un moteur de recherche d'ensembles de données)\n",
    "1. [Google Public Data](https://www.google.com/publicdata/directory)\n",
    "\n",
    "---\n",
    "\n",
    "Ceci n'est en aucun cas une liste exhaustive - si vous cherchez quelque chose de plus spécifique, il est assez facile de le trouver avec une simple recherche en ligne!\n",
    "\n",
    "## Travailler avec des données ouvertes\n",
    "\n",
    "Voilà notre série d'exemples de données ouvertes!\n",
    "\n",
    "1. [Données de kilométrage de voiture partie 1](kilométrage-de-voiture-1.ipynb)\n",
    "2. [Données de kilométrage de voiture partie 2](kilométrage-de-voiture-2.ipynb)\n",
    "3. [Lotto 649 données ouvertes](loterie.ipynb)\n",
    "4. [Atterrissages de météorites et chutes partie 1](météorites-1.ipynb)\n",
    "5. [Atterrissages de météorites et chutes partie 2](météorites-2.ipynb)"
   ]
  },
  {
   "cell_type": "markdown",
   "metadata": {},
   "source": [
    "[![Callysto.ca License](https://github.com/callysto/curriculum-notebooks/blob/master/callysto-notebook-banner-bottom.jpg?raw=true)](https://github.com/callysto/curriculum-notebooks/blob/master/LICENSE.md)"
   ]
  }
 ],
 "metadata": {
  "kernelspec": {
   "display_name": "Python 3",
   "language": "python",
   "name": "python3"
  },
  "language_info": {
   "codemirror_mode": {
    "name": "ipython",
    "version": 3
   },
   "file_extension": ".py",
   "mimetype": "text/x-python",
   "name": "python",
   "nbconvert_exporter": "python",
   "pygments_lexer": "ipython3",
   "version": "3.7.6"
  },
  "latex_envs": {
   "LaTeX_envs_menu_present": true,
   "autoclose": false,
   "autocomplete": true,
   "bibliofile": "biblio.bib",
   "cite_by": "apalike",
   "current_citInitial": 1,
   "eqLabelWithNumbers": true,
   "eqNumInitial": 1,
   "hotkeys": {
    "equation": "Ctrl-E",
    "itemize": "Ctrl-I"
   },
   "labels_anchors": false,
   "latex_user_defs": false,
   "report_style_numbering": false,
   "user_envs_cfg": false
  },
  "nbTranslate": {
   "displayLangs": [
    "*"
   ],
   "hotkey": "alt-t",
   "langInMainMenu": true,
   "sourceLang": "en",
   "targetLang": "fr",
   "useGoogleTranslate": true
  }
 },
 "nbformat": 4,
 "nbformat_minor": 2
}
