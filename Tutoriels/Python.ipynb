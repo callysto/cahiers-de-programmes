{
 "cells": [
  {
   "cell_type": "markdown",
   "metadata": {},
   "source": [
    "![alt text](https://github.com/callysto/callysto-sample-notebooks/blob/master/notebooks/images/Callysto_Notebook-Banner_Top_06.06.18.jpg?raw=true)"
   ]
  },
  {
   "cell_type": "markdown",
   "metadata": {
    "lang": "fr"
   },
   "source": [
    "# Bases de Python\n",
    "\n",
    "Dans ce cahier, nous allons passer en revue certaines des bases de Python pour les parties intéressées. Notez que la connaissance de Python est *non requise* pour _utiliser les blocs-notes_ Jupyter et participer à Callysto. Cette section est complètement facultative et nous pouvons créer du contenu qui ne nécessite rien en Python. Cela étant dit, si vous voulez introduire Python dans la classe ou si un élève change quelque chose, il sera utile de connaître les bases."
   ]
  },
  {
   "cell_type": "code",
   "execution_count": null,
   "metadata": {},
   "outputs": [],
   "source": [
    "# Tout ce qui se trouve dans une cellule de code après un carré est un commentaire! \n",
    "# Vous pouvez taper n'importe quoi ici et il n'y aura pas d'erreur \n",
    "\n",
    "# Les variables sont définies avec un signe égal (=)\n",
    "\n",
    "mon_variable = 10               # Vous ne pouvez pas mettre d'espaces dans les noms de variables. \n",
    "autre_variable = \"bonjour monde\" # les variables ne doivent pas nécessairement être des chiffres!\n",
    "\n",
    "# Print produira nos variables sous la cellule\n",
    "print(mon_variable, autre_variable)"
   ]
  },
  {
   "cell_type": "code",
   "execution_count": null,
   "metadata": {},
   "outputs": [],
   "source": [
    "# Les variables sont également partagées entre les cellules.\n",
    "# Vous pouvez également faire des sauts de mots et de phrases directement.\n",
    "print(mon_variable, autre_variable, \"Nous pouvons imprimer le texte directement entre guillemets\")"
   ]
  },
  {
   "cell_type": "code",
   "execution_count": null,
   "metadata": {},
   "outputs": [],
   "source": [
    "# Vous pouvez faire des opérations mathématiques en Python\n",
    "\n",
    "x = 5\n",
    "y = 10\n",
    "\n",
    "ajouter = x + y\n",
    "soustraire = x - y\n",
    "multiplier = x * y\n",
    "diviser = x/y\n",
    "\n",
    "print(ajouter, soustraire, multiplier, diviser)"
   ]
  },
  {
   "cell_type": "markdown",
   "metadata": {
    "lang": "fr"
   },
   "source": [
    "---\n",
    "### Exercice 1\n",
    "\n",
    "1. Dans la cellule ci-dessous, assignez la variable z à votre nom et exécutez la cellule.\n",
    "2. Dans la cellule ci-dessous, écrivez un commentaire sur la même ligne où vous définissez z. Exécutez la cellule pour vous assurer que le commentaire ne change rien.\n",
    "---"
   ]
  },
  {
   "cell_type": "code",
   "execution_count": null,
   "metadata": {},
   "outputs": [],
   "source": [
    "## Entrez votre code dans la ligne ci-dessous\n",
    "z = \"votre nom ici\"\n",
    "\n",
    "##\n",
    "\n",
    "print(z, \"aime Python!\")"
   ]
  },
  {
   "cell_type": "markdown",
   "metadata": {
    "lang": "fr"
   },
   "source": [
    "## Boucles en Python"
   ]
  },
  {
   "cell_type": "code",
   "execution_count": null,
   "metadata": {},
   "outputs": [],
   "source": [
    "# Vous pouvez écrire des boucles avec  for\n",
    "\n",
    "for i in range(5): \n",
    "    print(i)"
   ]
  },
  {
   "cell_type": "markdown",
   "metadata": {
    "lang": "fr"
   },
   "source": [
    "Prenons un moment pour digérer la syntaxe de la boucle que nous avons vue ci-dessus\n",
    " \n",
    "```python\n",
    "  \n",
    "Nous avons défini notre *itérateur* et l’appelons i. Cela prendra des valeurs\n",
    "basé sur la fonction de plage qui le suit\n",
    "    ^\n",
    "    |\n",
    "for i in range(10): <- noter les deux points\n",
    "    print (i) <- notez comment cette ligne est en retrait par rapport à \"for\"\n",
    "    \n",
    "```\n",
    "\n",
    "Pour démarrer notre boucle, nous avons tapé pour i dans la plage (10) :. Ce que cela signifie est \"Faites quelque chose pour les valeurs de i qui sont dans les valeurs définies par la plage (10). Dans ce cas, la plage crée 10 valeurs en commençant et zéro et en comptant jusqu'à 9. Ce qui est imprimé ci-dessus.\n",
    "\n",
    "Notez également qu'il y a un signe deux-points après l'intervalle et que l'instruction d'impression est en retrait par rapport à pour. En effet, tout texte en retrait par rapport à une structure de contrôle telle qu'une boucle est contenu dans la structure de contrôle de Python."
   ]
  },
  {
   "cell_type": "markdown",
   "metadata": {
    "lang": "fr"
   },
   "source": [
    "---\n",
    "### Exercices 2\n",
    "1. Dans la boucle dans la cellule ci-dessous, changez `range ()` pour boucler de 0 à 9.\n",
    "2. Modifiez la boucle ci-dessous pour imprimer 1 à 10 au lieu de 0 à 9. (Indice: que se passe-t-il si vous tapez `range (1,10)`?)\n",
    "3. Exécutez la boucle dans la cellule deux champs ci-dessous. Pouvez-vous lancer la boucle sans erreurs?\n",
    "---"
   ]
  },
  {
   "cell_type": "code",
   "execution_count": null,
   "metadata": {},
   "outputs": [],
   "source": [
    "# Exercises 2.1 et 2.2: \n",
    "\n",
    "## Changez le code ci-dessous pour l'exercice:\n",
    "for i in range(5): \n",
    "    print(i)\n",
    "##"
   ]
  },
  {
   "cell_type": "code",
   "execution_count": null,
   "metadata": {},
   "outputs": [],
   "source": [
    "# Exercises 2.3: \n",
    "fruits = ['banana', 'pomme', 'orange', 'poire', 'raisin', 'cerise']\n",
    "\n",
    "## Change the code below for the exercise:\n",
    "for fruit in fruits\n",
    "print(fruit)\n",
    "##"
   ]
  },
  {
   "cell_type": "markdown",
   "metadata": {
    "lang": "fr"
   },
   "source": [
    "## If et else déclarations\n",
    "\n",
    "Construisons sur notre exemple précédent et introduisons les instructions `if`"
   ]
  },
  {
   "cell_type": "code",
   "execution_count": null,
   "metadata": {},
   "outputs": [],
   "source": [
    "for i in range(10):\n",
    "    if i == 3:\n",
    "        print(i == 3, i, \"est trois\")\n",
    "    else:\n",
    "        print(i == 3, i, \"n'est pas trois\")"
   ]
  },
  {
   "cell_type": "markdown",
   "metadata": {
    "lang": "fr"
   },
   "source": [
    "Notez que nos instructions if et else sont en retrait par rapport à for, et les instructions print à l'intérieur de nos instructions if sont encore plus en retrait.\n",
    "\n",
    "Ce que font les lignes de code ci-dessus, c'est que dans l'instruction `if`, elle vérifie si la valeur de` i` est égale à trois, notée avec des signes à double équation égale à «==». Si cette condition est `True`, nous entrons les lignes de code en retrait par rapport à` if`. Nous imprimons ensuite `i == 3` qui est` True`, ainsi que `i` et du texte.\n",
    "\n",
    "Si `i` est _pas_ égal à trois, alors l'instruction` i == 3` renvoie `False`. Nous saisissons ensuite la clause `else`, que nous pouvons voir dans la sortie du code ci-dessus."
   ]
  },
  {
   "cell_type": "markdown",
   "metadata": {
    "lang": "fr"
   },
   "source": [
    "## Fonctions Python\n",
    "\n",
    "Vous pouvez également définir des fonctions en Python qui peuvent aider à simplifier et à organiser le code, ce qui nécessite des calculs répétés. Ceci est fait en utilisant la méthode `def` de Python qui peut signifier \" définir \". Une fonction simple est définie ci-dessous."
   ]
  },
  {
   "cell_type": "code",
   "execution_count": null,
   "metadata": {},
   "outputs": [],
   "source": [
    "def fonction_simple(x):\n",
    "    # Le ** en Python signifie exposant\n",
    "    return x**2\n",
    "\n",
    "fonction_simple(8)"
   ]
  },
  {
   "cell_type": "markdown",
   "metadata": {
    "lang": "fr"
   },
   "source": [
    "Dans la ligne ci-dessus, nous définissons une fonction avec `def`, et dans ce cas nous avons choisi de lui donner un nom de` simple _fonction`. Nous avons ensuite spécifié quelle variable notre fonction devrait prendre comme entrée à l’intérieur de la parenthèse. Au cours de cette définition, nous avons_ décidé_ d'appeler cette variable `x`. Nous avons ensuite appelé la fonction avec son nom et une valeur à utiliser pour `x`. Nous pouvons utiliser des fonctions en combinaison avec d'autres choses comme des boucles, présentées ci-dessous."
   ]
  },
  {
   "cell_type": "code",
   "execution_count": null,
   "metadata": {},
   "outputs": [],
   "source": [
    "for i in range(5):\n",
    "    nouveau_variable = fonction_simple(i)\n",
    "    print(nouveau_variable, \"Regardez ce que nous pouvons faire\")"
   ]
  },
  {
   "cell_type": "markdown",
   "metadata": {
    "lang": "fr"
   },
   "source": [
    "Notez que dans la boucle ci-dessus, nous avons décidé de définir une nouvelle variable en fonction de la sortie de notre fonction. Nous avons également utilisé notre itérateur de boucle «i» comme entrée de notre fonction pour calculer ces carrés pour chaque valeur de 0 à 4."
   ]
  },
  {
   "cell_type": "markdown",
   "metadata": {
    "lang": "fr"
   },
   "source": [
    "---\n",
    "### Exercices 3\n",
    "1. Dans la première cellule ci-dessous, remplacez le nom de la fonction définie par \"nom_fonction\".\n",
    "2. Dans la deuxième cellule ci-dessous, modifiez la formule pour calculer l'aire d'un rectangle correctement.\n",
    "3. Dans la deuxième cellule ci-dessous, modifiez la fonction pour renvoyer \"La zone du rectangle est\" avec la sortie calculée.\n",
    "---"
   ]
  },
  {
   "cell_type": "code",
   "execution_count": null,
   "metadata": {},
   "outputs": [],
   "source": [
    "# Exercises 3.1:\n",
    "\n",
    "## Changez le code ci-dessous pour l'exercice:\n",
    "def nom_fonction(x):\n",
    "    print('Son nom est ' + x)\n",
    "##\n",
    "\n",
    "z = 'Python'\n",
    "fonction_nom(z)"
   ]
  },
  {
   "cell_type": "code",
   "execution_count": null,
   "metadata": {},
   "outputs": [],
   "source": [
    "# Exercises 3.2 & 3.3:\n",
    "\n",
    "def surface_calculée(x, y):\n",
    "## Changez le code ci-dessous pour l'exercice:\n",
    "    print()\n",
    "##\n",
    "\n",
    "(surface_calculée(3, 5))"
   ]
  },
  {
   "cell_type": "markdown",
   "metadata": {
    "lang": "fr"
   },
   "source": [
    "## Graphing\n",
    "Nous pouvons également représenter graphiquement notre fonction en utilisant Python avec le code suivant"
   ]
  },
  {
   "cell_type": "code",
   "execution_count": null,
   "metadata": {
    "scrolled": true
   },
   "outputs": [],
   "source": [
    "# Cette bibliothèque contient quelques fonctions mathématiques à utiliser\n",
    "import numpy as np\n",
    "# Voici la bibliothèque graphique\n",
    "import matplotlib.pyplot as plt \n",
    "# Il s'agit d'une commande \"magique\" qui indique à Jupyter d'afficher nos graphiques dans le carnet\n",
    "%matplotlib inline\n",
    "\n",
    "# Ici, nous générons des points pour tracer notre fonction\n",
    "# Le premier chiffre est le minimum, le deuxième est le maximum et le troisième est le nombre de points à générer\n",
    "\n",
    "valeurs_à_plot = np.linspace(-10,10,100) # cela crée une liste de 100 points de [-10,10]\n",
    "\n",
    "def quadriller(x):\n",
    "    return x**2\n",
    "\n",
    "# créer un graphe\n",
    "plt.plot(valeurs_à_plot, quadriller(valeurs_à_plot))\n",
    "# ajouter des labels\n",
    "plt.xlabel(\"x valeurs\") \n",
    "plt.ylabel(\"y valeurs\")\n",
    "# nous pouvons aussi utiliser LaTeX dans les graphiques\n",
    "plt.title(\"$f(x) = x^2$\") \n",
    "\n",
    "plt.show()"
   ]
  },
  {
   "cell_type": "markdown",
   "metadata": {
    "lang": "fr"
   },
   "source": [
    "---\n",
    "### Exercices 4\n",
    "1. Le tracé dans la première cellule ci-dessous trace les points définis dans les listes x & y. Modifiez les nombres en x et y pour voir comment cela affecte le graphique.\n",
    "2. Le tracé de deux cellules a plusieurs lignes commentées pour ajouter différentes caractéristiques à l'intrigue. Jouez avec l'intrigue en ajoutant différentes lignes.\n",
    "3. Dans le graphique deux cellules vers le bas, essayez d’ajouter une troisième ligne en définissant une fonction et en lui faisant représenter la fonction.\n",
    "---"
   ]
  },
  {
   "cell_type": "code",
   "execution_count": null,
   "metadata": {},
   "outputs": [],
   "source": [
    "# Exercises 4.1:\n",
    "\n",
    "## Changez le code ci-dessous pour l'exercice:\n",
    "x = [0, 2, 4, 6, 8, 10]\n",
    "y = [0, 4, 8, 12, 16, 20]\n",
    "##\n",
    "\n",
    "plt.plot(x,y, marker='o',markersize=8);\n"
   ]
  },
  {
   "cell_type": "code",
   "execution_count": null,
   "metadata": {},
   "outputs": [],
   "source": [
    "# Exercises 4.2 & 4.3: \n",
    "valeurs_à_plot = np.linspace(0,10,11)\n",
    "x2 = valeurs_à_plot\n",
    "y2 = quadriller(valeurs_à_plot)\n",
    "x3 = valeurs_à_plot\n",
    "\n",
    "## Changez le code ci-dessous pour l'exercice 4.3:\n",
    "def nouvelle_fonction(x):\n",
    "    return x\n",
    "y3 = nouvelle_fonction(valeurs_à_plot)\n",
    "\n",
    "## Changez le code ci-dessous pour 4.2 & 4.3:\n",
    "plt.plot(x,y)\n",
    "plt.plot(x2, y2)\n",
    "#plt.grid()\n",
    "#plt.xlabel('x label')\n",
    "#plt.ylabel('y label')\n",
    "#plt.title('')\n",
    "#plt.legend()\n",
    "\n",
    "##"
   ]
  },
  {
   "cell_type": "markdown",
   "metadata": {},
   "source": [
    "![alt text](https://github.com/callysto/callysto-sample-notebooks/blob/master/notebooks/images/Callysto_Notebook-Banners_Bottom_06.06.18.jpg?raw=true)"
   ]
  }
 ],
 "metadata": {
  "kernelspec": {
   "display_name": "Python 3",
   "language": "python",
   "name": "python3"
  },
  "language_info": {
   "codemirror_mode": {
    "name": "ipython",
    "version": 3
   },
   "file_extension": ".py",
   "mimetype": "text/x-python",
   "name": "python",
   "nbconvert_exporter": "python",
   "pygments_lexer": "ipython3",
   "version": "3.7.3"
  },
  "nbTranslate": {
   "displayLangs": [
    "*"
   ],
   "hotkey": "alt-t",
   "langInMainMenu": true,
   "sourceLang": "en",
   "targetLang": "fr",
   "useGoogleTranslate": true
  }
 },
 "nbformat": 4,
 "nbformat_minor": 2
}
