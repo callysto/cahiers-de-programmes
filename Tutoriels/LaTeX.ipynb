{
 "cells": [
  {
   "cell_type": "markdown",
   "metadata": {},
   "source": [
    "![Callysto.ca Banner](https://github.com/callysto/curriculum-notebooks/blob/master/callysto-notebook-banner-top.jpg?raw=true)\n",
    "\n",
    "<a href=\"https://hub.callysto.ca/jupyter/hub/user-redirect/git-pull?repo=https%3A%2F%2Fgithub.com%2Fcallysto%2Fcahiers-de-programmes&branch=master&subPath=Tutoriels/LaTeX.ipynb&depth=1\" target=\"_parent\"><img src=\"https://raw.githubusercontent.com/callysto/cahiers-de-programmes/master/bouton-callysto.svg?sanitize=true\" width=\"123\" height=\"24\" alt=\"Open in Callysto\"/></a>"
   ]
  },
  {
   "cell_type": "markdown",
   "metadata": {
    "lang": "fr"
   },
   "source": [
    "# Composition mathématique avec LaTeX\n",
    "\n",
    "Cela ne servira que de brève introduction à la composition mathématique avec LaTeX et ne couvrira pas beaucoup d'autres aspects du langage de composition. Ce tutoriel couvrira les fondements de quelques erreurs courantes et comment les résoudre, et vous fournira un lien vers un aide-mémoire.\n",
    "\n",
    "1. Pour mettre une variable en ligne, entourez-la de signes dollar comme: `$x$`, qui rend et $x$.\n",
    "1. Pour composer une équation, entourez-la (sur une nouvelle ligne) en double dollar: `$$equation$$`\n",
    "1. vous pouvez également utiliser cette syntaxe\n",
    "```latex\n",
    "\\begin{equation}\n",
    "       votre_équation_ici\n",
    "\\end{equation}\n",
    "```\n",
    "1. Les symboles spéciaux commencent par une barre oblique inverse (`\\`). Par exemple, la lettre grecque $\\alpha$ est tapée comme `$\\alpha$`.\n",
    "\n",
    "1. Les fractions peuvent être composées avec `\\frac{numerator}{denominator}`\n",
    "1. Les racines carrées sont `\\sqrt{stuff inside square root}`"
   ]
  },
  {
   "cell_type": "markdown",
   "metadata": {
    "lang": "fr"
   },
   "source": [
    "Si vous voulez taper des variables en ligne, c'est aussi simple que $x$. Si vous voulez des symboles spéciaux en ligne, appelez-les simplement par leur nom, par exemple $\\alpha$, $\\gamma$, $\\epsilon$, $\\Delta$, $\\nabla$ et ainsi de suite sont appelés en tapant «$\\alpha$», `$\\nabla$` etc. [Ce lien mène](http://tug.ctan.org/info/symbols/comprehensive/symbols-a4.pdf) vers une liste complète de symboles et leurs commandes LaTeX. Bien sûr, une recherche Google est parfois plus rapide."
   ]
  },
  {
   "cell_type": "markdown",
   "metadata": {
    "lang": "fr"
   },
   "source": [
    "# Bases du LaTeX\n",
    "\n",
    "#### Double-clickez sur moi\n",
    "Vous pouvez facilement commencer des équations\n",
    "$$ c  = \\sqrt{a^2 + b^2}$$\n",
    "remarquez comment dans la liste ci-dessus, les variables apparaissant sous la racine carrée sont entourées par des accolades (`{ }`), et les puissances sont faites avec des carottes (`^`)."
   ]
  },
  {
   "cell_type": "markdown",
   "metadata": {
    "lang": "fr"
   },
   "source": [
    "#### Double-clickez sur moi\n",
    "\n",
    "Vous pouvez également taper des équations en utilisant cette syntaxe\n",
    "\\begin{equation}\n",
    "a = \\frac{x^3 +\\Gamma}{\\int e^{-x^2} dx}\n",
    "\\end{equation}\n",
    "\n",
    "Remarquez comment le numérateur de la fraction apparaît entre accolades et le dénominateur apparaît entre accolades séparées. Notez que les lettres majuscules grecques sont trouvées en utilisant une majuscule comme première lettre de votre commande LaTeX."
   ]
  },
  {
   "cell_type": "markdown",
   "metadata": {
    "lang": "fr"
   },
   "source": [
    "#### Double-clickez sur moi\n",
    "\n",
    "Notez également l'exposant, cette fois nous avons inclus des accolades. C'est parce que sans eux, seulement le premier caractère deviendra un exposant, comme démontré ci-dessous.\n",
    "\n",
    "\\begin{equation}\n",
    "a = x^-10\n",
    "\\end{equation}"
   ]
  },
  {
   "cell_type": "markdown",
   "metadata": {
    "lang": "fr"
   },
   "source": [
    "#### Double-clickez sur moi\n",
    "\n",
    "Ce qui précède ne rend pas comme prévu. Cependant, nous pouvons résoudre ce problème en ajoutant des accolades autour de l'exposant comme suit:\n",
    "\\begin{equation}\n",
    "a = x^{-10}\n",
    "\\end{equation}"
   ]
  },
  {
   "cell_type": "markdown",
   "metadata": {
    "lang": "fr"
   },
   "source": [
    "#### Double-clickez sur moi\n",
    "\n",
    "Vous pouvez également inclure des vecteurs sur des variables\n",
    "\\begin{equation}\n",
    "\\vec{F} = m \\vec{a}\n",
    "\\end{equation}"
   ]
  },
  {
   "cell_type": "markdown",
   "metadata": {
    "lang": "fr"
   },
   "source": [
    "#### Double-clickez sur moi\n",
    "\n",
    "Le symbole astérisque peut ne pas rendre comment vous l'espérez pour la multiplication en LaTeX, et il est souvent préférable d'utiliser `\\times`. Par exemple, comparez\n",
    "\n",
    "\\begin{equation}\n",
    "a * b = ab\n",
    "\\end{equation}\n",
    "\n",
    "contre\n",
    "\n",
    "\\begin{equation}\n",
    "a \\times b = ab\n",
    "\\end{equation}"
   ]
  },
  {
   "cell_type": "markdown",
   "metadata": {
    "lang": "fr"
   },
   "source": [
    "#### Double Click Me\n",
    "\n",
    "Si vous avez besoin de mettre des parenthèses autour d'une fraction, votre équation peut parfois ne pas être bien rendue, par exemple\n",
    "\n",
    "\\begin{equation}\n",
    "f(x) = a \\times ( \\frac{ x^2 }{ \\sqrt{ x^2 + \\tan(x) } } )\n",
    "\\end{equation}\n",
    "\n",
    "Pour augmenter la taille de vos parenthèses, vous devez inclure les commandes `\\left` et` \\right` comme suit:\n",
    "\n",
    "\\begin{equation}\n",
    "f(x) = a \\times \\left( \\frac{ x^2 }{ \\sqrt{ x^2 + \\tan(x) } } \\right)\n",
    "\\end{equation}"
   ]
  },
  {
   "cell_type": "markdown",
   "metadata": {
    "lang": "fr"
   },
   "source": [
    "# Erreurs communes au LaTeX"
   ]
  },
  {
   "cell_type": "markdown",
   "metadata": {
    "lang": "fr"
   },
   "source": [
    "### Les indices longs doivent être entourés d'accolades pour être affichés correctement"
   ]
  },
  {
   "cell_type": "markdown",
   "metadata": {
    "lang": "fr"
   },
   "source": [
    "##### Double-clickez sur moi\n",
    "\n",
    "Notez comment l'équation\n",
    "\\begin{equation}\n",
    "a = x_10\n",
    "\\end{equation}\n",
    "\n",
    "Ne rend pas ce que vous voulez, mais\n",
    "\\begin{equation}\n",
    "a = x_{10}\n",
    "\\end{equation}\n",
    "le fait une fois que vous incluez les accolades."
   ]
  },
  {
   "cell_type": "markdown",
   "metadata": {
    "lang": "fr"
   },
   "source": [
    "### Les espaces dans les équations sont ignorés"
   ]
  },
  {
   "cell_type": "markdown",
   "metadata": {
    "lang": "fr"
   },
   "source": [
    "##### Double-clickez sur moi\n",
    "Notez ce qui arrive aux mots inclus dans l'environnement mathématique\n",
    "$$\n",
    "Si vous utilisez des mots comme variable, ils deviennent difficiles à lire = x_a^2\n",
    "$$\n",
    "\n",
    "Si vous devez inclure des mots dans vos équations, vous pouvez le faire avec `\\text{}`\n",
    "$$\n",
    "\\text{Maintenant, nous pouvons lire ceci facilement une fois que nous avons rendu le calcul} = x_a^2\n",
    "$$"
   ]
  },
  {
   "cell_type": "markdown",
   "metadata": {
    "lang": "fr"
   },
   "source": [
    "### Vous ne pouvez pas inclure de signes de pourcentage sans un peu de travail supplémentaire"
   ]
  },
  {
   "cell_type": "markdown",
   "metadata": {
    "lang": "fr"
   },
   "source": [
    "##### Double-clickez sur moi\n",
    "\n",
    "Si vous voulez inclure un signe de pourcentage dans une équation mathématique, vous devez y échapper avec un `\\` parce qu'un signe de pourcentage indique un commentaire dans LaTeX\n",
    "\n",
    "$$\n",
    "100 % C'est parce qu'un signe de pourcentage est un commentaire en Latex!\n",
    "$$\n",
    "Pour échapper le commentaire, ajoutez simplement une barre oblique inverse\n",
    "$$ 100 \\% $$"
   ]
  },
  {
   "cell_type": "markdown",
   "metadata": {
    "lang": "fr"
   },
   "source": [
    "### Manquez une accolade\n",
    "\n",
    "Si vous manquez une accolade lorsque vous utilisez une commande LaTeX, par exemple dans une fraction, votre équation ne sera pas rendue, comme dans un exemple simple ci-dessous.\n",
    "\n",
    "\\begin{equation}\n",
    "x = \\frac{ a } { y\n",
    "\\end{equation}"
   ]
  },
  {
   "cell_type": "markdown",
   "metadata": {
    "lang": "fr"
   },
   "source": [
    "Pour résoudre ce problème, ajoutez simplement l'accolade manquante\n",
    "\n",
    "\\begin{equation}\n",
    "x = \\frac{ a } { y } \n",
    "\\end{equation}\n",
    "\n",
    "Notez cependant que chaque fois que vous rencontrez une erreur dans votre LaTeX, il sera tout simplement pas rendu comme indiqué ci-dessus, et parfois c'est un peu difficile de trouver l'accolade manquante."
   ]
  },
  {
   "cell_type": "markdown",
   "metadata": {
    "lang": "fr"
   },
   "source": [
    "Le LaTeX est très étendu pour la composition mathématique, et nous ne pouvons pas tout couvrir ici. Cependant, il est assez intuitif et, avec un peu de pratique, un peu plus rapide que d'utiliser les éditeurs d'équations dans d'autres outils. N'hésitez pas d'essayer de créer vos propres équations maintenant."
   ]
  },
  {
   "cell_type": "markdown",
   "metadata": {
    "lang": "fr"
   },
   "source": [
    "---\n",
    "### Des exercices\n",
    "1. Corrigez ce qui suit pour représenter correctement la formule pour calculer l'aire de surface d'une sphère\n",
    "\n",
    "$$\n",
    "Area = 4 pi r2\n",
    "$$\n",
    "  \n",
    "2. Corrigez ce qui suit pour représenter correctement la formule pour calculer le volume d'une sphère\n",
    "\\begin{equation}\n",
    "Volume = \\frac{4} / {3} pi r3\n",
    "\\end{equation}\n",
    "3. Assurez-vous que pi apparaît comme un symbole dans les questions 1 et 2.\n",
    "4. Dans cette phrase, modifiez les variables x, Y et y pour vous assurer qu'elles apparaissent sous forme de variables LaTeX."
   ]
  },
  {
   "cell_type": "markdown",
   "metadata": {},
   "source": [
    "[![Callysto.ca License](https://github.com/callysto/curriculum-notebooks/blob/master/callysto-notebook-banner-bottom.jpg?raw=true)](https://github.com/callysto/curriculum-notebooks/blob/master/LICENSE.md)"
   ]
  }
 ],
 "metadata": {
  "kernelspec": {
   "display_name": "Python 3",
   "language": "python",
   "name": "python3"
  },
  "language_info": {
   "codemirror_mode": {
    "name": "ipython",
    "version": 3
   },
   "file_extension": ".py",
   "mimetype": "text/x-python",
   "name": "python",
   "nbconvert_exporter": "python",
   "pygments_lexer": "ipython3",
   "version": "3.7.6"
  },
  "nbTranslate": {
   "displayLangs": [
    "*"
   ],
   "hotkey": "alt-t",
   "langInMainMenu": true,
   "sourceLang": "en",
   "targetLang": "fr",
   "useGoogleTranslate": true
  }
 },
 "nbformat": 4,
 "nbformat_minor": 2
}
