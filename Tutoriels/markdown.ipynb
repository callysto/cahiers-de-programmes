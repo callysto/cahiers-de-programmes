{
 "cells": [
  {
   "cell_type": "markdown",
   "metadata": {},
   "source": [
    "![alt text](https://github.com/callysto/callysto-sample-notebooks/blob/master/notebooks/images/Callysto_Notebook-Banner_Top_06.06.18.jpg?raw=true)"
   ]
  },
  {
   "cell_type": "markdown",
   "metadata": {
    "lang": "fr"
   },
   "source": [
    "# Composition avec Markdown\n",
    "\n",
    "Ce cahier illustre l'utilisation de Markdown pour saisir des documents dans Jupyter. Après avoir parcouru ce cahier, vous pourrez modifier le texte dans n'importe quel cahier. De plus, vous pourrez aider vos étudiants à éditer le texte de leurs propres cahiers.\n",
    "\n",
    "## Les éléments _les plus_ fondamentaux\n",
    "\n",
    "Notez que vous pouvez afficher le code source derrière n'importe quelle cellule en double-cliquant dessus. Pour rendre ou réexécuter la cellule, utilisez l'une des options suivantes:\n",
    "1. Sélectionnez `Cell` $\\rightarrow$ `Run Cells`\n",
    "2. Appuyez sur `Shift-Enter`\n",
    "3. Cliquez sur le bouton `Run` ci-dessus"
   ]
  },
  {
   "cell_type": "markdown",
   "metadata": {
    "lang": "fr"
   },
   "source": [
    "## Création et suppression de cellules Markdown\n",
    "La première étape à considérer consiste à créer une nouvelle cellule pour la composition. Pour ce faire, pendant que cette cellule est sélectionnée, dans le menu en haut, cliquez sur le signe plus (+) situé à côté du bouton Enregistrer."
   ]
  },
  {
   "cell_type": "markdown",
   "metadata": {
    "lang": "fr"
   },
   "source": [
    "Une fois que vous avez créé la nouvelle cellule, vous obtiendrez une cellule vide de `Code`. Pour changer cette cellule en une cellule que vous pouvez utiliser pour la composition, sélectionnez la cellule et, dans le menu déroulant en haut, change `Code` $\\rightarrow$ `Markdown`. Cela change ce type de cellule en une cellule Markdown, et elle peut maintenant être utilisée pour la composition!\n",
    "\n",
    "\n",
    "L'étape suivante consistera à apprendre à supprimer des cellules. Sélectionnez la cellule que vous avez convertie en une cellule Markdown. Pour supprimer cette cellule de votre cahier Jupyter, cliquez sur `Edit` $\\rightarrow$ `Delete Cells`. Si vous avez accidentellement supprimé une cellule incorrecte, vous pouvez toujours la ramener en cliquant sur `Edit` $\\rightarrow$ `Undo Delete Cells`."
   ]
  },
  {
   "cell_type": "markdown",
   "metadata": {
    "lang": "fr"
   },
   "source": [
    "## Créer des titres\n",
    "\n",
    "Créer un gros titre en gras dans un cahier Jupyter avec Markdown est très simple! Tout ce que vous avez à faire est, sur une nouvelle ligne, tapez le signe dièse puis un espace. Après l'espace, ajoutez votre titre. C'est si simple. En ajoutant des dièses supplémentaires, vous créerez différents niveaux de titre. La cellule ci-dessous est un texte non formaté démontrant cela. Pour afficher la cellule rendue, dans le menu en haut, cliquez sur le menu déroulant `Raw NBConvert` et sélectionnez `Markdown`."
   ]
  },
  {
   "cell_type": "raw",
   "metadata": {},
   "source": [
    "# I am a level one title\n",
    "## I am a level two title\n",
    "### I am a level three title\n",
    "#### I am a level four title\n",
    "##### I am a level five title\n",
    "###### I am a level six title \n",
    "####### I would be a level seven title if such a thing existed\n",
    "\n",
    "If  # isn't the first character, that line does not get rendered as a title. "
   ]
  },
  {
   "cell_type": "markdown",
   "metadata": {
    "lang": "fr"
   },
   "source": [
    "Pour voir comment ces titres apparaissent dans le cahier Jupyter, sélectionnez la cellule ci-dessus et, dans le menu en haut, sélectionnez `Raw NBConvert` $\\rightarrow$ `Markdown`, puis appuyez sur `Ctrl + Enter` pour afficher la cellule. N'hésitez pas à créer une nouvelle cellule et à jouer avec celles-ci ou à modifier celle ci-dessus."
   ]
  },
  {
   "cell_type": "markdown",
   "metadata": {
    "lang": "fr"
   },
   "source": [
    "## Créer des listes détaillées\n",
    "Créer des listes en Markdown dans un cahier Jupyter est également simple! Pour ce faire, vous devez simplement commencer une nouvelle ligne et commencer à compter. La syntaxe de Markdown est indiquée dans le code ci-dessous."
   ]
  },
  {
   "cell_type": "markdown",
   "metadata": {
    "lang": "fr"
   },
   "source": [
    "#### Double-cliquer sur moi\n",
    "\n",
    "1. Ceci est le premier élément d'une liste\n",
    "1. Ceci est le deuxième\n",
    "50. Notez que les chiffres que nous utilisons n'ont pas d'importance, une fois que la cellule est rendue\n",
    "    1. En appuyant sur la touche `Tab` on peut ajouter des sous-items\n",
    "    45. Les chiffres n'ont pas d'importance ici, non plus\n",
    "        - On peut ajouter plusieurs sous-listes\n",
    "            - Mais à un moment donné, cela commence à devenir redondant\n",
    "        - Nous pouvons aussi remonter quelques niveaux d'imbrication en alignant le texte avec la ligne plus haute\n",
    "2346. En revenant à l'emplacement original, nous quittons nos listes imbriquées\n",
    "23236235672456. Les chiffres n'ont vraiment pas d'importance.\n",
    "*En fait, vous pouvez abandonner les chiffres à tout moment.\n",
    "1. Ou recommencez à compter\n",
    "    \n",
    "\n",
    "- Nous n'avons pas non plus besoin de chiffres si nous ne voulons pas!\n",
    "    * Nous avons beaucoup d'options\n",
    "-Notez comment si nous ne mettons pas d'espace entre le tiret et le premier terme, cela ne devient pas un nouvel élément dans la liste!"
   ]
  },
  {
   "cell_type": "markdown",
   "metadata": {
    "lang": "fr"
   },
   "source": [
    "---\n",
    "### Exercice 1\n",
    "1. Dans la cellule ci-dessus, essayez de corriger la dernière ligne afin que le dernier élément de la liste soit correctement mis en forme une fois rendu.\n",
    "2. Créez une nouvelle cellule ci-dessous, ajoutez un titre et une liste ordonnée de vos cinq fruits préférés.\n",
    "---"
   ]
  },
  {
   "cell_type": "markdown",
   "metadata": {
    "lang": "fr"
   },
   "source": [
    "## Liens\n",
    "Vous pouvez ajouter des hyperliens aux pages Web où vous voulez, directement dans le texte. La syntaxe est la suivante\n",
    "```markdown\n",
    "[texte que vous souhaitez afficher](lien vers un fichier ou une page URL)\n",
    "```\n",
    "Changez la cellule ci-dessous à Markdown, l'exécuter et voir où le lien vous mène!"
   ]
  },
  {
   "cell_type": "raw",
   "metadata": {
    "lang": "fr"
   },
   "source": [
    "[ceci est le texte qui devient l'hyperlien](https://media.giphy.com/media/Vs44a88Dvbnkk/giphy.gif)"
   ]
  },
  {
   "cell_type": "markdown",
   "metadata": {
    "lang": "fr"
   },
   "source": [
    "## Images / gifs\n",
    "Les images et les gifs peuvent être intégrés dans une cellule Markdown de manière presque identique à celle d’un hyperlien. Pour afficher l'image, ajoutez un point d'exclamation à la commande, comme illustré ci-dessous.\n",
    "```markdown\n",
    "![tapez quelque chose ici, ça n'a pas d'importance, c'est plus pour votre référence](lien entre parenthèses)\n",
    "```\n",
    "afficherait une image / gif. Il peut s'agir d'un lien URL vers une image ou d'un lien enregistré sur le concentrateur / localement. Modifiez la cellule ci-dessous à Markdown et l'exécuter pour la voir en action, ou même intégrer vos propres images dans ce cahier."
   ]
  },
  {
   "cell_type": "raw",
   "metadata": {
    "lang": "fr"
   },
   "source": [
    "![tape tape tape](https://media.giphy.com/media/gVoBC0SuaHStq/giphy.gif)"
   ]
  },
  {
   "cell_type": "markdown",
   "metadata": {
    "lang": "fr"
   },
   "source": [
    "---\n",
    "### Exercice 2\n",
    "1. Dans une nouvelle cellule ci-dessous, incorporez une image d'un chat.\n",
    "2. Dans la même cellule, ajoutez un lien hypertexte sous l'image qui est liée à l'image originale.\n",
    "3. Modifiez le texte affiché dans le lien hypertexte pour dire \"Kitty Kitty\".\n",
    "---"
   ]
  },
  {
   "cell_type": "markdown",
   "metadata": {
    "lang": "fr"
   },
   "source": [
    "# Citations bloc\n",
    "Les citations bloc sont un moyen d'indenter du texte / des images avec une barre grise afin de les distinguer du texte principal. Cela se fait tout simplement en ajoutant un `>` au début d'une ligne. Changez la cellule ci-dessous à Markdown pour voir quelques exemples"
   ]
  },
  {
   "cell_type": "raw",
   "metadata": {
    "lang": "fr"
   },
   "source": [
    "> Ceci est un exemple de citation bloc. Vous pouvez taper aussi longtemps que vous le souhaitez et tout le texte résultant sera à droite de la barre grise verticale.\n",
    "\n",
    "Vous pouvez également utiliser des citations bloc pour formater facilement des images avec des légendes!\n",
    "\n",
    ">![cette image sera une citation bloc](https://media.giphy.com/media/fs6rnt1K0YyVWRXNwY/giphy.gif)\n",
    ">\n",
    "> Maintenant, nous pouvons inclure une légende pour les images. C'est bien parce que l'image se distingue maintenant du texte principal. Cela facilite l’inclusion d’images sans interrompre le récit que vous avez créé. Remarquez comment j'ai inclus un `>` vide sous l'image. C'est pourquoi l'espacement de ce texte se présente bien en dessous. Essayez de le retirer et voyez ce qui se passe."
   ]
  },
  {
   "cell_type": "markdown",
   "metadata": {
    "lang": "fr"
   },
   "source": [
    "## Les tableaux\n",
    "\n",
    "On peut également créer des tableaux de données dans Markdown. Cependant, le faire manuellement n'est souvent pas le plus pratique. Pour les grands tableaux, nous vous recommandons d'utiliser des outils en ligne (tels que [ici](https://jakebathman.github.io/Markdown-Table-Generator/)) où vous pouvez copier-coller des tableaux Excel ou des fichiers CSV. Cela produira alors une syntaxe pour rendre correctement ces tableaux. Pour les petits tableaux, il est assez facile de taper les vôtres. Voir la cellule ci-dessous."
   ]
  },
  {
   "cell_type": "raw",
   "metadata": {},
   "source": [
    "| Ceci est le premier nom de colonne | Deuxième colonne | Troisième |\n",
    "|--- | --- | ------------- |\n",
    "|Notez que rien n'est aligné lorsque nous le tapons | Mais ça a l'air bien quand rendu | C'est vraiment pratique!\n",
    "|les lignes courtes sont bien aussi | nombres? | 343453 |\n",
    "|symboles | `oui` | $\\int e^{-x^2} dx$ |\n",
    "|notez également que le nombre de tirets dans la deuxième ligne n'a pas d'importance | il faut juste qu'il y en ait au moins trois | les autres ne sont vraiment que pour vous, de donner au pré-rendu une belle apparence |"
   ]
  },
  {
   "cell_type": "markdown",
   "metadata": {
    "lang": "fr"
   },
   "source": [
    "La syntaxe de base de la table est la suivante:\n",
    "```markdown\n",
    "|initialiser|vos|noms de|colonnes|\n",
    "|-----------|---|-------|---------| <-cette ligne met en place les en-têtes, nécessite au moins trois `---` chaque ligne\n",
    "|   données |données|données|données| <- n'importe quel type de données en texte. N'hésitez pas à mélanger aussi!\n",
    "|  nombres  | texte | texte | données   <- vous n'avez pas besoin d'inclure le \"pipe\" le plus à droite si vous ne voulez pas\n",
    "```\n",
    "\n",
    "La syntaxe peut être considérée comme la manière d’essayer d’écrire directement un tableau à l’aide de symboles sur votre clavier. Jouez avec la table dans la cellule ci-dessus ou créez une nouvelle cellule et essayez de créer le vôtre! Vous pourriez en mettre un dans cette cellule et mettre un tableau ici. Double-cliquez n'importe où sur cette cellule pour ouvrir le mode d'édition."
   ]
  },
  {
   "cell_type": "markdown",
   "metadata": {
    "lang": "fr"
   },
   "source": [
    "---\n",
    "### Exercices 3\n",
    "1. En utilisant des exemplaires de cahiers, les enseignants peuvent aimer ou ne pas aimer les différentes sections de l’échantillon fourni. Heureusement, il est facile de faire ces changements mineurs dans les cahiers. Dans les deux cellules ci-dessous:\n",
    "    * supprimez la deuxième cellule car vous n'en aurez pas besoin dans votre leçon\n",
    "    * supprimez le dernier paragraphe de la première cellule\n",
    "    * changez la date dans le premier paragraphe\n",
    "2. Dans la première cellule ci-dessous, prenez la liste ordonnée de la citation bloc.\n",
    "\n",
    "---"
   ]
  },
  {
   "cell_type": "markdown",
   "metadata": {
    "lang": "fr"
   },
   "source": [
    "> ## Propriétés des nombres aléatoires\n",
    ">\n",
    "> 22 mai 2018\n",
    "> Supposons que vous ayez une suite de nombres aléatoires $N$ $\\{R\\}$ avec le contenu $\\{r_1, r_2, ... , r_N\\}$ où chaque élément $r_i$ est un nombre aléatoire. Quelle sorte de propriétés cette séquence de nombres devrait-elle avoir? S'il s'agit vraiment d'une séquence de nombres aléatoires, il _doit_ satisfaire les propriétés suivantes, que nous expliquerons plus en détail:\n",
    ">\n",
    "> 1. Tirer n'importe quel $r_i$ est également probable et indépendant.\n",
    "> 2. La séquence de nombres aléatoires est uniformément distribuée.\n",
    ">\n",
    "> \"Tirer une valeur\" dans cette portée signifie que nous sélectionnons un nombre de notre séquence de nombres aléatoires, mais ne le retirons pas de la séquence (la séquence reste inchangée, nous \"observons\" simplement le nombre aléatoire).\n",
    "Regardons ces deux propriétés plus en détail."
   ]
  },
  {
   "cell_type": "markdown",
   "metadata": {
    "lang": "fr"
   },
   "source": [
    "> ### Toutes les valeurs sont également probables et indépendantes\n",
    ">\n",
    "> Cela signifie que si vous deviez sélectionner (mais pas retirer) un nombre de votre séquence de nombres aléatoires $\\{r_1, r_2, ... , r_N\\}$ au hasard, la probabilité de tirer l'un de ces nombres est\n",
    "\\begin{equation}\n",
    "p(r_i) = \\frac{1}{N}\n",
    "\\end{equation}\n",
    "où $p(r_i)$ est la probabilité de sélectionner un nombre $r_i$. Cette probabilité est identique pour tous les nombres de votre ensemble. Plus explicitement:\n",
    "\\begin{equation}\n",
    "p(r_1) = p(r_2) = ... = p(r_N) = \\frac{1}{N}\n",
    "\\end{equation}\n",
    ">\n",
    "> La propriété d'indépendance signifie que si vous tirer un nombre de l'ensemble, cela n'affecte pas la probabilité de tirer d'autres nombres, ni même lui-même ultérieurement. C'est parce que la séquence reste inchangée après avoir tiré (observez) un nombre. "
   ]
  },
  {
   "cell_type": "markdown",
   "metadata": {},
   "source": [
    "![alt text](https://github.com/callysto/callysto-sample-notebooks/blob/master/notebooks/images/Callysto_Notebook-Banners_Bottom_06.06.18.jpg?raw=true)"
   ]
  }
 ],
 "metadata": {
  "kernelspec": {
   "display_name": "Python 3",
   "language": "python",
   "name": "python3"
  },
  "language_info": {
   "codemirror_mode": {
    "name": "ipython",
    "version": 3
   },
   "file_extension": ".py",
   "mimetype": "text/x-python",
   "name": "python",
   "nbconvert_exporter": "python",
   "pygments_lexer": "ipython3",
   "version": "3.7.3"
  },
  "nbTranslate": {
   "displayLangs": [
    "*"
   ],
   "hotkey": "alt-t",
   "langInMainMenu": true,
   "sourceLang": "en",
   "targetLang": "fr",
   "useGoogleTranslate": true
  }
 },
 "nbformat": 4,
 "nbformat_minor": 2
}
