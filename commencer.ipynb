{
 "cells": [
  {
   "cell_type": "markdown",
   "metadata": {},
   "source": [
    "![Callysto.ca Banner](https://github.com/callysto/curriculum-notebooks/blob/master/callysto-notebook-banner-top.jpg?raw=true)\n",
    "\n",
    "<a href=\"https://hub.callysto.ca/jupyter/hub/user-redirect/git-pull?repo=https%3A%2F%2Fgithub.com%2Fcallysto%2Fcahiers-de-programmes&branch=master&subPath=commencer.ipynb&depth=1\" target=\"_parent\"><img src=\"https://raw.githubusercontent.com/callysto/cahiers-de-programmes/master/bouton-callysto.svg?sanitize=true\" width=\"123\" height=\"24\" alt=\"Open in Callysto\"/></a>"
   ]
  },
  {
   "cell_type": "markdown",
   "metadata": {
    "lang": "fr"
   },
   "source": [
    "# Commencer\n",
    "\n",
    "Donc, vous vous êtes connecté ( https://hub.callysto.ca ), et maintenant? En règle générale, vous regarderez l'interface utilisateur du gestionnaire de fichiers ou l'onglet \"Home\" du répertoire et vous ne disposerez que d'un seul fichier (celui-ci!).\n",
    "\n",
    "Si vous avez déjà utilisé des cahiers Jupyter, n'hésitez pas à commencer le codage, mais sinon, les ressources de ce cahier devraient vous aider à démarrer. Dans les sections ci-dessous, vous trouverez des liens vers des exercices, des exemples de contenu et des tutoriels. Suivez nos étapes ci-dessous pour commencer!\n",
    "\n",
    "# La première étape\n",
    "\n",
    "Votre première tâche consiste à remplir votre répertoire personnel avec du contenu! Pour ce faire, vous pouvez cliquer sur [ce lien](https://hub.callysto.ca/jupyter/hub/user-redirect/git-pull?repo=https://github.com/callysto/cahiers-de-programmes&branch=master&urlpath=notebooks/cahiers-de-programmes/commencer.ipynb&depth=1). Ce que fait ce lien remplit votre répertoire d'accueil avec les cahiers ci-dessous. Une fois cette étape terminée, vous aurez accès aux cahiers et pourrez cliquer et interagir avec eux."
   ]
  },
  {
   "cell_type": "markdown",
   "metadata": {
    "lang": "fr"
   },
   "source": [
    "# Deuxième étape\n",
    "\n",
    "Maintenant que vous avez un contenu de démarrage, n'hésitez pas à consulter les cahiers et les liens ci-dessous pour vous familiariser davantage avec la technologie Jupyter et Callysto.\n",
    "\n",
    "## Les fondamentaux - Exercices pour commencer\n",
    "* [MarkDown - Découvrez comment utiliser les caheirs Jupyter pour la composition de documents](Tutoriels/markdown.ipynb)\n",
    "* [Latex - Apprenez à composer des équations à l'aide de latex dans les cahiers Jupyter](Tutoriels/LaTeX.ipynb)\n",
    "\n",
    "## Ressources Callysto\n",
    "* [Callysto Learning Modules](https://www.callysto.ca/learning-modules/) (en anglais et en français)\n",
    "\n",
    "# Autres ressources\n",
    "Il existe de nombreuses ressources pour vous familiariser avec l’écosystème Jupyter, une recherche sur Google (ou GitHub) pour votre domaine d’intérêt et «Jupyter Notebook» sera souvent intéressant. Par exemple (en anglais):\n",
    "\n",
    "* [Une galerie de cahiers Jupyter intéressants](https://github.com/jupyter/jupyter/wiki/A-gallery-of-interesting-Jupyter-Notebooks)"
   ]
  },
  {
   "cell_type": "markdown",
   "metadata": {},
   "source": [
    "[![Callysto.ca License](https://github.com/callysto/curriculum-notebooks/blob/master/callysto-notebook-banner-bottom.jpg?raw=true)](https://github.com/callysto/curriculum-notebooks/blob/master/LICENSE.md)"
   ]
  }
 ],
 "metadata": {
  "kernelspec": {
   "display_name": "Python 3.8.10 64-bit",
   "language": "python",
   "name": "python3"
  },
  "language_info": {
   "codemirror_mode": {
    "name": "ipython",
    "version": 3
   },
   "file_extension": ".py",
   "mimetype": "text/x-python",
   "name": "python",
   "nbconvert_exporter": "python",
   "pygments_lexer": "ipython3",
   "version": "3.8.10"
  },
  "latex_envs": {
   "LaTeX_envs_menu_present": true,
   "autoclose": false,
   "autocomplete": true,
   "bibliofile": "biblio.bib",
   "cite_by": "apalike",
   "current_citInitial": 1,
   "eqLabelWithNumbers": true,
   "eqNumInitial": 1,
   "hotkeys": {
    "equation": "Ctrl-E",
    "itemize": "Ctrl-I"
   },
   "labels_anchors": false,
   "latex_user_defs": false,
   "report_style_numbering": false,
   "user_envs_cfg": false
  },
  "nbTranslate": {
   "displayLangs": [
    "*"
   ],
   "hotkey": "alt-t",
   "langInMainMenu": true,
   "sourceLang": "en",
   "targetLang": "fr",
   "useGoogleTranslate": true
  },
  "vscode": {
   "interpreter": {
    "hash": "916dbcbb3f70747c44a77c7bcd40155683ae19c65e1c03b4aa3499c5328201f1"
   }
  }
 },
 "nbformat": 4,
 "nbformat_minor": 2
}
