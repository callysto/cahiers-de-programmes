{
 "cells": [
  {
   "cell_type": "markdown",
   "metadata": {},
   "source": [
    "![Callysto.ca Banner](https://github.com/callysto/curriculum-notebooks/blob/master/callysto-notebook-banner-top.jpg?raw=true)"
   ]
  },
  {
   "cell_type": "code",
   "execution_count": null,
   "metadata": {},
   "outputs": [],
   "source": [
    "%%html\n",
    "\n",
    "<script src=\"https://cdn.geogebra.org/apps/deployggb.js\"></script>"
   ]
  },
  {
   "cell_type": "markdown",
   "metadata": {
    "lang": "fr"
   },
   "source": [
    "# Réflexions de graphiques\n",
    "\n",
    "<img src=\"images/cat_fight.jpg\" width=960 height=640>"
   ]
  },
  {
   "cell_type": "markdown",
   "metadata": {
    "lang": "fr"
   },
   "source": [
    "## Introduction\n",
    "\n",
    "Dans la photo ci-dessus, un chaton regarde son image dans un miroir.\n",
    "Il y a quelques observations évidentes mais importantes à faire au sujet du chaton et de son image.\n",
    "Premièrement, le chaton et son image semblent être sur les côtés opposés du miroir.\n",
    "Deuxièmement, le chaton et son image semblent être à la même distance de la surface du miroir.\n",
    "Troisièmement, le chaton peut voir son image car il regarde le miroir tout droit -\n",
    "le photographe ne peut pas voir son image dans le miroir car elle le regarde en oblique.\n",
    "\n",
    "Maintenant, voyons comment la réflexion d'un point par rapport à une droite est comme une image dans un miroir.\n",
    "L'applet ci-dessous montre un point $P$ et son image $P'$ par rapport à une droite.\n",
    "Essayez de déplacer $P$ et la droite et remarque comment $P'$ change."
   ]
  },
  {
   "cell_type": "code",
   "execution_count": null,
   "metadata": {},
   "outputs": [],
   "source": [
    "%%html\n",
    "\n",
    "<div id=\"ggb-point\"></div>\n",
    "\n",
    "<script>\n",
    "  var ggbApp = new GGBApplet({\n",
    "      \"height\": 400,\n",
    "      \"showToolBar\": false,\n",
    "      \"showMenuBar\": false,\n",
    "      \"showAlgebraInput\": false,\n",
    "      \"showResetIcon\": true,\n",
    "      \"enableLabelDrags\": false,\n",
    "      \"enableRightClick\": false,\n",
    "      \"enableShiftDragZoom\": true,\n",
    "      \"useBrowserForJS\": false,\n",
    "      \"filename\": \"geogebra/reflection-point.ggb\"\n",
    "  }, 'ggb-point');\n",
    "\n",
    "  ggbApp.inject();\n",
    "</script>"
   ]
  },
  {
   "cell_type": "markdown",
   "metadata": {
    "lang": "fr"
   },
   "source": [
    "Peu importe quel côté de la droite on place $P$, son image $P'$ est du côté opposé.\n",
    "Le point $P$ est autant éloigné de la droite que $P'$.\n",
    "Si nous devions tracer un segment de $P$ à $P'$, ce segment croisse la droite à travers laquelle que nous réfléchissons à un angle droit; pour \"voir\" $P'$, $P$ doit regarder la ligne directement.\n",
    "\n",
    "L'applet affiche l'image d'un point par rapport à n'importe quelle droite.\n",
    "Dans ce cahier, nous apprendrons à trouver la réflexion d'un point par rapport à trois droites particulières:\n",
    "l'axe des abscisses $x$, l'axe des ordonnées $y$ et la ligne $y = x$.\n",
    "Nous allons également apprendre à trouver la réflexion des fonctions et des graphiques des fonctions par rapport à ces droites.\n",
    "La réflexion par rapport à d'autres droites est en dehors du cadre de ce cahier."
   ]
  },
  {
   "cell_type": "markdown",
   "metadata": {
    "lang": "fr"
   },
   "source": [
    "## Réflexions par rapport à l'axe des abscisses $x$\n",
    "\n",
    "### Points\n",
    "\n",
    "L'axe des abscisses ($x$) est la droite la plus facile à utiliser comme droite de réflexion.\n",
    "Après avoir joué avec l'applet ci-dessus, vous pourriez déjà avoir une idée de ce que devrait être l'image d'un point sur l'axe des abscisses ($x$).\n",
    "Sinon, vous voudrez peut-être essayer de jouer plus avec l'applet.\n",
    "En particulier, essayez de rendre la ligne horizontale, puis essayez de faire glisser le point $P$.\n",
    "\n",
    "Alors testons votre intuition.\n",
    "Dans l'applet ci-dessous, il y a trois points bleus, $A$, $B$ et $C$.\n",
    "Il y a trois autres points rouges, $A'$, $B'$ et $C'$ qui sont supposés être leurs images, mais ils sont au mauvais endroits.\n",
    "Essayez de déplacer $A'$, $B'$ et $C'$ là où vous pensez qu'ils devraient être.\n",
    "Vous verrez un message si vous avez bien compris.\n",
    "Vous pouvez aussi continuer à lire et revenir à cet exercice plus tard."
   ]
  },
  {
   "cell_type": "code",
   "execution_count": null,
   "metadata": {},
   "outputs": [],
   "source": [
    "%%html\n",
    "\n",
    "<div id=\"ggb-exercise1\"></div>\n",
    "\n",
    "<script>\n",
    "  var ggbApp = new GGBApplet({\n",
    "      \"height\": 600,\n",
    "      \"showToolBar\": false,\n",
    "      \"showMenuBar\": false,\n",
    "      \"showAlgebraInput\": false,\n",
    "      \"showResetIcon\": true,\n",
    "      \"enableLabelDrags\": false,\n",
    "      \"enableShiftDragZoom\": true,\n",
    "      \"enableRightClick\": false,\n",
    "      \"useBrowserForJS\": false,\n",
    "      \"filename\": \"geogebra/reflection-exercise1.ggb\"\n",
    "  }, 'ggb-exercise1');\n",
    "\n",
    "  ggbApp.inject();\n",
    "</script>"
   ]
  },
  {
   "cell_type": "markdown",
   "metadata": {
    "lang": "fr"
   },
   "source": [
    "Si vous avez pu résoudre l'exercice, vous avez peut-être déjà deviné les faits suivants:\n",
    "\n",
    "*Un point et son image par rapport à l’axe des abscisses ont la même abscisse ($x$).\n",
    "\n",
    "C'est parce que le segment d'un point à son image sur l'axe des abscisses doit croiser l'axe des abscisses à un angle droit.\n",
    "Puisque l'axe des abscisses est parfaitement horizontal, ce segmant de point à image doit être parfaitement verticale,\n",
    "ce qui signifie que les points sont directement les uns sur les autres, ils ont donc la même valeur d'abscisse.* Un point et son image sur l'axe des abscisses ont des ordonnées ($y$) égales, mais opposées.\n",
    "\n",
    "C'est à dire que si un point a une ordonnée de, disons, 17, son image a une ordonnée de -17.\n",
    "Plus généralement, si un point a une ordonnée ($y$) de $a$, son image a a une ordonnée ($y$) de $-a$.\n",
    "Cela déroule du fait que les deux points sont situés de part et d'autre de l'axe des abscisses\n",
    "(donc l'un est positif et l'autre négatif, sauf si les points sont *sur* l'axe des abscisses)\n",
    "et le fait que les deux points sont également éloignés de l'axe des abscisses.\n",
    "\n",
    "Rassemblant ces deux faits, nous obtenons la règle suivante:\n",
    "\n",
    "**Règle:** Pour un point arbitraire $(x, y)$, sa réflexion sur l’axe des abscisses est le point $(x, -y)$.\n",
    "\n",
    "**Exemple:** Considérez le point $P = (1, 3)$.\n",
    "Appelons son image $P'$.\n",
    "Alors $P'$ a la même abscisse que $P$, mais sa ordonnée est le négatif de $P$.\n",
    "Cela signifie $P' = (1, -3)$.\n",
    "\n",
    "**Exemple:** Supposons que nous ayons plutôt le point $P = (2, 0)$.\n",
    "Ce point est *sur* l’axe des abscisses.\n",
    "Puisque $-0 = 0$, son image est $P' = (2, 0)$.\n",
    "Si nous avons un point sur l'axe des abscisses et nous éffectuons sa réflexion sur l'axe des abscisses, nous obtenons le même point.\n",
    "Le point est son propre image."
   ]
  },
  {
   "cell_type": "markdown",
   "metadata": {
    "lang": "fr"
   },
   "source": [
    "### Graphiques\n",
    "\n",
    "Dans l'exercice précédent, nous avons éffectué la réflexion de trois points, et par conséquent nous avons également éffectué la réflexion d'un triangle.\n",
    "Nous pouvons éffectuer la réflexion des points, des triangles et de nombreuses autres formes et objets.\n",
    "Nous allons maintenant voir comment éffectuer la réflexion du graphique d'une fonction.\n",
    "\n",
    "Le graphique d'une fonction n'est qu'un groupe de points -\n",
    "tellement de points emballés étroitement que cela ressemble à une seule courbe.\n",
    "Pour éffectuer la réflexion du graphique, il suffit d'éffectuer la réflexion de tous les points!\n",
    "\n",
    "Ci-dessous, en bleu, est le graphique d'une fonction $y = f(x)$ et quelques points de son graphique.\n",
    "L'image de ces points est en rouge.\n",
    "Utilisez le curseur pour voir ce qui se passe lorsque nous prenons et éffectuons la réflexion de plus en plus de points sur le graphique."
   ]
  },
  {
   "cell_type": "code",
   "execution_count": null,
   "metadata": {},
   "outputs": [],
   "source": [
    "%%html\n",
    "\n",
    "<div id=\"ggb-slider1\"></div>\n",
    "\n",
    "<script>\n",
    "  var ggbApp = new GGBApplet({\n",
    "      \"height\": 600,\n",
    "      \"showToolBar\": false,\n",
    "      \"showMenuBar\": false,\n",
    "      \"showAlgebraInput\": false,\n",
    "      \"showResetIcon\": true,\n",
    "      \"enableLabelDrags\": false,\n",
    "      \"enableRightClick\": false,\n",
    "      \"enableShiftDragZoom\": true,\n",
    "      \"useBrowserForJS\": false,\n",
    "      \"filename\": \"geogebra/reflection-slider1.ggb\"\n",
    "  }, 'ggb-slider1');\n",
    "\n",
    "  ggbApp.inject();\n",
    "</script>"
   ]
  },
  {
   "cell_type": "markdown",
   "metadata": {
    "lang": "fr"
   },
   "source": [
    "Si nous éffectuons les réflexions de quelques points, les points rouges ne payent pas de mine,\n",
    "mais quand nous éffectuons les réflexions de plus en plus de points, les points rouges commencent à ressembler à la courbe bleue, mais inversée.\n",
    "C'est la réflexion du graphique sur l'axe des abscisses.\n",
    "Ou plus exactement, si nous avions le temps d'échantillonner et d'éffectuer les réflexions d'une infinité de points, nous aurions la réflexion du graphique.\n",
    "Généralement, il suffira d'échantillonner et d'éffectuer les réflexions de quelques points et de relier les points par une courbe.\n",
    "(Même les programmes informatiques qui tracent des graphiques tracent typiquement plusieurs points et les relient par des lignes droites, mais ils tracent tellement de points que la courbe semblent correcte.)\n",
    "\n",
    "**Exemple:** Éffectuons la réflexions du graphique de $y = \\log_2(x)$ sur l’axe des abscisses.\n",
    "Nous commençons en identifiant quelques points sur le graphique de $y = \\log_2(x)$.\n",
    "Nous savons, par exemple, que $(1,0)$, $(2,1)$, $(4,2)$ et $(8,3)$ sont des points sur le graphique.\n",
    "Leurs images (réflexions) sont respectivement $(1, 0)$, $(2,-1)$, $(4,-2)$ et $(8,-3)$.\n",
    "Ensuite, nous connectons ces points par une courbe."
   ]
  },
  {
   "cell_type": "code",
   "execution_count": null,
   "metadata": {},
   "outputs": [],
   "source": [
    "import matplotlib\n",
    "import numpy as np\n",
    "import matplotlib.pyplot as plt\n",
    "from math import log\n",
    "\n",
    "def draw():\n",
    "    def g(x):\n",
    "        return log(x,2)\n",
    "    f = np.vectorize(g)\n",
    "    xmin, xmax = 0.01, 10\n",
    "    nsamples = 100 #2*(xmax - xmin) - 1\n",
    "    x = np.linspace(xmin, xmax, nsamples)\n",
    "\n",
    "    plt.axhline(color=\"black\", linewidth=1)\n",
    "    plt.axvline(color=\"black\", linewidth=1)\n",
    "    plt.ylim(-5, 5)\n",
    "    plt.plot(x, f(x), label=\"$y = \\log_2(x)$\")\n",
    "    plt.plot(x, -f(x), label=\"Reflection of $y = \\log_2(x)$\", color=\"red\", sketch_params=0.8)\n",
    "\n",
    "    pts = [(1,0), (2,1), (4,2), (8,3), (2,-1), (4,-2), (8,-3)]\n",
    "    fmts = [\"mo\", \"bo\", \"bo\", \"bo\", \"ro\", \"ro\", \"ro\"]\n",
    "    for i in range(0, len(pts)) :\n",
    "        plt.plot(pts[i][0], pts[i][1], fmts[i])\n",
    "        plt.annotate(\"$({0},{1})$\".format(pts[i][0],  pts[i][1]), xy = (pts[i][0],  pts[i][1]), xytext = (4, 4), textcoords = \"offset points\")\n",
    "    \n",
    "    plt.legend(loc='upper center', bbox_to_anchor=(1.45, 0.8))\n",
    "\n",
    "draw()"
   ]
  },
  {
   "cell_type": "markdown",
   "metadata": {
    "lang": "fr"
   },
   "source": [
    "### Les fonctions\n",
    "\n",
    "Nous avons éffectuer les réflexions des points et des graphiques sur l'axe des abscisses.\n",
    "C'étaient deux idées géométriques.\n",
    "Maintenant, nous allons éffectuer les réflexions des fonctions elles-mêmes,\n",
    "et nous commençons par l'observation que la réflexion du graphique $y = \\log_2(x)$ dans le dernier exemple\n",
    "est précisément le graphique de la fonction $y = -\\log_2(x)$.\n",
    "\n",
    "Si nous avons une fonction arbitraire $y = f(x)$,\n",
    "son graphique est l'ensemble des points de la forme $(x, f(x))$.\n",
    "Pour éffectuer les réflexions de ces points sur l'axe des abscisses, nous changeons leurs ordonnées aux négatives de leurs valeurs originales.\n",
    "Ainsi, la réflexion du graphique correspond à tous les points de la forme $(x, -f(x))$.\n",
    "Mais ce n'est que le graphique de la fonction $y = -f(x)$!\n",
    "\n",
    "**Règle:** La réflexion d’une fonction $y = f(x)$ sur l’axe des abscisses est la fonction $y = -f(x)$.\n",
    "\n",
    "**Exemple:** Supposons que nous ayons la fonction $y = x^2$ et nous voulons qu'elle subit une réflexion par rapport à l’axe des abscisses.\n",
    "Tout ce que nous avons à faire est de changer le côté droit de l’équation à négatif.\n",
    "La réflexion est simplement\n",
    "    $$ y = -(x^2) = -x^2. $$\n",
    "\n",
    "**Exemple:** Supposons que nous ayons la fonction $y = \\sin(x) - x$ à la place.\n",
    "Encore une fois, nous changeons simplement le côté droit de l’équation à négatif,\n",
    "mais assurez-vous de changer *tous les* termes et soyez prudent avec les doubles négatifs.\n",
    "Cette fois, la réflexion sur l'axe des abscisses est\n",
    "    $$ y = -(\\sin(x) - x) = -\\sin(x) + x. $$\n",
    "\n",
    "Le graphique interactif ci-dessous vous permet d'entrer une fonction arbitraire $f(x)$ et de voir son graphique et sa réflexion sur l'axe abscisses."
   ]
  },
  {
   "cell_type": "code",
   "execution_count": null,
   "metadata": {
    "scrolled": false
   },
   "outputs": [],
   "source": [
    "%%html\n",
    "\n",
    "<div id=\"ggb-interactive1\"></div>\n",
    "\n",
    "<script>\n",
    "  var ggbApp = new GGBApplet({\n",
    "      \"height\": 600,\n",
    "      \"showToolBar\": false,\n",
    "      \"showMenuBar\": false,\n",
    "      \"showAlgebraInput\": false,\n",
    "      \"showResetIcon\": true,\n",
    "      \"enableLabelDrags\": true,\n",
    "      \"enableShiftDragZoom\": true,\n",
    "      \"enableRightClick\": false,\n",
    "      \"useBrowserForJS\": false,\n",
    "      \"filename\": \"geogebra/reflection-interactive1.ggb\"\n",
    "  }, 'ggb-interactive1');\n",
    "\n",
    "  ggbApp.inject();\n",
    "</script>"
   ]
  },
  {
   "cell_type": "markdown",
   "metadata": {
    "lang": "fr"
   },
   "source": [
    "## Réflexions sur l'axe des ordonnées $y$\n",
    "\n",
    "### Points\n",
    "\n",
    "Maintenant que nous savons comment éffectuer les réflexions des points, des graphiques et des fonctions par rapport à l’axe des abscisses, nous verrons comment éffectuer les réflexions par rapport à l'axe des ordonnées.\n",
    "Géométriquement, l'idée est la même qu'avant.\n",
    "Un point et son image se trouvent sur les côtés opposés de l'axe des ordonnées, et les deux sont à la même distance de l'axe des ordonnées.\n",
    "Le segment entre eux coupe l'axe des ordonnées à angle droit.\n",
    "Puisque l'axe des ordonnées est vertical, ce segment qui le croise est horizontale, l'image (la réflexion) du point doit donc être directement à gauche ou à droite.\n",
    "Par conséquent, le point et son image ont la même ordonnée.\n",
    "\n",
    "Avant de voir la \"règle\" pour éffectuer la réflexion un point sur l'axe des ordonnées, essayez cet exercice pour tester votre intuition et votre compréhension.\n",
    "Cliquez et faites glisser les points $A'$, $B'$ et $C'$ afin qu'ils soient les images sur l'axe des ordonnées de $A$, $B$ et $C$, respectivement."
   ]
  },
  {
   "cell_type": "code",
   "execution_count": null,
   "metadata": {},
   "outputs": [],
   "source": [
    "%%html\n",
    "\n",
    "<div id=\"ggb-exercise2\"></div>\n",
    "\n",
    "<script>\n",
    "  var ggbApp = new GGBApplet({\n",
    "      \"height\": 600,\n",
    "      \"showToolBar\": false,\n",
    "      \"showMenuBar\": false,\n",
    "      \"showAlgebraInput\": false,\n",
    "      \"showResetIcon\": true,\n",
    "      \"enableLabelDrags\": true,\n",
    "      \"enableShiftDragZoom\": true,\n",
    "      \"enableRightClick\": false,\n",
    "      \"useBrowserForJS\": false,\n",
    "      \"filename\": \"geogebra/reflection-exercise2.ggb\"\n",
    "  }, 'ggb-exercise2');\n",
    "\n",
    "  ggbApp.inject();\n",
    "</script>"
   ]
  },
  {
   "cell_type": "markdown",
   "metadata": {
    "lang": "fr"
   },
   "source": [
    "**Règle:** Pour un point arbitraire $(x, y)$, sa réflexion par rapport à l’axe des ordonnées ($y$) est le point $(-x, y)$.\n",
    "\n",
    "**Exemple:** Considérez le point $P = (1, 3)$ et sa réflexion par rapport à l’axe des ordonnées, $P'$.\n",
    "Les points $P$ et $P'$ ont les mêmes ordonnées ($y$), mais leurs abscisses ($x$) sont les négatifs les uns des autres.\n",
    "Donc, $P' = (-1, 3)$.\n",
    "\n",
    "**Exemple:** Supposons que nous ayons plutôt le point $P = (0, 2)$.\n",
    "Ce point est sur l'axe des ordonnées.\n",
    "Puisque $-0 = 0$, son image est $P' = (0, 2)$.\n",
    "Si nous avons un point sur l'axe des ordonnées et que nous éffectuons sa réflexion sur l'axe des ordonnées, nous obtenons le même point."
   ]
  },
  {
   "cell_type": "markdown",
   "metadata": {
    "lang": "fr"
   },
   "source": [
    "### Graphiques\n",
    "\n",
    "Pour éffectuer la réflexion d'un graphique sur l'axe des ordonnées, nous faisons comme avant.\n",
    "En théorie, nous pensons que le graphique se compose de nombreux points, et nous éffectuons la réflexion par rapport à l'axe des ordonnées de chacun de ces points pour obtenir la réflexion du graphique.\n",
    "En pratique, parce que la vie est courte, nous éffectuons les réflexions de quelques points et les relions par une courbe.\n",
    "Plus nous éffectuons les réflexions de points, plus nous pouvons tracer la réflexion du graphique avec précision."
   ]
  },
  {
   "cell_type": "code",
   "execution_count": null,
   "metadata": {},
   "outputs": [],
   "source": [
    "%%html\n",
    "\n",
    "<div id=\"ggb-slider2\"></div>\n",
    "\n",
    "<script>\n",
    "  var ggbApp = new GGBApplet({\n",
    "      \"height\": 600,\n",
    "      \"showToolBar\": false,\n",
    "      \"showMenuBar\": false,\n",
    "      \"showAlgebraInput\": false,\n",
    "      \"showResetIcon\": true,\n",
    "      \"enableLabelDrags\": true,\n",
    "      \"enableShiftDragZoom\": true,\n",
    "      \"enableRightClick\": false,\n",
    "      \"useBrowserForJS\": false,\n",
    "      \"filename\": \"geogebra/reflection-slider2.ggb\"\n",
    "  }, 'ggb-slider2');\n",
    "\n",
    "  ggbApp.inject();\n",
    "</script>"
   ]
  },
  {
   "cell_type": "markdown",
   "metadata": {
    "lang": "fr"
   },
   "source": [
    "### Les fonctions\n",
    "\n",
    "De la même manière que nous avons éffectuer la réflexion de la fonction $y = f(x)$ par rapport à l’axe des abscisses pour obtenir $y = -f(x)$, nous pouvons également éffectuer la réflexion de la fonction par rapport à l'axe des ordonnées.\n",
    "Un point arbitraire sur le graphique de $y = f(x)$ a la forme $(x, f(x))$.\n",
    "En utilisant la règle ci-dessus, la réflexion d'un point arbitraire sur le graphique est de la forme $(-x, f(x))$.\n",
    "Mais $(-x, f(x))$ a la même \"forme\" que $(x, f(-x))$, et les points de *cette forme* constituent le graphique de $y = f(-x)$.\n",
    "\n",
    "**Règle:** La réflexion d'une fonction $y = f(x)$ par rapport à l'axe des ordonnées est $y = f(-x)$.\n",
    "\n",
    "Cela signifie que nous devons simplement remplacer $x$ avec $-x$ partout dans notre fonction.\n",
    "Faisons quelques exemples.\n",
    "Nous avons éffectuer les réflexions des fonctions suivantes par rapport à l'axe des abscisses auparavant.\n",
    "Éffectuons leurs réflexions par rapport à l'axe des ordonnées à la place.\n",
    "\n",
    "**Exemple:** Éffectuons la réflexion de $y = x^2$ par rapport à l’axe des ordonnées.\n",
    "Selon notre règle, nous remplaçons $x$ par $-x$, mais nous devrions faire attention et mettre des parenthèses autour de $-x$, comme ceci: $(-x)$.\n",
    "La réflexion est simplement\n",
    "    $$ y = (-x)^2 = x^2. $$\n",
    "Dans ce cas, la réflexion sur l'axe des ordonnées est identique à la fonction originale.\n",
    "\n",
    "**Exemple:** Éffectuons la réflexion de la fonction $y = \\sin(x) - x$ par rapport à l’axe des ordonnées.\n",
    "Nous remplaçons chaque $x$ avec $-x$ pour obtenir\n",
    "    $$ y = \\sin(-x) - (-x) = \\sin(-x) + x. $$\n",
    "C'est une réponse parfaitement acceptable.\n",
    "Vous avez peut-être appris que $\\sin(-x) = -\\sin(x)$, donc nous puissions aussi réécrire cela comme\n",
    "    $$ y = -\\sin(x) + x $$\n",
    "si nous préférons.\n",
    "Vous remarquerez peut-être que c'est la même réponse que nous avons eue lorsque nous avons éffectuer sa réflexion par rapport à l'axe des abscisses.\n",
    "Peu importe si nous éffectuons la réflexion $y = \\sin(x) - x$ par rapport à l'axe des abscisses ou par rapport à l'axe des ordonnées, nous obtenons le même résultat.\n",
    "\n",
    "Utilisez le graphique interactif ci-dessous pour tracer n'importe quelle fonction avec sa réflexion par rapport à l'axe des ordonnées.\n",
    "Comme d'habitude, la fonction sera en bleu et sa réflexion en rouge."
   ]
  },
  {
   "cell_type": "code",
   "execution_count": null,
   "metadata": {
    "scrolled": true
   },
   "outputs": [],
   "source": [
    "%%html\n",
    "\n",
    "<div id=\"ggb-interactive2\"></div>\n",
    "\n",
    "<script>\n",
    "  var ggbApp = new GGBApplet({\n",
    "      \"height\": 600,\n",
    "      \"showToolBar\": false,\n",
    "      \"showMenuBar\": false,\n",
    "      \"showAlgebraInput\": false,\n",
    "      \"showResetIcon\": true,\n",
    "      \"enableLabelDrags\": true,\n",
    "      \"enableShiftDragZoom\": true,\n",
    "      \"enableRightClick\": false,\n",
    "      \"useBrowserForJS\": false,\n",
    "      \"filename\": \"geogebra/reflection-interactive2.ggb\"\n",
    "  }, 'ggb-interactive2');\n",
    "\n",
    "  ggbApp.inject();\n",
    "</script>"
   ]
  },
  {
   "cell_type": "markdown",
   "metadata": {
    "lang": "fr"
   },
   "source": [
    "## Des réflexions par rapport aux deux axes\n",
    "\n",
    "Si nous éffectuons une réflexion d'un point par rapport à l'axe des abscisses et que nous l'éffectuons une deuxième fois, le point réfléchi deux fois est dans la même position que le point original.\n",
    "La même chose se produit lorsque nous éffectuons une réflexion d'un point deux fois par rapport à l'axe des ordonnées.\n",
    "Mais que se passe-t-il lorsque nous éffectuons une réflexion d'un point par rapport à l'axe des abscisses et par rapport à l'axe des ordonnées?\n",
    "\n",
    "Travaillons avec un exemple.\n",
    "Supposons que nous commençons avec le point $(1, 2)$.\n",
    "Sa réflexion par rapport à l'axe des abscisses est $(-1, 2)$.\n",
    "La réflexion de *cela* par rapport à l'axe des ordonnées est $(-1, -2)$.\n",
    "\n",
    "Et si nous travaillons avec un point arbitraire dont nous ne connaissons pas les coordonnées?\n",
    "Nous commençons avec le point $(x, y)$, puis nous éffectuons sa réflexion par rapport à l'axe des abscisses pour obtenir $(-x, y)$.\n",
    "La réflexion du nouveau point par rapport à l'axe des ordonnées est $(-x, -y)$.\n",
    "\n",
    "Pour éffectuer une réflexion d'un point par rapport à l'axe des abscisses suivi de l'axe des ordonnées, nous changeons simplement le signe de chacune des deux coordonnées du point.\n",
    "Maintenant, vérifiez par vous-même que si nous avons réfléchi $(x, y)$ par rapport aux deux axes dans l’autre ordre -\n",
    "l'axe des ordonnées puis l'axe des abscisses -\n",
    "nous obtenons toujours le point $(-x, -y)$.\n",
    "L'ordre dans lequel nous effectuons les réflexions n'a pas d'importance!\n",
    "\n",
    "Quelque chose d'intéressant se produit lorsque nous regardons ce qui se passe graphiquement.\n",
    "Essayez de jouer avec l'applet suivant.\n",
    "Cliquez et faites glisser le point $P$ en bleu.\n",
    "Le point rouge $P'$ est le résultat de la réflexion de $P$ par rapport aux deux axes."
   ]
  },
  {
   "cell_type": "code",
   "execution_count": null,
   "metadata": {},
   "outputs": [],
   "source": [
    "%%html\n",
    "\n",
    "<div id=\"ggb-point2\"></div>\n",
    "\n",
    "<script>\n",
    "  var ggbApp = new GGBApplet({\n",
    "      \"height\": 400,\n",
    "      \"showToolBar\": false,\n",
    "      \"showMenuBar\": false,\n",
    "      \"showAlgebraInput\": false,\n",
    "      \"showResetIcon\": true,\n",
    "      \"enableLabelDrags\": true,\n",
    "      \"enableShiftDragZoom\": true,\n",
    "      \"enableRightClick\": false,\n",
    "      \"useBrowserForJS\": false,\n",
    "      \"filename\": \"geogebra/reflection-point2.ggb\"\n",
    "  }, 'ggb-point2');\n",
    "\n",
    "  ggbApp.inject();\n",
    "</script>"
   ]
  },
  {
   "cell_type": "markdown",
   "metadata": {
    "lang": "fr"
   },
   "source": [
    "Pouvez-vous voir ce qui se passe?\n",
    "Il y a deux façons de penser à la relation entre $P$ et $P'$ dans cette applet.\n",
    "L’un des moyens est que $P'$ est le résultat d'une rotation de $P$ de 180 degrés autour de l’origine.\n",
    "Une autre façon est que $P'$ est la réflexion de $P$ par rapport à l'origine - un segment de $P$ à $P'$ passe par l'origine et les deux points sont également éloignés de l'origine."
   ]
  },
  {
   "cell_type": "markdown",
   "metadata": {
    "lang": "fr"
   },
   "source": [
    "## Fonctions paires et impaires\n",
    "\n",
    "Les fonctions qui sont leurs propres réflexions sur l'axe des ordonnée ont un nom spécial.\n",
    "On les appelle des fonctions **paires**.\n",
    "Géométriquement, cela signifie que le graphique de la fonction est le même après avoir subi une réflexion par rapport à l'axe des ordonnées.\n",
    "Qu'est-ce que cela signifie algébriquement?\n",
    "Un point arbitraire sur le graphique de la fonction se ressemble à $(x, f(x))$.\n",
    "Lorsque nous le font subir une réflexion par rapport à l'axe des ordonnées, nous obtenons le point $(-x, f(x))$.\n",
    "Mais comme le graphique est sa propre réflexion, il doit être identique au point $(-x, f(-x))$.\n",
    "Si $(-x, f(x))$ et $(-x, f(-x))$ sont le même point, cela signifie que $f(x) = f(-x)$.\n",
    "Une fonction paire est une fonction pour quelle $f(x) = f(-x)$.\n",
    "Quelques exemples de fonctions paires sont\n",
    "* $f(x) = c$, où $c$ est une constante quelconque;\n",
    "* $f(x) = |x|$;\n",
    "* $f(x) = x^2$;\n",
    "* $f(x) = x^a$ où $a$ est un exposant paire; et\n",
    "* $f(x) = \\cos(x)$.\n",
    "Plus tôt dans ce cahier, il y avait un graphique interactif vous permettant de saisir une fonction et voir sa réflexion par rapport à l'axe des ordonnées. Essayez de saisir ces fonctions et notez comment les fonctions et leurs réflexions se chevauchent.\n",
    "\n",
    "Les fonctions qui sont leurs propres rotations de 180 degrés autour de l'origine ont également un nom spécial.\n",
    "On les appelle des fonctions **impaires**.\n",
    "Géométriquement, cela signifie que si on trace le graphique de la fonction et on fait pivoter le graphique 180 degrés autour de l'origine, on obtient la même image.\n",
    "Comme avant, considérons ce que cela signifie algébriquement.\n",
    "Nous commençons avec un point arbitraire sur le graphique de la fonction, $(x, f(x))$.\n",
    "Nous le faisons pivoter 180 degrés (ou de manière équivalent, nous le faisons subir une réflexion par rapport à l'axe des abscisses et ensuite par rapport à l'axe des ordonnées) et nous obtenons le point $(-x, -f(x))$.\n",
    "Mais c'est le même point que $(-x, f(-x))$.\n",
    "Cela signifie que $f(-x) = -f(x)$.\n",
    "Donc, une fonction impaire est une fonction pour laquelle $f(-x) = -f(x)$.\n",
    "Quelques exemples de fonctions impaires sont\n",
    "* $f(x) = 0$;\n",
    "* $f(x) = x$;\n",
    "* $f(x) = x^a$ où $a$ est un exposant impaire; et\n",
    "* $f(x) = \\sin(x)$.\n",
    "\n",
    "Nous n'avons pas de nom spécial pour les fonctions qui sont leurs propres réflexions par rapport à l'axe des abscisses.\n",
    "Pourquoi pas?\n",
    "À part de la fonction $f(x) = 0$, il n'existe pas de fonction qui soit sa propre réflexion sur l’axe des abscisses!\n",
    "Une telle \"fonction\" ne réussis pas le test de la droite verticale.\n",
    "\n",
    "La seule fonction qui est à la fois paire et impaire est $y = 0$.\n",
    "\n",
    "Nous sommes habitués à appeler des entiers paires et impairs.\n",
    "Il est étrange d'appeler des fonctions paires et impaires, mais il y a une relation entre les deux.\n",
    "* Le produit et le quotient de deux fonctions paires sont pairs, tout comme la somme et la différence de deux nombres pairs sont paires.\n",
    "* Le produit et le quotient de deux fonctions impaires sont impairs, tout comme la somme et la différence de deux nombres impairs sont impairs.\n",
    "* Le produit et le quotient d'une fonction paire et une fonction impaire sont impairs, tout comme la somme et la différence d'un nombre pair et un nombre impair sont impairs.\n",
    "Attention, car la somme de deux fonctions impaires est impaire, malgré le fait que la somme de deux nombres impairs est paire."
   ]
  },
  {
   "cell_type": "markdown",
   "metadata": {
    "lang": "fr"
   },
   "source": [
    "## Des réflexions par rapport à la ligne $y = x$\n",
    "\n",
    "### Points\n",
    "\n",
    "La \"règle\" de réflexion par rapport à la ligne $y = x$ n'est pas difficile à utiliser, mais comprendre pourquoi la règle fonctionne est plus difficile à expliquer que pour les deux réflexions précédentes.\n",
    "Disons d'abord la règle:\n",
    "\n",
    "**Règle:** La réflexion d'un point arbitraire $(x,y)$ par rapport à la ligne $y = x$ est le point $(y,x)$.\n",
    "\n",
    "Nous échangeons simplement les coordonnées $x$ et $y$ du point.\n",
    "\n",
    "Essayez l'exercice suivant.\n",
    "Déplacez les points $A'$, $B'$, $C'$ et $D'$ de sorte qu'ils représentent respectivement les réflexions de $A$, $B$, $C$ et $D$."
   ]
  },
  {
   "cell_type": "code",
   "execution_count": null,
   "metadata": {},
   "outputs": [],
   "source": [
    "%%html\n",
    "\n",
    "<div id=\"ggb-exercise3\"></div>\n",
    "\n",
    "<script>\n",
    "  var ggbApp = new GGBApplet({\n",
    "      \"height\": 600,\n",
    "      \"showToolBar\": false,\n",
    "      \"showMenuBar\": false,\n",
    "      \"showAlgebraInput\": false,\n",
    "      \"showResetIcon\": true,\n",
    "      \"enableLabelDrags\": true,\n",
    "      \"enableShiftDragZoom\": true,\n",
    "      \"enableRightClick\": false,\n",
    "      \"useBrowserForJS\": false,\n",
    "      \"filename\": \"geogebra/reflection-exercise3.ggb\"\n",
    "  }, 'ggb-exercise3');\n",
    "\n",
    "  ggbApp.inject();\n",
    "</script>"
   ]
  },
  {
   "cell_type": "markdown",
   "metadata": {
    "lang": "fr"
   },
   "source": [
    "Voici une explication de la raison pour laquelle cette règle fonctionne.\n",
    "\n",
    "Commençons par dessiner une image de la droite $y = x$, un point $P$ et sa réflexion $P'$.\n",
    "Les points $P$ et $P'$ sont aux côtés opposés de la droite $y = x$, et le segment reliant ces points croise $y = x$ à un angle droit.\n",
    "Appelons le point d'intersection $Q$.\n",
    "Les points $P$ et $P'$ sont à la même distance de $Q$.\n",
    "Ceci est notre dessin jusqu'à présent:"
   ]
  },
  {
   "cell_type": "markdown",
   "metadata": {},
   "source": [
    "<img src=\"images/ggb1.png\" width=300 height=300>"
   ]
  },
  {
   "cell_type": "markdown",
   "metadata": {
    "lang": "fr"
   },
   "source": [
    "Tracez un segment de droite à partir de $P$ directement à la gauche jusqu'à ce qu'il croise la droite $y = x$.\n",
    "Tracez un autre segment de droite à partir de $P'$ directement vers le bas jusqu'à ce qu'il croise la droite $y = x$.\n",
    "Ces deux segments de droite et la droite $y = x$ se rencontrent tous au même point.\n",
    "Appelons ce point $R$."
   ]
  },
  {
   "cell_type": "markdown",
   "metadata": {},
   "source": [
    "<img src=\"images/ggb2.png\" width=300 height=300>"
   ]
  },
  {
   "cell_type": "markdown",
   "metadata": {
    "lang": "fr"
   },
   "source": [
    "Puisque le segment de ligne $PR$ est horizontal et que $P'R$ est vertical,\n",
    "alors l'angle $\\angle PRP'$ est un angle droit.\n",
    "Les autres angles $\\angle RPP'$ et $\\angle RP'P$ sont chacun à 45 degrés, ce qui fait le triangle $\\triangle PRP'$ un triangle isocèle.\n",
    "\n",
    "Maintenant, supposons que $P$ a les coordonnées $(a, b)$.\n",
    "Essayons de trouver les coordonnées de $P'$.\n",
    "\n",
    "Le triangle $\\triangle PRP'$ est un triangle iscocèle, donc les longueurs de $\\overline{PR}$ et $\\overline{P'R}$ sont égales.\n",
    "De plus, $R$ et $P$ ont la même ordonnée $y$ (nous avons seulement bougé dans la direction des $x$ pour arriver à $R$) et $R$ et $P'$ ont la même abscisse $x$.\n",
    "Nous avons seulement besoin de déterminer la distance entre $R$ et $P$.\n",
    "Pour passer de $P$ à $P'$, nous soustrayons cette distance de l'abscisse ($x$) et l’ajoutons à l'ordonnée ($y$).\n",
    "\n",
    "Puisque $P = (a, b)$ est en bas à droite de $y = x$, son abscisse ($x$) est plus grande que son ordonnée ($y$), donc $a > b$.\n",
    "Puisque $R$ est sur la droite $y = x$, ses coordonnées $x$ et $y$ sont égales.\n",
    "Mais nous savons que $R$ a la même ordonnée $y$ que $P$, donc $R = (b, b)$.\n",
    "La distance entre $P$ et $R$ est juste la différence entre $a$ et $b$, donc $\\overline{PR} = a - b$.\n",
    "\n",
    "Maintenant\n",
    "\\begin{align*}\n",
    "    P'\n",
    "        &= (a - \\overline{PR}, b + \\overline{PR}) \\\\\n",
    "        &= (a - (a - b), b + (a - b)) \\\\\n",
    "        &= (a - a + b, b + a - b) \\\\\n",
    "        &= (b, a).\n",
    "\\end{align*}\n",
    "\n",
    "Cet argument dépendait du fait que $P$ était en bas à droite de la droite $y = x$.\n",
    "En guise d'exercice, déterminez comment cet argument doit changer si $P$ est placé en haut à gauche.\n",
    "\n",
    "Maintenant, éffectuons une réflexion du graphique d'une fonction par rapport à la droite $y = x$.\n",
    "Comme toujours, nous prennons plusieurs points sur la courbe et les faire subir une réflexion par rapport à la droite $y = x$.\n",
    "Voir ce qui se passe quand on prend de plus en plus de points sur le graphique de $y = x^2$."
   ]
  },
  {
   "cell_type": "code",
   "execution_count": null,
   "metadata": {},
   "outputs": [],
   "source": [
    "%%html\n",
    "\n",
    "<div id=\"ggb-slider3\"></div>\n",
    "\n",
    "<script>\n",
    "  var ggbApp = new GGBApplet({\n",
    "      \"height\": 600,\n",
    "      \"showToolBar\": false,\n",
    "      \"showMenuBar\": false,\n",
    "      \"showAlgebraInput\": false,\n",
    "      \"showResetIcon\": true,\n",
    "      \"enableLabelDrags\": true,\n",
    "      \"enableShiftDragZoom\": true,\n",
    "      \"enableRightClick\": false,\n",
    "      \"useBrowserForJS\": false,\n",
    "      \"filename\": \"geogebra/reflection-slider3.ggb\"\n",
    "  }, 'ggb-slider3');\n",
    "\n",
    "  ggbApp.inject();\n",
    "</script>"
   ]
  },
  {
   "cell_type": "markdown",
   "metadata": {
    "lang": "fr"
   },
   "source": [
    "Nous avons commencé avec une parabole qui s'ouvre vers le haut.\n",
    "Sa réflexion est une parabole qui s'ouvre vers la droite.\n",
    "Cela a une implication importante:\n",
    "*La réflexion d’une fonction par rapport à $y = x$ peut ne pas réussir le test de la droite verticale!*\n",
    "\n",
    "Gardez cela à l'esprit pendant que nous voyons comment éffectuer la réflexion d'une fonction dans $y = x$.\n",
    "Les points sur le graphique d'une fonction arbitraire $y = f(x)$ ont la forme $(x, f(x))$.\n",
    "Leurs réflexions ont la forme $(f(x), x)$, mais c'est la même \"forme\" que $(f(y), y)$.\n",
    "Les points de cette forme ne sont que les points du graphique de $x = f(y)$.\n",
    "\n",
    "**Règle:** La réflexion d’une fonction $y = f(x)$ par rapport à la droite $y = x$ est la fonction $x = f(y)$.\n",
    "\n",
    "Cette règle nous dit que nous avons seulement besoin d'échanger les $x$ et $y$ dans notre fonction pour obtenir sa réflexion par rapport à $y = x$.\n",
    "\n",
    "**Exemple:** Éffectuons la réflexion de la fonction $y = x^2$ par rapport à la droite $y = x$.\n",
    "Selon notre règle, nous échangeons simplement les $x$ et les $y$.\n",
    "Donc la réflexion est\n",
    "    $$ x = y^2. $$\n",
    "Le problème est résolu à ce stade, mais supposons que nous essayions de résoudre l'équation pour $y$.\n",
    "Nous obtenons soit\n",
    "    $$ y = \\sqrt x $$\n",
    "ou\n",
    "    $$ y = -\\sqrt x. $$\n",
    "Comment les graphiques de $x = y^2$, $y = \\sqrt x$ et $y = -\\sqrt x$ se comparent-ils?\n",
    "Le graphique de $x = y^2$ est une parabole horizontale et ne réussit pas le test de la droite verticale.\n",
    "Le graphique de $y = \\sqrt x$ est seulement la moitié supérieure de cette parabole et donc <*> réussit* le test de la droite verticale. Le graphique de $y = -\\sqrt x$ est la moitié inférieure de la parabole et réussit également le test de la droite verticale.\n",
    "**Exemple:** Éffectuons maintenant la réflexion de la droite $y = \\frac 1 2 x + 1$ par rapport à la droite $y = x$.\n",
    "Notre règle dit que nous devons simplement échanger les $x$ et les $y$; nous obtenons donc\n",
    "    $$ x = \\frac 1 2 y + 1. $$\n",
    "Encore une fois, le problème est résolu à ce stade, mais essayons de résoudre l'équation pour $y$:\n",
    "    $$ y = 2 x - 2. $$\n",
    "La réflexion de la ligne $y = \\frac 1 2 x + 1$ par rapport à la droite $y = x$ est la droite $y = 2 x - 2$.\n",
    "C'est le cas d'une fonction dont la réflexion réussir effectivement le test de la droite verticale et peut être écrit sous la forme $y = f(x)$.\n",
    "\n",
    "Utilisez le graphique interactif ci-dessous pour tracer les fonctions et leurs réflexions par rapport à $y = x$."
   ]
  },
  {
   "cell_type": "code",
   "execution_count": null,
   "metadata": {},
   "outputs": [],
   "source": [
    "%%html\n",
    "\n",
    "<div id=\"ggb-interactive3\"></div>\n",
    "\n",
    "<script>\n",
    "  var ggbApp = new GGBApplet({\n",
    "      \"height\": 600,\n",
    "      \"showToolBar\": false,\n",
    "      \"showMenuBar\": false,\n",
    "      \"showAlgebraInput\": false,\n",
    "      \"showResetIcon\": true,\n",
    "      \"enableLabelDrags\": true,\n",
    "      \"enableShiftDragZoom\": true,\n",
    "      \"enableRightClick\": false,\n",
    "      \"useBrowserForJS\": false,\n",
    "      \"filename\": \"geogebra/reflection-interactive3.ggb\"\n",
    "  }, 'ggb-interactive3');\n",
    "\n",
    "  ggbApp.inject();\n",
    "</script>"
   ]
  },
  {
   "cell_type": "markdown",
   "metadata": {
    "lang": "fr"
   },
   "source": [
    "## Des réflexions combinées avec des opérations de fonction\n",
    "\n",
    "On pourrait nous demander d'éffectuer une réflexion d'une fonction après avoir effectué certaines opérations de fonction.\n",
    "Par exemple, on pourrait nous demander d’ajouter deux fonctions et de les faire subir une réflexion par rapport à l’axe des abscisses, ou d'éffectuer une réflexion de la composition de deux fonctions par rapport à l’axe des ordonnées.\n",
    "Eh bien, la somme de deux fonctions, par exemple, est une fonction et nous savons comment éffectuer une réflexion des fonctions maintenant. Nous devrions donc pouvoir le faire.\n",
    "\n",
    "**Problème:**\n",
    "Éffectue une réflexion de $f(x) + g(x)$ par rapport à l'axe des abscisses, où\n",
    "    $$ f(x) = x^2 + 1 \\text{ et } g(x) = x^3 + 1. $$\n",
    "\n",
    "**Solution:**\n",
    "Pour ce faire, ajoutons $f(x)$ et $g(x)$ et appelons leur somme $h(x)$. Alors\n",
    "\\begin{align*}\n",
    "    h(x)\n",
    "        &= f(x) + g(x) \\\\\n",
    "        &= (x^2 + 1) + (x^3 + 1) \\\\\n",
    "        &= x^3 + x^2 + 2.\n",
    "\\end{align*}\n",
    "Il ne nous reste plus qu'à éffectuer la réflexion de $h(x)$ par rapport à l'axe des abscisses.\n",
    "Sa réflexion est $y = -h(x)$, donc\n",
    "\\begin{align*}\n",
    "    y\n",
    "        &= -h(x) \\\\\n",
    "        &= -(x^3 + x^2 + 2) \\\\\n",
    "        &= -x^3 - x^2 - 2.\n",
    "\\end{align*}\n",
    "\n",
    "**Problème:**\n",
    "Éffectue une réflexion de $f(g(x))$ par rapport à l'axe des ordonnées, où\n",
    "    $$ f(x) = \\sin(x) \\text{ et } g(x) = x^2. $$\n",
    "\n",
    "**Solution:**\n",
    "Comme avant, éffectuons la composition de $f(x)$ et $g(x)$ et appelons leur fonction composée $h(x)$. Alors\n",
    "\\begin{align*}\n",
    "    h(x)\n",
    "        &= f(g(x)) \\\\\n",
    "        &= f(x^2) \\\\\n",
    "        &= \\sin(x^2).\n",
    "\\end{align*}\n",
    "Maintenant, nous éffectuons la réflexion de $h(x)$ par rapport à l'axe des ordonnées.\n",
    "La réflexion de $h(x)$ est $y = h(-x)$, donc\n",
    "\\begin{align*}\n",
    "    y\n",
    "        &= h(-x) \\\\\n",
    "        &= \\sin((-x)^2) \\\\\n",
    "        &= \\sin(x^2).\n",
    "\\end{align*}"
   ]
  },
  {
   "cell_type": "markdown",
   "metadata": {
    "lang": "fr"
   },
   "source": [
    "## Des réflexions combinées avec des translations\n",
    "\n",
    "Nous pouvons appliquer la même idée ci-dessus pour éffectuer les réflexions des translations de graphiques.\n",
    "\n",
    "**Problème:**\n",
    "Déplace la fonction $y = f(x)$ trois unités à la gauche, puis la faire subir une réflexion par rapport à l'axe des ordonnées,\n",
    "où $y = |2x|$.\n",
    "\n",
    "**Solution:**\n",
    "Étiquetons par $g(x)$ la translation de $f(x)$ de trois unités à la gauche.\n",
    "Ensuite, il suffit d'éffectuer la réflexion de $g(x)$ par rapport à l'axe des ordonnées.\n",
    "Alors\n",
    "\\begin{align*}\n",
    "    g(x)\n",
    "        &= f(x+3) \\\\\n",
    "        &= |2(x+3)| \\\\\n",
    "        &= |2x + 6|.\n",
    "\\end{align*}\n",
    "Sa réflexion par rapport à l'axe des ordonnées est\n",
    "\\begin{align*}\n",
    "    y\n",
    "        &= g(-x) \\\\\n",
    "        &= |2(-x) + 6| \\\\\n",
    "        &= |-2x + 6|.\n",
    "\\end{align*}"
   ]
  },
  {
   "cell_type": "markdown",
   "metadata": {
    "lang": "fr"
   },
   "source": [
    "## Conclusion\n",
    "\n",
    "Dans ce cahier, nous avons vu comment éffectuer des réflexions par rapport à l'axe des abscisses, l'axe des ordonnées, la droite $y = x$ et comment combiner des réflexions.\n",
    "Nous avons également fait la distinction entre la réflexion d'un point, la réflexion du graphique d'une fonction et la réflexion de la fonction elle-même.\n",
    "Les réflexions des points et des graphiques sont des idées géométriques; les réflexions des fonctions concernent la manipulation des équations.\n",
    "\n",
    "Les études des statistiques et des sciences dépendent fortement des compétences acquises dans les cours de mathématiques ultérieurs, en particulier les cours de calcul.\n",
    "On passe beaucoup de temps à analyser les fonctions pendant des cours de calcul et, pour ce faire, il est généralement utile de se faire une idée claire de la fonction analysée.\n",
    "Comprendre les réflexions des graphiques et des fonctions est une étape vers la formation d'une image autant claire.\n",
    "Par exemple, vous pouvez déjà savoir à quoi ressemble le graphique de $y = 10^x$,\n",
    "mais en utilisant les techniques établis dans ce cahier,\n",
    "vous pouvez également dire à quoi ressemblent $y = -10^x$, $y = 10^{-x}$, $y = -10^{-x}$ et $x = 10^y$.\n",
    "\n",
    "Reconnaître quand une fonction est \"paire\" ou \"impaire\" a également ses utilisations.\n",
    "Une question typique dans une cours de calcul est de trouver l'aire sous une courbe et au-dessus de l'axe des abscisses.\n",
    "Si la courbe est donnée par une fonction paire, l'aire située à droite de l'axe des ordonnées est la même que celle située à gauche.\n",
    "Cela signifie que nous pouvons nous contenter de ne calculer que la moitié de l'aire et de doubler ensuite le résultat.\n",
    "Doubler un nombre est plus facile que la plupart des choses en maths, donc cela peut représenter un gain de temps."
   ]
  },
  {
   "cell_type": "markdown",
   "metadata": {
    "lang": "fr"
   },
   "source": [
    "## Des exercices\n",
    "\n",
    "* Tracez le point $(1, 2)$ ainsi que ses réflexions par rapport à l'axe des abscisses, l'axe des ordonnées, les deux axes et la droite $y = x$.\n",
    "* Tracez le graphique de la fonction $y = x^2 - 2x$. Tracez sa réflexion par rapport à l'axe des abscisses et l'axe des ordonnées. Quelles sont les équations de ces réflexions?\n",
    "* Tracez le graphique de la fonction $y = e^x$. Tracez sa réflexion par rapport à la droite $y = x$. La réflexion de la fonction réussit-elle le test de la droite verticale? Quelle est l'équation de sa réflexion (sous la forme $x = f(y)$ et sous la forme $y = f(x)$)?"
   ]
  },
  {
   "cell_type": "markdown",
   "metadata": {},
   "source": [
    "[![Callysto.ca License](https://github.com/callysto/curriculum-notebooks/blob/master/callysto-notebook-banner-bottom.jpg?raw=true)](https://github.com/callysto/curriculum-notebooks/blob/master/LICENSE.md)"
   ]
  }
 ],
 "metadata": {
  "kernelspec": {
   "display_name": "Python 3",
   "language": "python",
   "name": "python3"
  },
  "language_info": {
   "codemirror_mode": {
    "name": "ipython",
    "version": 3
   },
   "file_extension": ".py",
   "mimetype": "text/x-python",
   "name": "python",
   "nbconvert_exporter": "python",
   "pygments_lexer": "ipython3",
   "version": "3.7.3"
  },
  "nbTranslate": {
   "displayLangs": [
    "*"
   ],
   "hotkey": "alt-t",
   "langInMainMenu": true,
   "sourceLang": "en",
   "targetLang": "fr",
   "useGoogleTranslate": true
  }
 },
 "nbformat": 4,
 "nbformat_minor": 2
}
