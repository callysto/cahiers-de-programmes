{
 "cells": [
  {
   "cell_type": "markdown",
   "metadata": {},
   "source": [
    "![Callysto.ca Banner](https://github.com/callysto/curriculum-notebooks/blob/master/callysto-notebook-banner-top.jpg?raw=true)\n",
    "\n",
    "<a href=\"https://hub.callysto.ca/jupyter/hub/user-redirect/git-pull?repo=https%3A%2F%2Fgithub.com%2Fcallysto%2Fcurriculum-notebooks&branch=master&subPath=Mathematics/TippingPointJobs/tipping-point-jobs.ipynb&depth=1\" target=\"_parent\"><img src=\"https://raw.githubusercontent.com/callysto/cahiers-de-programmes/master/bouton-callysto.svg?sanitize=true\" width=\"123\" height=\"24\" alt=\"Open in Callysto\"/></a>"
   ]
  },
  {
   "cell_type": "markdown",
   "metadata": {},
   "source": [
    "# Le point de bascule - quel emploi paie le mieux?"
   ]
  },
  {
   "cell_type": "markdown",
   "metadata": {},
   "source": [
    "## Félicitation!\n",
    "\n",
    "Alors, vous avez trouvé un nouveau travail... oh, attendez, vous avez deux offres d'emploi!?! Félicitations encore une fois!\n",
    "\n",
    "Voyons les deux entreprises qui offrent le travail :"
   ]
  },
  {
   "cell_type": "markdown",
   "metadata": {},
   "source": [
    "Entreprise 1            |  Entreprise 2\n",
    ":-------------------------:|:-------------------------:\n",
    "![](images/Acme.png)  |  ![](images/Bigby.png)"
   ]
  },
  {
   "cell_type": "markdown",
   "metadata": {},
   "source": [
    "Les entreprises **Acme** et **Bigby**, qui sont des entreprises de fournitures électronique, vous offrent une position de vente.\n",
    "\n",
    "**Quel emploi devriez-vous choisir?** Voyons combien chaque emploi vous paie.\n",
    "\n",
    "1. Acme offre un salaire de base de 1200 $\\$$ par mois, ainsi qu'une commission de 3 \\% pour chaque vente de plus de 1000 $\\$$. \n",
    "2. Bigby offre un salaire de base de 250 $\\$$ par mois, ainsi qu'une commission de 18 \\% pour chaque vente.\n",
    " \n",
    " \n",
    "**Votre tâche:** Déterminez quel emploi vous paie le mieux."
   ]
  },
  {
   "cell_type": "markdown",
   "metadata": {},
   "source": [
    "**Besoin d'un indice?**\n",
    "\n",
    "Il est clair que votre salaire est déterminé par la quantité de ventes de chaque mois.\n",
    "\n",
    "Vous pouvez considérer des différents quantités des ventes et calculer combien vous allez recevoir dans les deux emplois avec les mêmes quantités des ventes. \n",
    "\n",
    "Ce cahier de Jupyter peut interpréter des opérations mathématiques de base. Alors, nous pouvons taper les formules de salaire. \n",
    "\n",
    "Acme paie un salaire de base de 1200 $\\$$ ainsi que 3 \\% pour les ventes. Nous pouvons écrire cette formule comme suit\n",
    "$$ Acme\\ salaire = 1200 + .03*(ventes-1000). $$\n",
    "\n",
    "En même temps, Bigby paie un salaire de base de 250 $\\$$  ainsi que 18 \\% pour les ventes, Nous pouvons écrire cette formule comme suit\n",
    "$$ Bigby\\ salaire = 250 + .18*ventes.$$"
   ]
  },
  {
   "cell_type": "markdown",
   "metadata": {},
   "source": [
    "## Les calculs avec Python\n",
    "\n",
    "Considérer l'exemple ci-dessous.\n",
    "\n",
    "Nous commençons notre calcul sans aucune vente. Vous pouvez le faire dans votre tête, mais essayons-le sur Python. "
   ]
  },
  {
   "cell_type": "code",
   "execution_count": null,
   "metadata": {},
   "outputs": [],
   "source": [
    "## pour zéro vente\n",
    "1200 + 0, 250 + 0"
   ]
  },
  {
   "cell_type": "markdown",
   "metadata": {},
   "source": [
    "Le calcul ci-dessus nous dit que pour zéro vente, Acme paie 1200 $\\$$ et Bigby paie 250 $\\$$. Alors, Acme paie mieux dans ce cas.\n",
    "\n",
    "Maintenant, nous essayons des ventes de 2000 $\\$$ "
   ]
  },
  {
   "cell_type": "code",
   "execution_count": null,
   "metadata": {},
   "outputs": [],
   "source": [
    "## pour 2000 dollars de ventes\n",
    "1200 + .03*(2000-1000), 250 + .18*2000"
   ]
  },
  {
   "cell_type": "markdown",
   "metadata": {},
   "source": [
    "C'est-à-dire que pour 2000 $\\$$ de ventes, Acme paie 1230 $\\$$ et Bigby paie 610 $\\$$. Alors, Acme paie mieux dans ce cas aussi.\n",
    "\n",
    "Maintenant nous serons plus ambitieux. Combien sera votre salaire si vous avez des ventes de 10.000 $\\$$?"
   ]
  },
  {
   "cell_type": "code",
   "execution_count": null,
   "metadata": {},
   "outputs": [],
   "source": [
    "## pour 10000 dollars de ventes\n",
    "1200 + .03*(10000-1000), 250 + .18*10000"
   ]
  },
  {
   "cell_type": "markdown",
   "metadata": {},
   "source": [
    "Quand nous avons 10.000 $\\$$ de ventes, Acme paie 1470 $\\$$ et Bigby paie 2050 $\\$$. Alors cette fois, Bigby paie mieux! "
   ]
  },
  {
   "cell_type": "markdown",
   "metadata": {},
   "source": [
    "## Comparaison graphique\n",
    "\n",
    "Il semble que Bigby paie mieux que Acme quand vos ventes sont assez élevées. \n",
    "\n",
    "Nous allons tracer des courbes pour montrer ces tendances. Nous pouvons utiliser Python pour faire un graphique rapide avec quelques lignes de code comme suit.\n",
    "\n",
    "\n",
    "Premièrement, nous chargeons quelques paquet logiciel pour tracer comme indiqué dans les trois lignes suivantes."
   ]
  },
  {
   "cell_type": "code",
   "execution_count": null,
   "metadata": {},
   "outputs": [],
   "source": [
    "from numpy import linspace, maximum\n",
    "from ipywidgets import interact\n",
    "import plotly.graph_objects as go"
   ]
  },
  {
   "cell_type": "markdown",
   "metadata": {},
   "source": [
    "Maintenant nous définissons quelques variables pour les ventes et le salaire des entreprises. Puis, nous traçons les données dans un diagramme de dispersion. "
   ]
  },
  {
   "cell_type": "code",
   "execution_count": null,
   "metadata": {},
   "outputs": [],
   "source": [
    "ventes = linspace(0,10000)\n",
    "bigby = 250 + .18*ventes\n",
    "acme = 1200 + .03*maximum(ventes-1000,0)\n",
    "go.Figure(go.Scatter(x=ventes, y=acme, name='Acme')).add_trace(go.Scatter(x=ventes,y=bigby,name=\"Bigby\"))"
   ]
  },
  {
   "cell_type": "markdown",
   "metadata": {},
   "source": [
    "### Des commentaires sur le code\n",
    "\n",
    "La variable **ventes** est une liste de valeurs possibles, de 0 à 10.000, qui est mis en place en utilisant la fonction de **linspace**.\n",
    "\n",
    "La variable **bigby** est la même formule que celle utilisée ci-dessus qui ajoute 18 \\% des ventes au salaire de base de 250 $\\$$.\n",
    "\n",
    "La variable **acme** est un peu plus compliquée. Nous utilisons la fonction de **maximum** pour nous assurer que notre commission s'applique seulment aux ventes qui dépassent 1000 $\\$$.\n",
    "\n",
    "La commande **go.Figure** crée un diagramme de dispersion avec les données de **Acme**, qui est superposé à un second tracé des données de **Bigby**.\n",
    "\n",
    "Dans ce diagramme, vous pouvez faire une panoramique ou un zoom sur les lignes pour examiner les données plus directement. "
   ]
  },
  {
   "cell_type": "markdown",
   "metadata": {},
   "source": [
    "## Le point de bascule\n",
    "\n",
    "Les calculs et les graphiques ci-dessus nous montrent clairement que, éventuellement, Bigby paie plus que Acme dès que les ventes sont assez élevées. \n",
    "\n",
    "Le **point de bascule** est le point où les ventes sont assez grandes que Bigby paie le plus.\n",
    "\n",
    "Comment trouvons-nous ce point de bascule?\n",
    "\n",
    "Une façon de le trouver est d'utiliser Python tout simplement. Entrez une valeur pour **ventes** dans le code ci-dessous en remplaçant le nombre 4000 par un nombre de votre choix. Essayer de trouver le nombre où les deux salaire sont égaux.\n"
   ]
  },
  {
   "cell_type": "code",
   "execution_count": null,
   "metadata": {},
   "outputs": [],
   "source": [
    "ventes = 4000\n",
    "1200 + .03*(ventes-1000), 250 + .18*ventes"
   ]
  },
  {
   "cell_type": "markdown",
   "metadata": {},
   "source": [
    "✏️ **Exercice:** Double-cliquez sur cette cellule et entrez les valeurs des **ventes** que vous avez trouvées où le salaire est égal pour les deux entreprise. "
   ]
  },
  {
   "cell_type": "markdown",
   "metadata": {},
   "source": [
    "## Le point de bascule avec des outils interactifs\n",
    "Python vous permet de faire ce calcul automatiquement. Tapez dans la case ci-dessous pour computer le salaire de Acme et de Bigby. Essayez encore de trouver la valeur de **ventes** où les deux salaires sont égaux. **Une note**, Les expressions suivantes utilisent des fonctions lambda de Python et des widgets interactifs de Jupyter; Essayez ces liens pour en apprendre davantage sur [les fonctions de lambda](https://realpython.com/python-lambda/) et [les widgets](https://ipywidgets.readthedocs.io/en/latest/examples/Using%20Interact.html)."
   ]
  },
  {
   "cell_type": "code",
   "execution_count": null,
   "metadata": {},
   "outputs": [],
   "source": [
    "interact(lambda ventes: [1200+.03*(float(ventes)-1000),250+.18*float(ventes)],ventes='4000');"
   ]
  },
  {
   "cell_type": "markdown",
   "metadata": {},
   "source": [
    "Vous pouvez utiliser la barre de défilement dans Python pour changer les ventes, comme suit:\n",
    "\n",
    "Encore une fois, essayez de trouver le point où les deux entreprises ont le même salaire."
   ]
  },
  {
   "cell_type": "code",
   "execution_count": null,
   "metadata": {},
   "outputs": [],
   "source": [
    "interact(lambda ventes: [1200+.03*(ventes-1000),250+.18*ventes],ventes=(6000,7000));"
   ]
  },
  {
   "cell_type": "markdown",
   "metadata": {},
   "source": [
    "✏️ **Exercice:** Double-cliquez sur cette cellule et entrez les valeurs des **ventes** que vous avez trouvées où le salaire est égal pour les deux entreprise. "
   ]
  },
  {
   "cell_type": "markdown",
   "metadata": {},
   "source": [
    "## Le point de bascule par l'algèbra\n",
    "\n",
    "Et une dernière solution : mettez les deux formules de salaire à égalité, et résolvez **ventes**.\n",
    "    \n",
    "$$ 1200 + .03\\times (ventes - 1000) = 250 + .18 \\times ventes.$$\n",
    "    \n",
    "Qu'est-ce que vous avez trouvé pour **ventes**?\n",
    "\n",
    "Si vous préférez **résoudre pour x**, essayez cette formule :\n",
    "\n",
    "$$ 1200 + .03(x - 1000) = 250 + .18  x.$$\n",
    "\n",
    "La solution pour **x** est la valeur en dollars des ventes où Bigby et Acme vous paient la même chose. Plus de ventes, et Bigby paie plus.\n",
    "\n"
   ]
  },
  {
   "cell_type": "markdown",
   "metadata": {},
   "source": [
    "✏️ **Exercice:** Double-cliquez sur cette cellule et entrez votre réponse pour **x** qui résout cette équation.\n",
    "\n"
   ]
  },
  {
   "cell_type": "markdown",
   "metadata": {},
   "source": [
    "## Le salaire minimum\n",
    "\n",
    "Le salaire minimum est le salaire le plus bas qu'une entreprise puisse vous payer, par heure, tout en respectant la loi. \n",
    "\n",
    "**Exercice:** Combien devez-vous vendre pour recevoir au moins autant qu'un salaire minimum ?\n",
    "\n",
    "C'est une question difficile et importante à résoudre avant d'accepter le nouvel emploi. vous devez considérer:\n",
    "- Quel est le salaire minimum dans votre région? \n",
    "- Combien d'heures travaillez-vous typiquement par an ?\n",
    "\n",
    "Par exemple, en Alberta, le salaire minimun est de 15 $\\$$ l'heure. La majorité des gens travaillent environ 40 heures par semaine pendant 50 semaines par an, ce qui représente 2000 heures par an. \n",
    "\n",
    "Cela représente un salaire annuel de 30 000 $\\$$ par an, ou 2 500 $\\$$ par mois.\n",
    "\n",
    "$$ 2,500 = 30,000 \\div 12.$$"
   ]
  },
  {
   "cell_type": "markdown",
   "metadata": {},
   "source": [
    "Le travail chez Bigby vous permet de gagner plus d'argent, alors nous allons découvrir combien de dollars de ventes chez Bigby sont nécessaires pour gagner le même salaire que le salaire minimum. \n",
    "\n",
    "En se rappelant que nos formules ci-dessus sont pour un salaire mensuel, nous résolvons :\n",
    "$$ 2,500 = 250 + .18x.$$\n",
    "\n",
    "**Exercice:** Que trouvez-vous pour la valeur de **x**?"
   ]
  },
  {
   "cell_type": "code",
   "execution_count": null,
   "metadata": {},
   "outputs": [],
   "source": [
    "## ✏️ Vouz pouvez utiliser cette zone pour calculer la réponse en Python. Résolvez x dans l'équation ci-dessus. \n",
    "\n"
   ]
  },
  {
   "cell_type": "markdown",
   "metadata": {},
   "source": [
    "## évaluation de la faisabilité\n",
    "\n",
    "Vous avez trouvé que $x$ est plus de $\\$$10.000 par mois. C'est-à-dire que vouz devrez vendre plus de cent vingt mille dollars d'électronique chaque année juste pour gagner le salaire minimum.\n",
    "\n",
    "Cela vous semble-t-il beaucoup à vendre ?\n",
    "\n",
    "**Exercice:** Combien de ventes **par an** faut-il exactement pour gagner le salaire minimum par an en Alberta? "
   ]
  },
  {
   "cell_type": "code",
   "execution_count": null,
   "metadata": {},
   "outputs": [],
   "source": [
    "## ✏️ Utiliser cette zone pour calculer la réponse en Python. \n",
    "## Prendre la réponse x du dernier exercice, et convertir les ventes mensuelles en ventes annuelles.\n",
    "\n"
   ]
  },
  {
   "cell_type": "markdown",
   "metadata": {},
   "source": [
    "## Travailler dur chez Acme\n",
    "\n",
    "Il semble évident qu'Acme paie beaucoup moins que Bigby lorsque les ventes sont assez grandes. Nous allons le vérifier dans cet exercice.\n",
    "\n",
    "**Exercice:** En suivant les calculs ci-dessus, combien de dollars de ventes sont nécessaires chez Acme pour correspondre au salaire minimum mensuel de 2500 $\\$$ ?\n",
    "\n",
    "**Besoin d'un indice?** Essayer de résoudre cette équation pour **x** (et expliquez porquoi c'est celle que vouz voulez trouver):\n",
    "$$ 2,500 = 1200 + .03(x-1000).$$"
   ]
  },
  {
   "cell_type": "code",
   "execution_count": null,
   "metadata": {},
   "outputs": [],
   "source": [
    "## ✏️ Utiliser cette zone pour calculer votre réponse en Python. \n"
   ]
  },
  {
   "cell_type": "markdown",
   "metadata": {},
   "source": [
    "**Exercice:** Compte tenu de vos réponses, combien de ventes supplémentaires avez-vous besoin chez Acme pour atteindre le salaire minimum mensuel, par rapport à Bigby ? (Il semble que Bigby soit une bonne option maintenant !)"
   ]
  },
  {
   "cell_type": "code",
   "execution_count": null,
   "metadata": {},
   "outputs": [],
   "source": [
    "## ✏️ Utiliser cette zone pour calculer la réponse en Python. \n",
    "\n"
   ]
  },
  {
   "cell_type": "markdown",
   "metadata": {
    "slideshow": {
     "slide_type": "slide"
    }
   },
   "source": [
    "## Une autre province.\n",
    "\n",
    "Quel est le salaire minimum dans votre province ? (Vous pouvez le chercher sur l'internet.) Par exemple, en Saskatchewan c'est 11 $\\$$ l'heure et en Ontario c'est 12 $\\$$ l'heure.  \n",
    "\n",
    "**Exercice:** \n",
    "- En imitant les calculs ci-dessus, quel est le salaire minimum mensuel dans votre province ?\n",
    "- Combien de produits devez-vous vendre chaque mois chez Bigby pour obtenir le salaire minimum mensuel? "
   ]
  },
  {
   "cell_type": "code",
   "execution_count": null,
   "metadata": {},
   "outputs": [],
   "source": [
    "## ✏️ Utiliser cette zone pour calculer la réponse en Python. \n",
    "\n"
   ]
  },
  {
   "cell_type": "markdown",
   "metadata": {},
   "source": [
    "## Résumé\n",
    "\n",
    "- Nous avons appris que les emplois différents peuvent avoir des salaires différents.\n",
    "- En créant des formules de salaire, nous pouvons déterminer quel emploi paie le mieux.\n",
    "- Nous pouvons comparer les salaires en utilisants des calculs individuels, en traçant les données ou en utilisant l'algèbre.\n",
    "- Connaître le salaire minimum de votre province vous donne un point de comparaison et peut vous aider à viser plus haut."
   ]
  },
  {
   "cell_type": "markdown",
   "metadata": {},
   "source": [
    "[![Callysto.ca License](https://github.com/callysto/curriculum-notebooks/blob/master/callysto-notebook-banner-bottom.jpg?raw=true)](https://github.com/callysto/curriculum-notebooks/blob/master/LICENSE.md)"
   ]
  }
 ],
 "metadata": {
  "interpreter": {
   "hash": "d1ca6d17674200220921376aaeb3d36cffe15ecab2470a9a5e7a456cdbf61425"
  },
  "kernelspec": {
   "display_name": "Python 3.10.1 64-bit",
   "language": "python",
   "name": "python3"
  },
  "language_info": {
   "codemirror_mode": {
    "name": "ipython",
    "version": 3
   },
   "file_extension": ".py",
   "mimetype": "text/x-python",
   "name": "python",
   "nbconvert_exporter": "python",
   "pygments_lexer": "ipython3",
   "version": "3.10.1"
  }
 },
 "nbformat": 4,
 "nbformat_minor": 2
}
