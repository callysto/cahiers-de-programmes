{
 "cells": [
  {
   "cell_type": "markdown",
   "metadata": {},
   "source": [
    "![Callysto.ca Banner](https://github.com/callysto/curriculum-notebooks/blob/master/callysto-notebook-banner-top.jpg?raw=true)\n",
    "\n",
    "<a href=\"https://hub.callysto.ca/jupyter/hub/user-redirect/git-pull?repo=https%3A%2F%2Fgithub.com%2Fcallysto%2Fcahiers-de-programmes&branch=master&urlpath=notebooks/cahiers-de-programmes/Math%C3%A9matiques/introduction-aux-fonctions-math%C3%A9matiques.ipynb&depth=1\" target=\"_parent\"><img src=\"https://raw.githubusercontent.com/callysto/cahiers-de-programmes/master/bouton-callysto.svg?sanitize=true\" width=\"123\" height=\"24\" alt=\"Open in Callysto\"/></a>"
   ]
  },
  {
   "cell_type": "markdown",
   "metadata": {},
   "source": [
    "## Une introduction aux fonctions en utilisant Python\n",
    "\n",
    "En mathématiques, ainsi qu'en programmation, une fonction est une opération qui prend une entrée et retourner une sortie.\n",
    "\n",
    "Par exemple, nous pourrions avoir une fonction qui prend un numéro d’entrée et ajoute 2 à celui-ci.\n",
    "\n",
    "Cliquez sur la cellule de code suivante, puis cliquez sur le bouton `▶Run` pour exécuter le code."
   ]
  },
  {
   "cell_type": "code",
   "execution_count": null,
   "metadata": {},
   "outputs": [],
   "source": [
    "def ajouter_deux(x):\n",
    "    return x + 2\n",
    "\n",
    "print(ajouter_deux(5))"
   ]
  },
  {
   "cell_type": "markdown",
   "metadata": {},
   "source": [
    "Si, à la place, nous avions une fonction qui multiplie par 3:"
   ]
  },
  {
   "cell_type": "code",
   "execution_count": null,
   "metadata": {},
   "outputs": [],
   "source": [
    "def multiplier_par_trois(x):\n",
    "    return x * 3\n",
    "\n",
    "print('5 x 3 =', multiplier_par_trois(5))\n",
    "print('6 x 3 =', multiplier_par_trois(6))"
   ]
  },
  {
   "cell_type": "markdown",
   "metadata": {},
   "source": [
    "# Tracer la fonction\n",
    "\n",
    "Nous pouvons importer une bibliothèque, du code écrit par quelqu'un d'autre, pour tracer une fonction. Cette bibliothèque s'appelle [Plotly](https://plotly.com/python)."
   ]
  },
  {
   "cell_type": "code",
   "execution_count": null,
   "metadata": {},
   "outputs": [],
   "source": [
    "import plotly.express as px\n",
    "import numpy as np\n",
    "x = np.linspace(0, 20, 20)\n",
    "y = ajouter_deux(x)\n",
    "px.scatter(x=x, y=y, title='Ajouter deux')"
   ]
  },
  {
   "cell_type": "markdown",
   "metadata": {},
   "source": [
    "# Conclusion\n",
    "\n",
    "Nous pouvons utiliser des fonctions en Python pour effectuer des opérations mathématiques, et des bibliothèques de code comme Plotly pour tracer les fonctions."
   ]
  },
  {
   "cell_type": "markdown",
   "metadata": {},
   "source": [
    "[![Callysto.ca License](https://github.com/callysto/curriculum-notebooks/blob/master/callysto-notebook-banner-bottom.jpg?raw=true)](https://github.com/callysto/curriculum-notebooks/blob/master/LICENSE.md)"
   ]
  }
 ],
 "metadata": {
  "kernelspec": {
   "display_name": "Python 3.10.4 64-bit",
   "language": "python",
   "name": "python3"
  },
  "language_info": {
   "codemirror_mode": {
    "name": "ipython",
    "version": 3
   },
   "file_extension": ".py",
   "mimetype": "text/x-python",
   "name": "python",
   "nbconvert_exporter": "python",
   "pygments_lexer": "ipython3",
   "version": "3.10.4"
  },
  "vscode": {
   "interpreter": {
    "hash": "aee8b7b246df8f9039afb4144a1f6fd8d2ca17a180786b69acc140d282b71a49"
   }
  }
 },
 "nbformat": 4,
 "nbformat_minor": 2
}
