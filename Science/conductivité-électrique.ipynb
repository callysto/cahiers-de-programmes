{
 "cells": [
  {
   "cell_type": "markdown",
   "metadata": {},
   "source": [
    "![alt text](https://github.com/callysto/callysto-sample-notebooks/blob/master/notebooks/images/Callysto_Notebook-Banner_Top_06.06.18.jpg?raw=true)"
   ]
  },
  {
   "cell_type": "markdown",
   "metadata": {
    "lang": "fr"
   },
   "source": [
    "<img src=\"images/conductivity.jpg\" width=\"500px\" />\n",
    "\n",
    "# Conductivité électrique\n",
    "\n",
    "Basé sur l'expérience de la bibliothèque LibreTexts intitulée \"Conductivité électrique des solutions aqueuses\" publiée sous licence [Creative Commons Attribution-NonCommercial-ShareAlike 3.0 États-Unis] (https://creativecommons.org/licenses/by-nc-sa/3.0/us/) "
   ]
  },
  {
   "cell_type": "markdown",
   "metadata": {
    "lang": "fr"
   },
   "source": [
    "## Contexte\n",
    "\n",
    "\n",
    "La conductivité électrique est basée sur le flux d'électrons. Les métaux sont de bons conducteurs d’électricité, car ils permettent aux électrons de traverser tout le matériau. Ainsi, les électrons circulent comme une «mer d'électrons» à travers les métaux. En comparaison, l'eau distillée est un très mauvais conducteur de l'électricité car très peu d'électricité circule dans l'eau. La dissolution des ions dans ces solutions change cela et permet aux électrons de traverser la solution. Si la solution est capable de conduire l'électricité, le courant sera capté par un conductimètre."
   ]
  },
  {
   "cell_type": "markdown",
   "metadata": {
    "lang": "fr"
   },
   "source": [
    "## La question\n",
    "Comment se compare la conductivité des différentes solutions?"
   ]
  },
  {
   "cell_type": "markdown",
   "metadata": {
    "lang": "fr"
   },
   "source": [
    "## L'hypothèse"
   ]
  },
  {
   "cell_type": "markdown",
   "metadata": {
    "lang": "fr"
   },
   "source": [
    "Entrez votre hypothèse en double-cliquant sur ce texte."
   ]
  },
  {
   "cell_type": "markdown",
   "metadata": {
    "lang": "fr"
   },
   "source": [
    "## Matériaux et équipement\n",
    "\n",
    "* conductimètre\n",
    "* bouteille de lavage avec de l'eau distillée\n",
    "* grand bécher pour le rinçage / les déchets\n",
    "* chlorure de sodium\n",
    "* sucre\n",
    "* tissus\n",
    "\n",
    "Solutions:\n",
    "* acide acétique (vinaigre)\n",
    "* eau du robinet"
   ]
  },
  {
   "cell_type": "markdown",
   "metadata": {
    "lang": "fr"
   },
   "source": [
    "## Procédure\n",
    "1. Utilisez une bouteille de lavage avec de l'eau distillée et un grand bécher étiqueté «déchets» pour rincer les électrodes. Sécher avec un mouchoir. Lorsqu'il est allumé, le conductimètre doit indiquer 0 (ou très près à 0).\n",
    "2. Mettez 50 ml d’eau distillée dans un bécher.\n",
    "3. Placez les embouts métalliques de votre testeur de conductivité dans la solution.\n",
    "4. Notez la conductivité de l'eau distillée dans le tableau ci-dessous.\n",
    "5. Répétez les étapes 1 à 4 avec des échantillons des autres solutions. Par exemple, prenez une cuillerée de sel et dissolvez-la dans l'eau. Après chaque mesure de conductivité, videz le bécher et rincez-le avec de l'eau distillée.\n",
    "6. Nettoyez quand vous avez terminé."
   ]
  },
  {
   "cell_type": "code",
   "execution_count": null,
   "metadata": {},
   "outputs": [],
   "source": [
    "%%html\n",
    "\n",
    "<script>\n",
    "  function code_toggle() {\n",
    "    if (code_shown){\n",
    "      $('div.input').hide('500');\n",
    "      $('#toggleButton').val('Show Code')\n",
    "    } else {\n",
    "      $('div.input').show('500');\n",
    "      $('#toggleButton').val('Hide Code')\n",
    "    }\n",
    "    code_shown = !code_shown\n",
    "  }\n",
    "  \n",
    "  $( document ).ready(function(){\n",
    "    code_shown=false;\n",
    "    $('div.input').hide()\n",
    "  });\n",
    "</script>\n",
    "<form action=\"javascript:code_toggle()\"><input type=\"submit\" id=\"toggleButton\" value=\"Show Code\"></form>"
   ]
  },
  {
   "cell_type": "code",
   "execution_count": null,
   "metadata": {
    "hide_input": true,
    "scrolled": false
   },
   "outputs": [],
   "source": [
    "import pandas as pd\n",
    "import numpy as np\n",
    "import qgrid\n",
    "df = pd.DataFrame(index=pd.Series(['Distilled Water', 'Tap Water', 'Salt Water', 'Vinegar']), columns=pd.Series(['Reading 1', 'Reading 2','Notes']))\n",
    "df_widget = qgrid.QgridWidget(df =df, show_toolbar=True)\n",
    "df_widget"
   ]
  },
  {
   "cell_type": "code",
   "execution_count": null,
   "metadata": {},
   "outputs": [],
   "source": [
    "from IPython.display import Javascript, display\n",
    "from ipywidgets import widgets\n",
    "\n",
    "def run_all(ev):\n",
    "    display(Javascript('IPython.notebook.execute_cell_range(IPython.notebook.get_selected_index()+1,IPython.notebook.get_selected_index()+2)'))\n",
    "\n",
    "button = widgets.Button(description=\"Click to save data\")\n",
    "button.on_click(run_all)\n",
    "display(button)\n"
   ]
  },
  {
   "cell_type": "code",
   "execution_count": null,
   "metadata": {},
   "outputs": [],
   "source": [
    "output_data = df_widget.get_changed_df()"
   ]
  },
  {
   "cell_type": "markdown",
   "metadata": {
    "lang": "fr"
   },
   "source": [
    "## Des questions\n",
    "\n",
    "1. Pourquoi les électrodes de l'appareil de conductivité, ainsi que tous les béchers, doivent-elles être rincées avec l'eau distillée après chaque test de conductivité?\n",
    "2. Quelle solution conduit le mieux l'électricité? Comment pouvez-vous dire?\n",
    "3. Pourquoi une solution conduit-elle l'électricité mieux qu'une autre?"
   ]
  },
  {
   "cell_type": "markdown",
   "metadata": {
    "lang": "fr"
   },
   "source": [
    "### Réponses\n",
    "\n",
    "1.  \n",
    "2.  \n",
    "3.  "
   ]
  },
  {
   "cell_type": "markdown",
   "metadata": {
    "lang": "fr"
   },
   "source": [
    "## Conductivité dans votre quartier\n",
    "La conductivité électrique peut être un indicateur important de ce qui est présent dans une solution donnée. La conductivité augmente lorsque plus d'ions sont dissous dans l'eau. Par conséquent, le niveau de conductivité peut être utilisé comme indicateur de la qualité de l'eau. Par exemple, les usines de traitement de l'eau qui traitent l'eau de mer et la transforment en eau utilisable utilisent la conductivité comme indicateur du degré d'élimination du sel de l'eau. Dans ce cas, un certain niveau de conductivité est défini comme valeur limite pour la quantité de sel autorisée dans l'eau avant de pouvoir être utilisée dans une maison ou une exploitation minière.\n",
    "\n",
    "Le tableau ci-dessous montre les lectures de la station d'épuration des eaux Epcor de Rossdale à Edmonton au cours de la dernière semaine. Cette statio alimente le centre-ville d'Edmonton et la région ELS, couvrant le nord-ouest, l'ouest et le sud-ouest. Notez que l'un des indicateurs de qualité indiqués ci-dessous est la conductivité!"
   ]
  },
  {
   "cell_type": "code",
   "execution_count": null,
   "metadata": {
    "scrolled": false
   },
   "outputs": [],
   "source": [
    "url_ELS = \"http://apps.epcor.ca/DAilyWaterQuality/Default.aspx?zone=ELS\"\n",
    "url_RD = \"http://apps.epcor.ca/DAilyWaterQuality/Default.aspx?zone=Rossdale\"\n",
    "table_RD = pd.read_html(url_RD, header=0)\n",
    "table_ELS = pd.read_html(url_ELS, header=0)\n",
    "qgrid.QgridWidget(df = table_RD[0])"
   ]
  },
  {
   "cell_type": "markdown",
   "metadata": {
    "lang": "fr"
   },
   "source": [
    "Nous avons pris les données des usines de traitement de l'eau ainsi que les lectures de votre expérience et nous avons représenté la conductivité dans le graphique ci-dessous."
   ]
  },
  {
   "cell_type": "code",
   "execution_count": null,
   "metadata": {},
   "outputs": [],
   "source": [
    "button = widgets.Button(description=\"Update the plot\")\n",
    "button.on_click(run_all)\n",
    "display(button)"
   ]
  },
  {
   "cell_type": "code",
   "execution_count": null,
   "metadata": {
    "scrolled": true
   },
   "outputs": [],
   "source": [
    "import matplotlib.pyplot as plt\n",
    "from matplotlib.colors import Normalize\n",
    "import matplotlib.cm as cm\n",
    "import warnings\n",
    "# ignoring runtime warning from taking the mean of a single number\n",
    "# this also catches strings. \n",
    "np.warnings.filterwarnings('ignore')\n",
    "cmap = cm.Set1\n",
    "\n",
    "norm=Normalize(vmin=0, vmax=len(output_data.index)+1)\n",
    "\n",
    "for i in range(len(output_data.index)): \n",
    "    try:\n",
    "        sample_mean=np.nanmean([float(output_data.iloc[i,0]),float(output_data.iloc[i,1])])\n",
    "        plt.axhline(y=sample_mean, c=cmap(norm(i)), ls='dashed', label='Average of ' + output_data.index[i], lw='3')\n",
    "\n",
    "    except ValueError as e:\n",
    "        # skip data that has strings in it. \n",
    "        continue\n",
    "\n",
    "\n",
    "plt.plot(table_RD[0].iloc[6, 1:8], 'bo-', label='Rossdale readings')\n",
    "#plt.plot(pd.DataFrame(table_RD[0].iloc[6, 1:8].apply(pd.to_numeric)))\n",
    "plt.xlabel('Day of Measurement')\n",
    "plt.ylabel('Conductivity (yS/cm)')\n",
    "plt.title('Conductivity in treated waste water over the last week')\n",
    "plt.legend(bbox_to_anchor=(1.05, 1), loc=2)\n",
    "plt.show()"
   ]
  },
  {
   "cell_type": "markdown",
   "metadata": {
    "lang": "fr"
   },
   "source": [
    "## Question\n",
    "\n",
    "4.\n",
    "Comment se comparent vos valeurs? Qu'en est-il de l'eau qui quitte la station d'épuration des eaux de Rossdale?"
   ]
  },
  {
   "cell_type": "markdown",
   "metadata": {
    "lang": "fr"
   },
   "source": [
    "### Réponse\n",
    "4."
   ]
  },
  {
   "cell_type": "markdown",
   "metadata": {},
   "source": [
    "![alt text](https://github.com/callysto/callysto-sample-notebooks/blob/master/notebooks/images/Callysto_Notebook-Banners_Bottom_06.06.18.jpg?raw=true)"
   ]
  }
 ],
 "metadata": {
  "kernelspec": {
   "display_name": "Python 3",
   "language": "python",
   "name": "python3"
  },
  "language_info": {
   "codemirror_mode": {
    "name": "ipython",
    "version": 3
   },
   "file_extension": ".py",
   "mimetype": "text/x-python",
   "name": "python",
   "nbconvert_exporter": "python",
   "pygments_lexer": "ipython3",
   "version": "3.7.3"
  },
  "nbTranslate": {
   "displayLangs": [
    "*"
   ],
   "hotkey": "alt-t",
   "langInMainMenu": true,
   "sourceLang": "en",
   "targetLang": "fr",
   "useGoogleTranslate": true
  }
 },
 "nbformat": 4,
 "nbformat_minor": 2
}
