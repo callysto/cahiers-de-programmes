{
 "cells": [
  {
   "cell_type": "markdown",
   "metadata": {},
   "source": [
    "![Callysto.ca Banner](https://github.com/callysto/curriculum-notebooks/blob/master/callysto-notebook-banner-top.jpg?raw=true)"
   ]
  },
  {
   "cell_type": "markdown",
   "metadata": {
    "lang": "fr"
   },
   "source": [
    "# Création de tables interactives\n",
    "\n",
    "Dans de nombreux rapports de laboratoire, il peut être utile que vos étudiants puissent enregistrer des données dans Jupyter. Ce modèle vous aidera à créer vos propres tâches de laboratoire en simplifiant la création de tableaux et de graphiques interactifs. Nous commençons par l'importation de nos fonctions d'aide ci-dessous"
   ]
  },
  {
   "cell_type": "code",
   "execution_count": null,
   "metadata": {},
   "outputs": [],
   "source": [
    "from lab_template_helpers import easy_table, graph_table"
   ]
  },
  {
   "cell_type": "markdown",
   "metadata": {
    "lang": "fr"
   },
   "source": [
    "Nous avons maintenant accès à deux fonctions: `easy_table` et `graph_table`. La première fonction nous permet de créer ou de charger des tableaux personnalisés, et la deuxième nous permet de représenter graphiquement ces résultats de manière interactive.\n",
    "\n",
    "## Création d'une tableau vide pour la saisie de données.\n",
    "\n",
    "Nous allons maintenant utiliser la fonction `easy_table` avec sa méthode `create_table`. La seule information dont vous avez besoin de fournir à cette fonction est le nom de fichier sous lequel vous souhaitez enregistrer votre tableau. Dans ce cas, nous l'appellerons `demonstration.csv`. Lors de l'exécution de la cellule ci-dessous, vous devrez fournir des informations pour créer votre (vos) tableau(x) personnalisé(s). On vous demandera de fournir des noms de colonnes et si vous souhaitez des noms de rangées personnalisés (et quels sont ces noms). Si vous ne voulez pas de noms de rangées personnalisés, vous devrez fournir le nombre de rangées dont vous avez besoin. Veuillez exécuter la cellule ci-dessous et suivez les instructions pour créer votre tableau vide."
   ]
  },
  {
   "cell_type": "code",
   "execution_count": null,
   "metadata": {
    "lang": "en"
   },
   "outputs": [],
   "source": [
    "easy_table.create_table(\"demonstration.csv\")"
   ]
  },
  {
   "cell_type": "markdown",
   "metadata": {
    "lang": "fr"
   },
   "source": [
    "easy_table.create_table(\"demonstration.csv\")"
   ]
  },
  {
   "cell_type": "markdown",
   "metadata": {
    "lang": "fr"
   },
   "source": [
    "Une fois que nous avons créé un tableau, nous devons la charger en utilisant la méthode `load _table` avec le fichier que nous avons créé en utilisant `create_ table`. Nous devons également donner un nom à notre nouveau tableau, appelée dans ce cas `my_table`."
   ]
  },
  {
   "cell_type": "code",
   "execution_count": null,
   "metadata": {
    "lang": "en"
   },
   "outputs": [],
   "source": [
    "my_table = easy_table.load_table('demonstration.csv')\n",
    "my_table"
   ]
  },
  {
   "cell_type": "markdown",
   "metadata": {
    "lang": "fr"
   },
   "source": [
    "Où cette table créée acceptera uniquement les entrées numériques. Pour modifier la table, cliquez sur une cellule et entrez un nouveau numéro. Nous notons toutefois qu'en utilisant des tableaux personnalisés comme celui-ci, il n'est pas possible de saisir vos propres résultats \"sous forme de texte\". Ces tableaux personnalisés ne concernent que les nombres.\n",
    "\n",
    "Notez que vous pouvez trier et filtrer les valeurs dans le tableau en cliquant respectivement sur le nom de la colonne ou sur l'icône à côté du nom de la colonne.\n",
    "\n",
    "\n",
    "## Chargement d'un fichier préexistant (en ligne ou local)\n",
    "\n",
    "Si vous ne souhaitez pas créer de tableau vide, vous pouvez charger vos propres fichiers csv, depuis l'Internet ou depuis votre propre répertoire Callysto. Ceci est fait en utilisant la fonction `load_table`. Cependant, nous spécifions maintenant soit un fichier CSV prérempli, soit un fichier en ligne. L'exemple ci-dessous montre comment charger un tableau en ligne. Notez comment nous avons également spécifié \"`external = True`\"pour nous assurer que notre tableau chargée sera correctement indexée.\n",
    "\n",
    "### Remarque\n",
    "S'il s'agissait d'un fichier local enregistré sur votre hub Callysto personnel, vous devez taper le chemin du fichier au lieu d'une URL ici."
   ]
  },
  {
   "cell_type": "code",
   "execution_count": null,
   "metadata": {},
   "outputs": [],
   "source": [
    "online_table = easy_table.load_table(\"https://raw.githubusercontent.com/mwaskom/seaborn-data/master/iris.csv\", \n",
    "                                        external=True)\n",
    "online_table"
   ]
  },
  {
   "cell_type": "markdown",
   "metadata": {
    "lang": "fr"
   },
   "source": [
    "Si, contrairement du tableau blanc, dans la colonne «species», vous êtes libre d'entrer votre propre texte.\n",
    "## Fichiers CSV qui ne sont pas séparés par des virgules.\n",
    "\n",
    "Si vous souhaitez utiliser un CSV avec un autre délimiteur, vous devez spécifier l’argument optionnel `sep` (pour séparateur). Cela nous permet de lire correctement les fichiers CSV avec des délimiteurs tels que\n",
    "\n",
    "1. tabulations $\\rightarrow$ \"` \\ t` \"\n",
    "2. Point-virgule $\\rightarrow$ \"`; `\"\n",
    "3. Pipes $\\rightarrow$ \"` | `\"\n",
    "\n",
    "Nous montrons ceci ci-dessous, d'abord un exemple de si vous ne spécifiez pas votre délimiteur alternatif"
   ]
  },
  {
   "cell_type": "code",
   "execution_count": null,
   "metadata": {},
   "outputs": [],
   "source": [
    "tab_separated = easy_table.load_table(\"https://raw.githubusercontent.com/goodby/csv/master/src/Goodby/CSV/Import/Tests/Standard/Join/csv_files/tab-separated.csv\",\n",
    "                                        external = True)\n",
    "tab_separated"
   ]
  },
  {
   "cell_type": "markdown",
   "metadata": {
    "lang": "fr"
   },
   "source": [
    "Notez que toutes nos valeurs sont analysées ligne par ligne plutôt que dans des cellules individuelles. Si nous spécifions le délimiteur, nous obtenons le suivant"
   ]
  },
  {
   "cell_type": "code",
   "execution_count": null,
   "metadata": {},
   "outputs": [],
   "source": [
    "tab_separated = easy_table.load_table(\"https://raw.githubusercontent.com/goodby/csv/master/src/Goodby/CSV/Import/Tests/Standard/Join/csv_files/tab-separated.csv\",\n",
    "                                        external = True,\n",
    "                                        sep = '\\t')\n",
    "tab_separated"
   ]
  },
  {
   "cell_type": "markdown",
   "metadata": {
    "lang": "fr"
   },
   "source": [
    "Ce qui est le résultat souhaité.\n",
    "\n",
    "## Enregistrement d'un tableau mise à jour\n",
    "\n",
    "Si vos étudiants ont créé leur propre tableau de données / modifié un tableau existant, il est possible d'enregistrer leurs modifications pour plus tard. Pour ce faire, utilisez la méthode `save_table` de notre fonction `easy_table`. Dans ce cas, n'hésitez pas à modifier les entrées de `my_table` pour enregistrer vos modifications.\n",
    "\n",
    "Pour utiliser `save_table`, nous devons lui indiquer le tableau que nous souhaitons enregistrer, ainsi que fournir un nom de fichier pour le sauvegarder. Nous démontrons ceci ci-dessous."
   ]
  },
  {
   "cell_type": "code",
   "execution_count": null,
   "metadata": {},
   "outputs": [],
   "source": [
    "easy_table.save_table(my_table, \"updated_demonstration.csv\")"
   ]
  },
  {
   "cell_type": "markdown",
   "metadata": {
    "lang": "fr"
   },
   "source": [
    "Nous pouvons maintenant charger notre tableau mis à jour et voir les modifications apportées à notre tableau."
   ]
  },
  {
   "cell_type": "code",
   "execution_count": null,
   "metadata": {},
   "outputs": [],
   "source": [
    "easy_table.load_table(\"updated_demonstration.csv\")"
   ]
  },
  {
   "cell_type": "markdown",
   "metadata": {
    "lang": "fr"
   },
   "source": [
    "## Remarque spéciale\n",
    "Si vous créez un rapport de laboratoire que vos étudiants pourront utiliser, ils n'auront peut-être jamais besoin de voir la fonction `create_table` (sauf si vous le souhaitez bien sûr). Si vous créez le tableau vous-même, vous pouvez distribuer le fichier CSV créé avec le rapport de laboratoire et demander à vos élèves de charger le fichier. Certes, il peut être plus facile d’inciter les élèves à créer leurs propres tableaux individuellement.\n",
    "\n",
    "\n",
    "\n",
    "\n",
    "# Graphique interactif utilisant des tableaux créées / chargées\n",
    "\n",
    "Pour représenter graphiquement les données dans un tableau modifiée ou téléchargée, nous pouvons utiliser la méthode `graph_from_table` depuis la fonction `graph_table`. La méthode `graph_from_table` prend un argument qui est le nom du tableau que vous avez créée. À des fins de démonstration, nous utiliserons `online_table` avec `graph_from_table`."
   ]
  },
  {
   "cell_type": "code",
   "execution_count": null,
   "metadata": {},
   "outputs": [],
   "source": [
    "graph_table.graph_from_table(online_table)"
   ]
  },
  {
   "cell_type": "markdown",
   "metadata": {
    "lang": "fr"
   },
   "source": [
    "Dans le widget ci-dessus, vous avez trois menus déroulants avec les fonctions suivantes\n",
    "\n",
    "1. Données d'axe des abscisses (X): Cette liste déroulante sélectionne la colonne de votre tableau de données à utiliser comme points $x$ sur le graphique.\n",
    "2. Données d'axe des ordonnées (Y): Cette liste déroulante sélectionne la colonne de votre tableau de données à utiliser comme points $y$ sur le graphique.\n",
    "3. Type de graphique: ce menu déroulant vous permet de choisir parmi un nuage de points, un graphique linéaire ou un graphique à barres pour tracer vos données.\n",
    "\n",
    "Il existe également trois zones de saisie de texte avec les fonctions suivantes\n",
    "\n",
    "1. Titre du graphique: Entrez le titre de votre graphique ici\n",
    "2. Étiquette de l'axe des ordonnées (Y): entrez ici le titre de l'axe $y$\n",
    "3. Étiquette de l'axe des abscisses (X): Entrez ici le titre de l'axe $x$.\n",
    "\n",
    "### Remarque\n",
    "Si vous filtrez ou triez votre tableau interactif, puis réexécutez la cellule pour tracer le graphique, tous les tri et filtres seront présents dans les données du graphique.\n",
    "\n",
    "### Autre fonctionnalité du graphique\n",
    "\n",
    "Si vous passez votre souris sur le graphique, vous pourrez zoomer sur une zone en surbrillance. Il existe plusieurs autres fonctions dans le menu principal du graphique, telles que sauvegarder l'image."
   ]
  },
  {
   "cell_type": "markdown",
   "metadata": {},
   "source": [
    "[![Callysto.ca License](https://github.com/callysto/curriculum-notebooks/blob/master/callysto-notebook-banner-bottom.jpg?raw=true)](https://github.com/callysto/curriculum-notebooks/blob/master/LICENSE.md)"
   ]
  }
 ],
 "metadata": {
  "kernelspec": {
   "display_name": "Python 3",
   "language": "python",
   "name": "python3"
  },
  "language_info": {
   "codemirror_mode": {
    "name": "ipython",
    "version": 3
   },
   "file_extension": ".py",
   "mimetype": "text/x-python",
   "name": "python",
   "nbconvert_exporter": "python",
   "pygments_lexer": "ipython3",
   "version": "3.7.3"
  },
  "nbTranslate": {
   "displayLangs": [
    "*"
   ],
   "hotkey": "alt-t",
   "langInMainMenu": true,
   "sourceLang": "en",
   "targetLang": "fr",
   "useGoogleTranslate": true
  }
 },
 "nbformat": 4,
 "nbformat_minor": 2
}
