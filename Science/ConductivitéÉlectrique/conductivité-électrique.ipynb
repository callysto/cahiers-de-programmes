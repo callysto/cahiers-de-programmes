{
 "cells": [
  {
   "cell_type": "markdown",
   "metadata": {},
   "source": [
    "![Callysto.ca Banner](https://github.com/callysto/curriculum-notebooks/blob/master/callysto-notebook-banner-top.jpg?raw=true)\n",
    "\n",
    "<a href=\"https://hub.callysto.ca/jupyter/hub/user-redirect/git-pull?repo=https%3A%2F%2Fgithub.com%2Fcallysto%2Fcahiers-de-programmes&branch=master&urlpath=notebooks/cahiers-de-programmes/Science/Conductivit%C3%A9%C3%89lectrique/conductivit%C3%A9-%C3%A9lectrique.ipynb&depth=1\" target=\"_parent\"><img src=\"https://raw.githubusercontent.com/callysto/cahiers-de-programmes/master/bouton-callysto.svg?sanitize=true\" width=\"123\" height=\"24\" alt=\"Open in Callysto\"/></a>"
   ]
  },
  {
   "cell_type": "markdown",
   "metadata": {
    "lang": "fr"
   },
   "source": [
    "<img src=\"images/iStock-conductivity.jpg\" width=\"500px\" />\n",
    "\n",
    "# Conductivité électrique\n",
    "\n",
    "Basé sur l'expérience de la bibliothèque LibreTexts \"[Electrical Conductivity of Aqueous Solutions]()\" publiée sous licence [Creative Commons Attribution-NonCommercial-ShareAlike 3.0 États-Unis](https://creativecommons.org/licenses/by-nc-sa/3.0/us/) ."
   ]
  },
  {
   "cell_type": "markdown",
   "metadata": {
    "lang": "fr"
   },
   "source": [
    "## Contexte\n",
    "\n",
    "\n",
    "La conductivité électrique est basée sur le flux d'électrons. Les métaux sont de bons conducteurs d’électricité, car ils permettent aux électrons de traverser tout le matériau. Ainsi, les électrons circulent comme une «mer d'électrons» à travers les métaux. En comparaison, l'eau distillée est un très mauvais conducteur de l'électricité car très peu d'électricité circule dans l'eau. La dissolution des ions dans ces solutions change cela et permet aux électrons de traverser la solution. Si la solution est capable de conduire l'électricité, le courant sera capté par un conductimètre."
   ]
  },
  {
   "cell_type": "markdown",
   "metadata": {
    "lang": "fr"
   },
   "source": [
    "## La question\n",
    "Comment se compare la conductivité des différentes solutions?"
   ]
  },
  {
   "cell_type": "markdown",
   "metadata": {
    "lang": "fr"
   },
   "source": [
    "## L'hypothèse"
   ]
  },
  {
   "cell_type": "markdown",
   "metadata": {
    "lang": "fr"
   },
   "source": [
    "Entrez votre hypothèse en double-cliquant sur ce texte."
   ]
  },
  {
   "cell_type": "markdown",
   "metadata": {
    "lang": "fr"
   },
   "source": [
    "## Matériaux et équipement\n",
    "\n",
    "* conductimètre\n",
    "* bouteille de lavage avec de l'eau distillée\n",
    "* grand bécher pour le rinçage / les déchets\n",
    "* chlorure de sodium\n",
    "* sucre\n",
    "* tissus\n",
    "\n",
    "Solutions:\n",
    "* acide acétique (vinaigre)\n",
    "* eau du robinet"
   ]
  },
  {
   "cell_type": "markdown",
   "metadata": {
    "lang": "fr"
   },
   "source": [
    "## Procédure\n",
    "1. Utilisez une bouteille de lavage avec de l'eau distillée et un grand bécher étiqueté «déchets» pour rincer les électrodes. Sécher avec un mouchoir. Lorsqu'il est allumé, le conductimètre doit indiquer 0 (ou très près à 0).\n",
    "2. Mettez 50 ml d’eau distillée dans un bécher.\n",
    "3. Placez les embouts métalliques de votre testeur de conductivité dans la solution.\n",
    "4. Notez la conductivité de l'eau distillée dans le tableau ci-dessous.\n",
    "5. Répétez les étapes 1 à 4 avec des échantillons des autres solutions. Par exemple, prenez une cuillerée de sel et dissolvez-la dans l'eau. Après chaque mesure de conductivité, videz le bécher et rincez-le avec de l'eau distillée.\n",
    "6. Nettoyez quand vous avez terminé.\n",
    "\n",
    "Sélectionnez la cellule de code suivante, puis cliquez sur le bouton `▶Run` pour afficher un tableau de données pour enregistrer vos observations. Si vous obtenez une erreur, supprimez le `#` de la première ligne de code et exécutez-le à nouveau. Double-cliquez sur les valeurs `nan` pour insérer vos propres observations."
   ]
  },
  {
   "cell_type": "code",
   "execution_count": null,
   "metadata": {
    "hide_input": true,
    "scrolled": false
   },
   "outputs": [],
   "source": [
    "#!pip install qgrid --user --upgrade\n",
    "import pandas as pd\n",
    "import numpy as np\n",
    "import ipydatagrid\n",
    "rows = ['Distilled Water', 'Tap Water', 'Salt Water', 'Vinegar']\n",
    "columns = ['Reading 1', 'Reading 2']\n",
    "df = pd.DataFrame(index=rows, columns=columns)\n",
    "data_entry_table = ipydatagrid.DataGrid(dataframe=df, show_toolbar=True,editable=True,layout={'height':'200px','width':'500px'})\n",
    "data_entry_table.auto_fit_columns = True\n",
    "data_entry_table"
   ]
  },
  {
   "cell_type": "markdown",
   "metadata": {},
   "source": [
    "Après avoir enregistré vos observations dans le tableau ci-dessus, `▶Run` la cellule suivante pour enregistrer et afficher vos données."
   ]
  },
  {
   "cell_type": "code",
   "execution_count": null,
   "metadata": {},
   "outputs": [],
   "source": [
    "data = df\n",
    "data_entry_table.select(row1=0,column1=0,row2=3,column2=0,clear_mode='all')\n",
    "data['Reading 1'] = data_entry_table.selected_cell_values\n",
    "data_entry_table.select(row1=0,column1=1,row2=3,column2=1,clear_mode='all')\n",
    "data['Reading 2'] = data_entry_table.selected_cell_values\n",
    "data = data.replace('',np.nan)\n",
    "\n",
    "\n",
    "if not data.isnull().values.any():\n",
    "    data['Average'] = (data['Reading 1'].astype(int) + data['Reading 2'].astype(int))/ 2\n",
    "    display(data)\n",
    "else:\n",
    "    data['Average'] = 0\n",
    "    print('N’oubliez pas de saisir des données dans le tableau ci-dessus avant d’exécuter cette cellule.')\n"
   ]
  },
  {
   "cell_type": "markdown",
   "metadata": {
    "lang": "fr"
   },
   "source": [
    "## Des questions\n",
    "\n",
    "1. Pourquoi les électrodes de l'appareil de conductivité, ainsi que tous les béchers, doivent-elles être rincées avec l'eau distillée après chaque test de conductivité?\n",
    "2. Quelle solution conduit le mieux l'électricité? Comment pouvez-vous dire?\n",
    "3. Pourquoi une solution conduit-elle l'électricité mieux qu'une autre?"
   ]
  },
  {
   "cell_type": "markdown",
   "metadata": {
    "lang": "fr"
   },
   "source": [
    "### Réponses\n",
    "\n",
    "1.  \n",
    "2.  \n",
    "3.  "
   ]
  },
  {
   "cell_type": "markdown",
   "metadata": {
    "lang": "fr"
   },
   "source": [
    "## Comparé aux usines de traitement de l'eau\n",
    "\n",
    "La conductivité électrique peut être un indicateur important de ce qui est présent dans une solution donnée. La conductivité augmente lorsque plus d'ions sont dissous dans l'eau. Par conséquent, le niveau de conductivité peut être utilisé comme indicateur de la qualité de l'eau. Par exemple, les usines de traitement de l'eau qui traitent l'eau de mer et la transforment en eau utilisable utilisent la conductivité comme indicateur du degré d'élimination du sel de l'eau. Dans ce cas, un certain niveau de conductivité est défini comme valeur limite pour la quantité de sel autorisée dans l'eau avant de pouvoir être utilisée dans une maison ou une exploitation minière.\n",
    "\n",
    "Exécutez la cellule suivante pour télécharger les données de deux usines de traitement de l'eau, Rossdale et E.L. Smith, pour la semaine dernière et tracez un graphique de la conductivité de l'eau par rapport à vos données."
   ]
  },
  {
   "cell_type": "code",
   "execution_count": null,
   "metadata": {
    "scrolled": false
   },
   "outputs": [],
   "source": [
    "rossdale = pd.read_html('http://apps.epcor.ca/DailyWaterQuality/Default.aspx?zone=Rossdale', header=0)[0]\n",
    "els = pd.read_html('http://apps.epcor.ca/DailyWaterQuality/Default.aspx?zone=ELS', header=0)[0]\n",
    "import cufflinks as cf\n",
    "cf.go_offline()\n",
    "combined_data = pd.DataFrame()\n",
    "combined_data['Rossdale'] = rossdale.iloc[6][1:]\n",
    "combined_data['ELS'] = els.iloc[6][1:]\n",
    "for i, row in data.iterrows():\n",
    "    combined_data[row.name] = row['Average']\n",
    "combined_data.iplot(yTitle='Conductivité (yS/cm)', title=\"Conductivité des solutions par rapport aux données des usines de traitement d'eau\")"
   ]
  },
  {
   "cell_type": "markdown",
   "metadata": {
    "lang": "fr"
   },
   "source": [
    "## Question\n",
    "\n",
    "4.\n",
    "Comment se comparent vos valeurs? Qu'en est-il de l'eau qui quitte la station d'épuration des eaux de Rossdale?"
   ]
  },
  {
   "cell_type": "markdown",
   "metadata": {
    "lang": "fr"
   },
   "source": [
    "### Réponse\n",
    "4."
   ]
  },
  {
   "cell_type": "markdown",
   "metadata": {},
   "source": [
    "[![Callysto.ca License](https://github.com/callysto/curriculum-notebooks/blob/master/callysto-notebook-banner-bottom.jpg?raw=true)](https://github.com/callysto/curriculum-notebooks/blob/master/LICENSE.md)"
   ]
  }
 ],
 "metadata": {
  "kernelspec": {
   "display_name": "Python 3",
   "language": "python",
   "name": "python3"
  },
  "language_info": {
   "codemirror_mode": {
    "name": "ipython",
    "version": 3
   },
   "file_extension": ".py",
   "mimetype": "text/x-python",
   "name": "python",
   "nbconvert_exporter": "python",
   "pygments_lexer": "ipython3",
   "version": "3.11.3"
  },
  "nbTranslate": {
   "displayLangs": [
    "*"
   ],
   "hotkey": "alt-t",
   "langInMainMenu": true,
   "sourceLang": "en",
   "targetLang": "fr",
   "useGoogleTranslate": true
  }
 },
 "nbformat": 4,
 "nbformat_minor": 2
}
