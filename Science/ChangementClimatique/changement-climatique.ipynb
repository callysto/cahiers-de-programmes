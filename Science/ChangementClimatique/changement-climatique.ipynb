{
 "cells": [
  {
   "cell_type": "markdown",
   "metadata": {},
   "source": [
    "![Callysto.ca Banner](https://github.com/callysto/curriculum-notebooks/blob/master/callysto-notebook-banner-top.jpg?raw=true)\n",
    "\n",
    "<a href=\"https://hub.callysto.ca/jupyter/hub/user-redirect/git-pull?repo=https%3A%2F%2Fgithub.com%2Fcallysto%2Fcahiers-de-programmes&branch=master&subPath=Science/ChangementClimatique/changement-climatique.ipynb&depth=1\" target=\"_parent\"><img src=\"https://raw.githubusercontent.com/callysto/cahiers-de-programmes/master/bouton-callysto.svg?sanitize=true\" width=\"123\" height=\"24\" alt=\"Open in Callysto\"/></a>"
   ]
  },
  {
   "cell_type": "markdown",
   "metadata": {
    "lang": "fr"
   },
   "source": [
    "# Changement climatique"
   ]
  },
  {
   "cell_type": "markdown",
   "metadata": {
    "lang": "fr"
   },
   "source": [
    "## Que savons-nous?\n",
    "\n",
    "Le climat de la Terre a subi des changements au cours de l'histoire et la plupart d'entre eux peuvent être attribués aux variations de l'orbite de la Terre, qui déterminent la quantité d'énergie solaire reçue. La raison de l'augmentation significative de la tendance au réchauffement depuis la révolution industrielle est extrêmement susceptible d'être le résultat de l'activité humaine.\n",
    "\n",
    "La Terre est un système complexe, intégrant plusieurs composants et processus. Une perturbation dans un composant peut avoir des effets sans précédent et irréversibles sur un autre composant."
   ]
  },
  {
   "cell_type": "markdown",
   "metadata": {
    "lang": "en"
   },
   "source": [
    "## Comment le savons-nous?\n",
    "\n",
    "Les satellites en orbite terrestre et d'autres avancées scientifiques nous ont permis de comprendre la Terre à l'échelle mondiale et ont permis aux scientifiques de collectionner de nombreux types d'informations sur notre planète, son climat ainsi que d'analyser son évolution au fil des ans.\n",
    "\n",
    "Il est important de comprendre les données disponibles concernant le changement climatique mondial et les impacts potentiels qu’il peut engendrer pour relever les défis qui peuvent se présenter. Le fait de savoir comment ces systèmes terrestres ont changé dans le passé et comment ils évoluent en réponse au changement climatique nous aidera à comprendre comment ils vont probablement changer à l’avenir.\n",
    "\n",
    "Les scientifiques rassemblent régulièrement des données sur la température mondiale, le dioxyde de carbone dans l'atmosphère, la glace de mer de l'Arctique, la glace terrestre et le niveau de la mer pour analyser et comprendre l'évolution du climat au fil des ans."
   ]
  },
  {
   "cell_type": "markdown",
   "metadata": {
    "lang": "fr"
   },
   "source": [
    "## Preuve d'un changement climatique rapide"
   ]
  },
  {
   "cell_type": "markdown",
   "metadata": {
    "lang": "fr"
   },
   "source": [
    "### Preuve 1: Indice de température mondiale de la terre et des océans\n",
    "\n",
    "\n",
    "Source de données et inspiration: Changement climatique global de la NASA, https://climate.nasa.gov/vital-signs/global-temperature/"
   ]
  },
  {
   "cell_type": "markdown",
   "metadata": {
    "lang": "fr"
   },
   "source": [
    "Une augmentation des émissions de dioxyde de carbone et d'autres émissions anthropiques dans l'atmosphère a entraîné une augmentation de la température de surface moyenne de 1,1 degrés Celsius depuis la fin du 19e siècle."
   ]
  },
  {
   "cell_type": "markdown",
   "metadata": {
    "lang": "fr"
   },
   "source": [
    "Ci-dessous vous pouvez visionner une visualisation créée par le studio de visualisation scientifique de la NASA montrant les anomalies de température globales de 1880 à 2017."
   ]
  },
  {
   "cell_type": "code",
   "execution_count": null,
   "metadata": {},
   "outputs": [],
   "source": [
    "from IPython.display import YouTubeVideo\n",
    "YouTubeVideo('xlrFFiSROmg')"
   ]
  },
  {
   "cell_type": "code",
   "execution_count": null,
   "metadata": {},
   "outputs": [],
   "source": [
    "import pandas as pd\n",
    "import matplotlib.pyplot as plt\n",
    "import matplotlib.animation as animation\n",
    "%matplotlib inline\n",
    "import plotly.graph_objs as go\n",
    "import cartopy.crs as ccrs\n",
    "import imageio\n",
    "import os\n",
    "import numpy as np\n",
    "from datetime import timedelta, datetime\n",
    "from IPython.display import Image\n",
    "\n",
    "print('Code importé')"
   ]
  },
  {
   "cell_type": "code",
   "execution_count": null,
   "metadata": {},
   "outputs": [],
   "source": [
    "climate_data_url = 'https://climate.nasa.gov/system/internal_resources/details/original/647_Global_Temperature_Data_File.txt'\n",
    "global_temperature_df = pd.read_csv(climate_data_url, sep='\\s+', skiprows=[0, 1, 2, 4])\n",
    "global_temperature_df.rename(columns={'No_Smoothing':'Annual Mean', 'Lowess(5)':'Lowess Smoothing'}, inplace=True)\n",
    "\n",
    "trace0 = go.Scatter(\n",
    "    x = global_temperature_df['Year'],\n",
    "    y = global_temperature_df['Annual Mean'],\n",
    "    mode = 'lines+markers',\n",
    "    name = 'Moyenne annuelle'\n",
    ")\n",
    "\n",
    "trace1 = go.Scatter(\n",
    "    x = global_temperature_df['Year'],\n",
    "    y = global_temperature_df['Lowess Smoothing'],\n",
    "    mode = 'lines+markers',\n",
    "    name = 'Lissage Lowess'\n",
    ")\n",
    "\n",
    "data = [trace0,trace1]\n",
    "layout = go.Layout(dict(title='Indice mondial de température terre-océan'),\n",
    "                   xaxis=dict(title='An'),\n",
    "                   yaxis=dict(title='Anomalie de température')\n",
    ")\n",
    "fig = go.Figure(data=data,layout=layout)\n",
    "fig.show()"
   ]
  },
  {
   "cell_type": "markdown",
   "metadata": {
    "lang": "fr"
   },
   "source": [
    "Ce graphique illustre l'évolution de la température de surface mondiale par rapport aux températures moyennes de 1951-1980. Dix-sept des 18 années les plus chaudes du record de 136 ans se sont produites depuis 2001, à l'exception de 1998. L'année 2016 est la plus chaude jamais enregistrée.\n",
    "\n",
    "En regardant le graphique ci-dessus et en visionnant la vidéo, on peut voir que 2016 a été l'année la plus chaude depuis le début de la tenue des registres."
   ]
  },
  {
   "cell_type": "markdown",
   "metadata": {
    "lang": "fr"
   },
   "source": [
    "### Preuve 2: Déclin de l'étendue et de l'épaisseur de la glace de mer de l'Arctique"
   ]
  },
  {
   "cell_type": "markdown",
   "metadata": {
    "lang": "fr"
   },
   "source": [
    "Les scientifiques surveillent de près la glace de mer arctique au fur et à mesure qu’elle se réchauffe au fil des ans, et on constate qu’elle diminue d’environ 13,2% par décennie, par rapport à la moyenne de 1981 à 2010.\n",
    "\n",
    "La superficie et l'étendue des glaces de mer sont deux mesures différentes et fournissent des informations différentes. L'étendue de la glace de mer est une mesure des bords de la glace de mer et de tout l'espace à l'intérieur, tandis que la superficie est une mesure de la glace seulement, sans compter les zones sans glace. L'étendue est toujours un nombre plus grand que la superficie, à la même période de temps.\n",
    "\n",
    "La diminution de l'étendue et de la superficie des glaces de mer affecte une grande variété de vies marines dans l'Arctique, des algues unicellulaires aux baleines boréales, aux ours polaires et autres mammifères, sans compter les populations indigènes qui utilisent la glace marine pour le transport et la chasse."
   ]
  },
  {
   "cell_type": "markdown",
   "metadata": {
    "lang": "fr"
   },
   "source": [
    "Les données utilisées ci-dessous sont élaborées par l'Initiative mondiale sur le changement climatique de la NASA, initialement extraite du Centre national de données sur la neige et la glace."
   ]
  },
  {
   "cell_type": "code",
   "execution_count": null,
   "metadata": {},
   "outputs": [],
   "source": [
    "url = 'https://climate.nasa.gov/system/internal_resources/details/original/1270_minimum_extents_and_area_north_SBA_reg_20171001_2_.txt'\n",
    "arctic_ice_df = pd.read_csv(url, sep='\\s+', skiprows=[0,1,2,3],header=None, names=['An', 'MN', 'DY', 'Étendue de glace', 'An1', 'MN1', 'DY1', 'Zone de glace'])\n",
    "arctic_ice_df.head(10)"
   ]
  },
  {
   "cell_type": "code",
   "execution_count": null,
   "metadata": {},
   "outputs": [],
   "source": [
    "trace0 = go.Scatter(\n",
    "    x = arctic_ice_df['An'],\n",
    "    y = arctic_ice_df['Étendue de glace'],\n",
    "    mode = 'lines+markers',\n",
    "    name = 'Étendue de glace'\n",
    ")\n",
    "\n",
    "trace1 = go.Scatter(\n",
    "x = arctic_ice_df['An'],\n",
    "y = arctic_ice_df['Zone de glace'],\n",
    "mode = 'lines+markers',\n",
    "name='Zone de glace',\n",
    ")\n",
    "data = [trace0, trace1]\n",
    "layout = go.Layout(dict(title=\"Indice de glace de mer de l'Arctique\"),\n",
    "                   xaxis=dict(title='An'),\n",
    "                   yaxis=dict(title='Millions de kilomètres carrés')\n",
    ")\n",
    "fig = go.Figure(data=data,layout=layout)\n",
    "fig.show()"
   ]
  },
  {
   "cell_type": "markdown",
   "metadata": {
    "lang": "fr"
   },
   "source": [
    "L'image ci-dessous représente les données de la concentration des glaces de mer, venant du centre d'archivage actif, distribué par le Centre national de données sur la neige et la glace de la NASA à partir d'avril 2018.\n",
    "\n",
    "*Source de données: Maslanik, J. et J. Stroeve. 1999, mis à jour quotidiennement. Concentrations quotidiennes en temps quasi-réel de glace de mer à grille polaire SSMIS, DMSP. version 1. Boulder, Colorado, États-Unis. Centre national de données sur la neige et la glace distribué par la NASA. Doi: https://doi.org/10.5067/U8C09DWVX9LM. [April 2018]*"
   ]
  },
  {
   "cell_type": "code",
   "execution_count": null,
   "metadata": {},
   "outputs": [],
   "source": [
    "sea_ice = ['./data/nt_20150418_f17_nrt_n.bin','./data/nt_20160331_f17_nrt_n.bin','./data/nt_20170418_f18_nrt_n.bin','./data/nt_20180423_f18_nrt_n.bin']\n",
    "\n",
    "def prepare_data(ice_data):\n",
    "    with open(ice_data, 'rb') as fr:\n",
    "        hdr = fr.read(300)\n",
    "        ice = np.fromfile(fr, dtype=np.uint8)\n",
    "\n",
    "    ice = ice.reshape(448, 304)\n",
    "\n",
    "    ice = ice / 250.\n",
    "\n",
    "    ice = np.ma.masked_greater(ice, 1.0)\n",
    "    dx = dy = 25000\n",
    "    x = np.arange(-3850000, +3750000, +dx)\n",
    "    y = np.arange(+5850000, -5350000, -dy)\n",
    "    return x, y, ice\n",
    "\n",
    "fig = plt.figure(figsize=(9,9))\n",
    "ax = plt.axes(projection=ccrs.NorthPolarStereo(central_longitude=0))\n",
    "i=2015\n",
    "for ice_data in sea_ice:\n",
    "    x, y, ice = prepare_data(ice_data)\n",
    "    cs = ax.coastlines(resolution='110m', linewidth=0.5)\n",
    "    ax.gridlines()\n",
    "    ax.set_extent([-180, 180, 40, 90], crs=ccrs.PlateCarree())\n",
    "    kw = dict(central_latitude=90, central_longitude=-45, true_scale_latitude=70)\n",
    "    cs = ax.pcolormesh(x, y, ice, cmap=plt.cm.Blues,\n",
    "                   transform=ccrs.Stereographic(**kw))\n",
    "    fig.suptitle(\"April %s\" %(i))\n",
    "    fig.savefig(f'frames/frame_{i}.png', dpi=100, facecolor='white')\n",
    "    i+=1   \n",
    "plt.close(fig)\n",
    "\n",
    "png_dir = \"./frames/\"\n",
    "images = []\n",
    "for subdir, dirs, files in os.walk(png_dir):\n",
    "    files = sorted(files)\n",
    "    for file in files:\n",
    "        file_path = os.path.join(subdir, file)\n",
    "        if file_path.endswith(\".png\"):\n",
    "            images.append(imageio.imread(file_path))\n",
    "kargs = { 'duration': 2 }\n",
    "imageio.mimsave('./gif/ice_concentration.gif', images, **kargs)\n",
    "\n",
    "image_animation = Image('gif/ice_concentration.gif')\n",
    "image_animation"
   ]
  },
  {
   "cell_type": "markdown",
   "metadata": {
    "lang": "fr"
   },
   "source": [
    "Ce GIF montre la visualisation des données de concentration de glace de mer prises au mois d’avril dans les années 2015 à 2018. On peut clairement voir la réduction de l’étendue de la glace de mer entre ces années."
   ]
  },
  {
   "cell_type": "markdown",
   "metadata": {
    "lang": "fr"
   },
   "source": [
    "### Preuve 3: Élévation du niveau de la mer"
   ]
  },
  {
   "cell_type": "markdown",
   "metadata": {
    "lang": "fr"
   },
   "source": [
    "Le niveau mondial moyen de la mer (GMSL) augmente en raison de la dilatation thermique de l'eau ainsi que de la fonte des nappes glaciaires et des glaciers terrestres\n",
    "\n",
    "Le GMSL a augmenté de 10 à 20 centimètres au cours du siècle dernier, et le taux de croissance annuel est de 3,2 mm par an au cours des 20 dernières années."
   ]
  },
  {
   "cell_type": "markdown",
   "metadata": {
    "lang": "fr"
   },
   "source": [
    "À mesure que le niveau d'eau de mer augmente et atteint l'intérieur des terres, il peut causer de l'érosion, plus d'inondations, et une perte d'habitat pour les poissons, les oiseaux et les plantes. Cela affecte également la vie de millions de personnes qui vivent dans des îles de faible altitude exposées aux inondations et dans d’autres régions côtières."
   ]
  },
  {
   "cell_type": "markdown",
   "metadata": {
    "lang": "fr"
   },
   "source": [
    "Vous trouverez ci-dessous les données qui illustrent les changements du niveau de la mer depuis 1993 à partir des observations de la NASA par satellite."
   ]
  },
  {
   "cell_type": "code",
   "execution_count": null,
   "metadata": {},
   "outputs": [],
   "source": [
    "sea_level_url = 'https://www.star.nesdis.noaa.gov/sod/lsa/SeaLevelRise/slr/slr_sla_gbl_keep_all_66.csv' \n",
    "sea_level_df = pd.read_csv(sea_level_url, sep=',', skiprows=[0,1,2,3,4,5],header=None, names=['Year', 'TP', 'Jason-1', 'Jason-2', 'Jason-3'])\n",
    "\n",
    "def convert_partial_year(number):\n",
    "    year = int(number)\n",
    "    d = timedelta(days=(number - year)*365)\n",
    "    day_one = datetime(year,1,1)\n",
    "    date = d + day_one\n",
    "    return date\n",
    "\n",
    "sea_level_df['Date'] = sea_level_df['Year'].apply(convert_partial_year)\n",
    "\n",
    "trace0 = go.Scatter(\n",
    "    x = sea_level_df['Date'],\n",
    "    y = sea_level_df['TP'],\n",
    "    mode = 'lines+markers',\n",
    "    name = 'TOPEX-Poseiden'\n",
    ")\n",
    "\n",
    "trace1 = go.Scatter(\n",
    "    x = sea_level_df['Date'],\n",
    "    y = sea_level_df['Jason-1'],\n",
    "    mode = 'lines+markers',\n",
    "    name = 'Jason-1'\n",
    ")\n",
    "\n",
    "trace2 = go.Scatter(\n",
    "    x = sea_level_df['Date'],\n",
    "    y = sea_level_df['Jason-2'],\n",
    "    mode = 'lines+markers',\n",
    "    name = 'Jason-2'\n",
    ")\n",
    "\n",
    "trace3 = go.Scatter(\n",
    "    x = sea_level_df['Date'],\n",
    "    y = sea_level_df['Jason-3'],\n",
    "    mode = 'lines+markers',\n",
    "    name = 'Jason-3'\n",
    ")\n",
    "\n",
    "data = [trace0,trace1,trace2,trace3]\n",
    "layout = go.Layout(dict(title='Changement du niveau moyen mondial de la mer par altimétrie par satellite'),\n",
    "                   xaxis=dict(title='Date'),\n",
    "                   yaxis=dict(title='Changement du niveau moyen de la mer (mm)')\n",
    ")\n",
    "fig = go.Figure(data=data,layout=layout)\n",
    "fig.show()"
   ]
  },
  {
   "cell_type": "markdown",
   "metadata": {
    "lang": "fr"
   },
   "source": [
    "### Questions\n",
    "\n",
    "#### Anomalies de température enregistrées au Canada:\n",
    "\n",
    "Le graphique ci-dessous illustre les écarts de température annuels moyens au Canada de 1948 à 2014, comparé à la valeur de référence de 1961-1990 (ou les températures moyennes enregistrées entre 1961 et 1990). Les données proviennent du portail de données ouvertes du gouvernement du Canada:  https://open.canada.ca/data/en/dataset/49118c5d-850c-40bd-af75-4f47650a9800\n",
    "\n",
    "Regardez le graphique et répondez aux questions qui suivent."
   ]
  },
  {
   "cell_type": "code",
   "execution_count": null,
   "metadata": {},
   "outputs": [],
   "source": [
    "ca_url = 'https://www.canada.ca/content/dam/eccc/documents/csv/cesindicators/temperature-change/2019/Temperature-change-annual-en.csv'\n",
    "ca_df = pd.read_csv(ca_url, encoding='iso-8859-1', skiprows=[0,1,74,75,76,77])\n",
    "\n",
    "trace0 = go.Scatter(\n",
    "    x = ca_df['Year'],\n",
    "    y = ca_df['Temperature departure (degree Celsius)'],\n",
    "    mode = 'lines+markers',\n",
    "    name = 'Moyenne annuelle'\n",
    ")\n",
    "\n",
    "trace1 = go.Scatter(\n",
    "x = ca_df['Year'],\n",
    "y = [0]*len(ca_df['Temperature departure (degree Celsius)']),\n",
    "mode = 'lines',\n",
    "opacity = 0.5,\n",
    "name='Valeur de référence',\n",
    "hoverinfo = 'none'\n",
    ")\n",
    "data = [trace0, trace1]\n",
    "layout = go.Layout(dict(title='Variation de la température moyenne annuelle au Canada'),\n",
    "                   xaxis=dict(title='Date'),\n",
    "                   yaxis=dict(title='Écart de température (Celsius)')\n",
    ")\n",
    "fig = go.Figure(data=data,layout=layout)\n",
    "fig.show()"
   ]
  },
  {
   "cell_type": "markdown",
   "metadata": {
    "lang": "fr"
   },
   "source": [
    "1. Quelle a été l'année la plus chaude et la plus froide au Canada, et de combien de degrés était-elle supérieure ou inférieure à la valeur de référence?"
   ]
  },
  {
   "cell_type": "markdown",
   "metadata": {
    "lang": "fr"
   },
   "source": [
    "_Tapez les réponses ici._"
   ]
  },
  {
   "cell_type": "markdown",
   "metadata": {
    "lang": "fr"
   },
   "source": [
    "2. Voyez-vous une tendance dans la température moyenne annuelle de départ? S'agit-il d'une tendance à la hausse ou à la baisse et que signifie-t-elle?"
   ]
  },
  {
   "cell_type": "markdown",
   "metadata": {
    "lang": "fr"
   },
   "source": [
    "_Tapez les réponses ici._"
   ]
  },
  {
   "cell_type": "markdown",
   "metadata": {},
   "source": [
    "[![Callysto.ca License](https://github.com/callysto/curriculum-notebooks/blob/master/callysto-notebook-banner-bottom.jpg?raw=true)](https://github.com/callysto/curriculum-notebooks/blob/master/LICENSE.md)"
   ]
  }
 ],
 "metadata": {
  "kernelspec": {
   "display_name": "Python 3",
   "language": "python",
   "name": "python3"
  },
  "language_info": {
   "codemirror_mode": {
    "name": "ipython",
    "version": 3
   },
   "file_extension": ".py",
   "mimetype": "text/x-python",
   "name": "python",
   "nbconvert_exporter": "python",
   "pygments_lexer": "ipython3",
   "version": "3.7.6"
  },
  "nbTranslate": {
   "displayLangs": [
    "*"
   ],
   "hotkey": "alt-t",
   "langInMainMenu": true,
   "sourceLang": "en",
   "targetLang": "fr",
   "useGoogleTranslate": true
  }
 },
 "nbformat": 4,
 "nbformat_minor": 2
}
