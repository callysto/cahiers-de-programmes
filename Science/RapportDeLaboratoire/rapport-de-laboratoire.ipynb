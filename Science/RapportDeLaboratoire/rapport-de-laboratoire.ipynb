{
 "cells": [
  {
   "cell_type": "markdown",
   "metadata": {},
   "source": [
    "![Callysto.ca Banner](https://github.com/callysto/curriculum-notebooks/blob/master/callysto-notebook-banner-top.jpg?raw=true)\n",
    "\n",
    "<a href=\"https://hub.callysto.ca/jupyter/hub/user-redirect/git-pull?repo=https%3A%2F%2Fgithub.com%2Fcallysto%2Fcahiers-de-programmes&branch=master&subPath=Science/ModèleDeRapportDeLaboratoire/modèle-de-rapport-de-laboratoire.ipynb&depth=1\" target=\"_parent\"><img src=\"https://raw.githubusercontent.com/callysto/cahiers-de-programmes/master/bouton-callysto.svg?sanitize=true\" width=\"123\" height=\"24\" alt=\"Open in Callysto\"/></a>"
   ]
  },
  {
   "cell_type": "markdown",
   "metadata": {
    "lang": "fr"
   },
   "source": [
    "# Rapport de laboratoire : titre\n",
    " \n",
    "Nom et classe : \n",
    "\n",
    "\n",
    "\n",
    "## Le but\n",
    "\n",
    "\n",
    "\n",
    "## L'hypothèse\n",
    "\n",
    "\n",
    "\n",
    "## Le matériel\n",
    "\n",
    "\n",
    "\n",
    "##  Les manipulations\n",
    "1. \n",
    "2. \n",
    "3. \n",
    "\n",
    "## Les résultats\n",
    "\n",
    "Modifiez, ajoutez ou supprimez des noms de variables dans la première ligne de la cellule de code ci-dessous, puis exécutez la cellule pour créer votre table de données."
   ]
  },
  {
   "cell_type": "code",
   "execution_count": null,
   "metadata": {},
   "outputs": [],
   "source": [
    "columns = ['Variable1','Variable2','Variable3']\n",
    "\n",
    "import pandas as pd\n",
    "import ipydatagrid\n",
    "import ipywidgets as ipw\n",
    "import plotly.express as px\n",
    "\n",
    "def ajouter_ligne(x):\n",
    "    grid = grille_donnees.get_visible_data()\n",
    "    extra_row = [0] * len(grid.columns)\n",
    "    grid.loc[len(grid.index)] = extra_row\n",
    "    grille_donnees.data = grid\n",
    "\n",
    "def supprimer_ligne(x):\n",
    "    grid = grille_donnees.get_visible_data()\n",
    "    grille_donnees.data = grid.drop(grid.tail(1).index)\n",
    "    \n",
    "dfb = pd.DataFrame(columns=columns)\n",
    "dfb.loc[len(dfb.index)] = [0]*len(columns) # ajouter une ligne avec des valeurs par défaut\n",
    "grille_donnees = ipydatagrid.DataGrid(dataframe=dfb, show_toolbar=True, editable=True, auto_fit_columns=True)\n",
    "\n",
    "bouton_ajouter_ligne = ipw.Button(description=\"ajouter une ligne\", style=ipw.ButtonStyle(button_color='darkgreen'))\n",
    "bouton_supprimer_ligne = ipw.Button(description=\"supprimer une ligne\", style=ipw.ButtonStyle(button_color='darkred'))\n",
    "\n",
    "bouton_ajouter_ligne.on_click(ajouter_ligne)\n",
    "bouton_supprimer_ligne.on_click(supprimer_ligne)\n",
    "\n",
    "ipw.VBox([ipw.HBox([bouton_ajouter_ligne,bouton_supprimer_ligne]), grille_donnees])"
   ]
  },
  {
   "cell_type": "markdown",
   "metadata": {},
   "source": [
    "## L'analyse\n",
    "\n",
    "\n"
   ]
  },
  {
   "cell_type": "code",
   "execution_count": null,
   "metadata": {},
   "outputs": [],
   "source": [
    "titre_du_graphique = ''\n",
    "variable_x = 'Variable1'\n",
    "variable_y = 'Variable2'\n",
    "\n",
    "df = grille_donnees.get_visible_data()\n",
    "px.scatter(df, x=variable_x, y=variable_y, title=titre_du_graphique)"
   ]
  },
  {
   "cell_type": "markdown",
   "metadata": {},
   "source": [
    "## La conclusion\n",
    "\n"
   ]
  },
  {
   "cell_type": "markdown",
   "metadata": {},
   "source": [
    "[![Callysto.ca License](https://github.com/callysto/curriculum-notebooks/blob/master/callysto-notebook-banner-bottom.jpg?raw=true)](https://github.com/callysto/curriculum-notebooks/blob/master/LICENSE.md)"
   ]
  }
 ],
 "metadata": {
  "kernelspec": {
   "display_name": "Python 3.8.10 64-bit",
   "language": "python",
   "name": "python3"
  },
  "language_info": {
   "codemirror_mode": {
    "name": "ipython",
    "version": 3
   },
   "file_extension": ".py",
   "mimetype": "text/x-python",
   "name": "python",
   "nbconvert_exporter": "python",
   "pygments_lexer": "ipython3",
   "version": "3.11.3"
  },
  "nbTranslate": {
   "displayLangs": [
    "*"
   ],
   "hotkey": "alt-t",
   "langInMainMenu": true,
   "sourceLang": "en",
   "targetLang": "fr",
   "useGoogleTranslate": true
  },
  "vscode": {
   "interpreter": {
    "hash": "916dbcbb3f70747c44a77c7bcd40155683ae19c65e1c03b4aa3499c5328201f1"
   }
  }
 },
 "nbformat": 4,
 "nbformat_minor": 2
}
