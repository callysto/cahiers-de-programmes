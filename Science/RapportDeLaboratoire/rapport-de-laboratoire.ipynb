{
 "cells": [
  {
   "cell_type": "markdown",
   "metadata": {},
   "source": [
    "![Callysto.ca Banner](https://github.com/callysto/curriculum-notebooks/blob/master/callysto-notebook-banner-top.jpg?raw=true)\n",
    "\n",
    "<a href=\"https://hub.callysto.ca/jupyter/hub/user-redirect/git-pull?repo=https%3A%2F%2Fgithub.com%2Fcallysto%2Fcahiers-de-programmes&branch=master&subPath=Science/ModèleDeRapportDeLaboratoire/modèle-de-rapport-de-laboratoire.ipynb&depth=1\" target=\"_parent\"><img src=\"https://raw.githubusercontent.com/callysto/cahiers-de-programmes/master/bouton-callysto.svg?sanitize=true\" width=\"123\" height=\"24\" alt=\"Open in Callysto\"/></a>"
   ]
  },
  {
   "cell_type": "markdown",
   "metadata": {
    "lang": "fr"
   },
   "source": [
    "# Rapport de laboratoire : titre\n",
    " \n",
    "Nom et classe : \n",
    "\n",
    "\n",
    "\n",
    "## Le but\n",
    "\n",
    "\n",
    "\n",
    "## L'hypothèse\n",
    "\n",
    "\n",
    "\n",
    "## Le matériel\n",
    "\n",
    "\n",
    "\n",
    "##  Les manipulations\n",
    "1. \n",
    "2. \n",
    "3. \n",
    "\n",
    "## Les résultats\n",
    "\n",
    "\n"
   ]
  },
  {
   "cell_type": "code",
   "execution_count": null,
   "metadata": {},
   "outputs": [],
   "source": [
    "# ajouter ou supprimer des noms de variables en dessous puis exécutez la cellule\n",
    "colonnes = ['Variable1','Variable2','Variable3']\n",
    "\n",
    "import pandas as pd\n",
    "import qgrid\n",
    "dfb = pd.DataFrame(columns=colonnes)\n",
    "dfb.loc[len(dfb.index)] = [0]*len(colonnes) # ajouter une ligne avec des valeurs par défaut\n",
    "dfq = qgrid.QgridWidget(df=dfb, show_toolbar=True)\n",
    "dfq"
   ]
  },
  {
   "cell_type": "markdown",
   "metadata": {},
   "source": [
    "## L'analyse\n",
    "\n",
    "\n"
   ]
  },
  {
   "cell_type": "code",
   "execution_count": null,
   "metadata": {},
   "outputs": [],
   "source": [
    "titre_du_graphique = ''\n",
    "variable_x = 'Variable1'\n",
    "variable_y = 'Variable2'\n",
    "\n",
    "import plotly.express as px\n",
    "df = dfq.get_changed_df()\n",
    "fig = px.scatter(df, x=variable_x, y=variable_y, title=titre_du_graphique)\n",
    "fig.show()"
   ]
  },
  {
   "cell_type": "markdown",
   "metadata": {},
   "source": [
    "## La conclusion\n",
    "\n"
   ]
  },
  {
   "cell_type": "markdown",
   "metadata": {},
   "source": [
    "[![Callysto.ca License](https://github.com/callysto/curriculum-notebooks/blob/master/callysto-notebook-banner-bottom.jpg?raw=true)](https://github.com/callysto/curriculum-notebooks/blob/master/LICENSE.md)"
   ]
  }
 ],
 "metadata": {
  "kernelspec": {
   "display_name": "Python 3.8.10 64-bit",
   "language": "python",
   "name": "python3"
  },
  "language_info": {
   "codemirror_mode": {
    "name": "ipython",
    "version": 3
   },
   "file_extension": ".py",
   "mimetype": "text/x-python",
   "name": "python",
   "nbconvert_exporter": "python",
   "pygments_lexer": "ipython3",
   "version": "3.8.10"
  },
  "nbTranslate": {
   "displayLangs": [
    "*"
   ],
   "hotkey": "alt-t",
   "langInMainMenu": true,
   "sourceLang": "en",
   "targetLang": "fr",
   "useGoogleTranslate": true
  },
  "vscode": {
   "interpreter": {
    "hash": "916dbcbb3f70747c44a77c7bcd40155683ae19c65e1c03b4aa3499c5328201f1"
   }
  }
 },
 "nbformat": 4,
 "nbformat_minor": 2
}
