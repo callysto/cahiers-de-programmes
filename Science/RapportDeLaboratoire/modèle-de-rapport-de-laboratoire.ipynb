{
 "cells": [
  {
   "cell_type": "markdown",
   "metadata": {},
   "source": [
    "![Callysto.ca Banner](https://github.com/callysto/curriculum-notebooks/blob/master/callysto-notebook-banner-top.jpg?raw=true)\n",
    "\n",
    "<a href=\"https://hub.callysto.ca/jupyter/hub/user-redirect/git-pull?repo=https%3A%2F%2Fgithub.com%2Fcallysto%2Fcahiers-de-programmes&branch=master&subPath=Science/ModèleDeRapportDeLaboratoire/modèle-de-rapport-de-laboratoire.ipynb&depth=1\" target=\"_parent\"><img src=\"https://raw.githubusercontent.com/callysto/cahiers-de-programmes/master/bouton-callysto.svg?sanitize=true\" width=\"123\" height=\"24\" alt=\"Open in Callysto\"/></a>"
   ]
  },
  {
   "cell_type": "markdown",
   "metadata": {
    "lang": "fr"
   },
   "source": [
    "# Modèle de rapport de laboratoire\n",
    " \n",
    "Ceci est le modèle de rapport de laboratoire générique qui peut être personnalisé pour être utilisé avec les rapports de laboratoire de l'étudiant. Pour un tutoriel sur l'utilisation de certaines des fonctions utilisées ici, [cliquez sur ce lien] (Lab Report Template Tutorial.ipynb). Si c'est la première fois que vous utilisez le modèle, nous vous recommandons de lire le tutoriel avant d'aller plus loin."
   ]
  },
  {
   "cell_type": "code",
   "execution_count": null,
   "metadata": {},
   "outputs": [],
   "source": [
    "# Importing our helper functions \n",
    "from lab_template_helpers import easy_table, graph_table"
   ]
  },
  {
   "cell_type": "markdown",
   "metadata": {
    "lang": "fr"
   },
   "source": [
    "# Contexte\n",
    " \n",
    " Décrivez le contexte et la motivation du laboratoire ici.\n",
    " \n",
    " # Procédure expérimentale\n",
    " \n",
    " Expliquez la procédure expérimentale ici.\n",
    " \n",
    " # Hypothèse de l'élève\n",
    " \n",
    " Demandez aux élèves d'expliquer leur hypothèse ici après avoir lu le contexte et la procédure expérimentale.\n",
    " \n",
    " # Questions pré-labo\n",
    " \n",
    " Si vous avez des questions avant le laboratoire, entrez-les ici.\n",
    " \n",
    " 1. Question 1\n",
    " 2. Question 2\n",
    " 3. Question 3.\n",
    " 4. ...\n",
    "\n",
    "## Créer une table vide\n",
    "\n",
    "Vous pouvez créer et enregistrer un tableau vide ici.\n",
    "\n",
    "REMARQUE: Vous pouvez supprimer cette cellule une fois que vous avez créé le fichier ou demander aux étudiants de créer eux-mêmes leurs propres tableaux."
   ]
  },
  {
   "cell_type": "code",
   "execution_count": null,
   "metadata": {},
   "outputs": [],
   "source": [
    "easy_table.create_table('data_table_file.csv')"
   ]
  },
  {
   "cell_type": "markdown",
   "metadata": {
    "lang": "fr"
   },
   "source": [
    "# Charger votre tableau créé"
   ]
  },
  {
   "cell_type": "code",
   "execution_count": null,
   "metadata": {},
   "outputs": [],
   "source": [
    "my_table = easy_table.load_table(\"data_table_file.csv\")\n",
    "my_table"
   ]
  },
  {
   "cell_type": "markdown",
   "metadata": {
    "lang": "fr"
   },
   "source": [
    "# Charger le CSV en ligne ou local\n",
    "\n",
    " Remarque: S'il s'agit d'un fichier local sur votre compte / le compte de votre étudiant, tapez simplement le chemin du fichier ci-dessous au lieu d'une URL."
   ]
  },
  {
   "cell_type": "code",
   "execution_count": null,
   "metadata": {},
   "outputs": [],
   "source": [
    "online_table = easy_table.load_table(\"https://raw.githubusercontent.com/mwaskom/seaborn-data/master/iris.csv\", \n",
    "                      external=True)\n",
    "online_table"
   ]
  },
  {
   "cell_type": "markdown",
   "metadata": {
    "lang": "fr"
   },
   "source": [
    "# Tracer un graphique des résultats du tableau"
   ]
  },
  {
   "cell_type": "code",
   "execution_count": null,
   "metadata": {},
   "outputs": [],
   "source": [
    "graph_table.graph_from_table(online_table)"
   ]
  },
  {
   "cell_type": "markdown",
   "metadata": {
    "lang": "fr"
   },
   "source": [
    "# Résultats et constatations des élèves\n",
    "\n",
    "## Discussion\n",
    "\n",
    "Tapez votre discussion de vos constatations et vos résultats ici.\n",
    "\n",
    "## Conclusion\n",
    "\n",
    "Tapez vos conclusions ici."
   ]
  },
  {
   "cell_type": "markdown",
   "metadata": {},
   "source": [
    "[![Callysto.ca License](https://github.com/callysto/curriculum-notebooks/blob/master/callysto-notebook-banner-bottom.jpg?raw=true)](https://github.com/callysto/curriculum-notebooks/blob/master/LICENSE.md)"
   ]
  }
 ],
 "metadata": {
  "kernelspec": {
   "display_name": "Python 3",
   "language": "python",
   "name": "python3"
  },
  "language_info": {
   "codemirror_mode": {
    "name": "ipython",
    "version": 3
   },
   "file_extension": ".py",
   "mimetype": "text/x-python",
   "name": "python",
   "nbconvert_exporter": "python",
   "pygments_lexer": "ipython3",
   "version": "3.7.6"
  },
  "nbTranslate": {
   "displayLangs": [
    "*"
   ],
   "hotkey": "alt-t",
   "langInMainMenu": true,
   "sourceLang": "en",
   "targetLang": "fr",
   "useGoogleTranslate": true
  }
 },
 "nbformat": 4,
 "nbformat_minor": 2
}
